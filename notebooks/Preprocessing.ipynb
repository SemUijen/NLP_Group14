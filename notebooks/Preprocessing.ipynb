{
 "cells": [
  {
   "cell_type": "markdown",
   "id": "43d31155-d02a-4249-8fe7-71e34963c7c5",
   "metadata": {},
   "source": [
    "# 1. Preprocessing\n",
    "\n",
    "Bron: https://www.kaggle.com/code/small34/nlp-final-tfidf"
   ]
  },
  {
   "cell_type": "code",
   "execution_count": 1,
   "id": "227d8e2f-ebec-4fb4-a8a9-3eff2888211c",
   "metadata": {},
   "outputs": [],
   "source": [
    "from functools import reduce\n",
    "\n",
    "import re\n",
    "\n",
    "from nltk.tokenize import word_tokenize\n",
    "from nltk.corpus import words\n",
    "from bs4 import BeautifulSoup\n",
    "from tqdm import tqdm\n",
    "\n",
    "import matplotlib.pyplot as plt\n",
    "import pandas as pd\n",
    "import numpy as np\n",
    "import spacy"
   ]
  },
  {
   "cell_type": "code",
   "execution_count": 2,
   "id": "4d16c8b3-65f6-4f10-9901-e4d1d5a4daa1",
   "metadata": {},
   "outputs": [],
   "source": [
    "tqdm.pandas()"
   ]
  },
  {
   "cell_type": "code",
   "execution_count": 3,
   "id": "06aa59d2-d31d-4431-8e71-e08eb8dc31d6",
   "metadata": {},
   "outputs": [],
   "source": [
    "df_data = pd.read_csv(\"../data/aapl_us_equities_news_proc_data.csv\")"
   ]
  },
  {
   "cell_type": "code",
   "execution_count": 4,
   "id": "3ee6c5ce-8de5-4144-9683-f41ad80e761b",
   "metadata": {
    "tags": []
   },
   "outputs": [],
   "source": [
    "nlp = spacy.load(\"en_core_web_sm\")"
   ]
  },
  {
   "cell_type": "markdown",
   "id": "ef4a9c9d-e119-458a-8e50-326ea48f611f",
   "metadata": {
    "tags": []
   },
   "source": [
    "## 1.1 Consolidate text\n",
    "\n",
    "Concats every article and title together per day"
   ]
  },
  {
   "cell_type": "code",
   "execution_count": 5,
   "id": "1a0aac7c-f819-40d6-9069-fbe27d7e31b3",
   "metadata": {},
   "outputs": [],
   "source": [
    "def concat(series):\n",
    "    return reduce(lambda x, y: x + \" \" + y, series)\n",
    "\n",
    "\n",
    "# Group by date\n",
    "df_data = df_data.groupby(\"date\").agg({\"title\": concat, \"content\": concat, \"target\": \"first\"})\n",
    "\n",
    "# Concat title and content\n",
    "df_data[\"text\"] = df_data[\"title\"] + \" \" + df_data[\"content\"]\n",
    "\n",
    "# Remove index\n",
    "df_data = df_data.reset_index()\n",
    "\n",
    "# Select columns\n",
    "df_data = df_data[[\"text\", \"target\"]]"
   ]
  },
  {
   "cell_type": "markdown",
   "id": "7ad20348-cb76-44a3-9122-2fdba168b75a",
   "metadata": {},
   "source": [
    "## 1.2 Remove HTML tags\n",
    "\n",
    "Removes HTML tags using `beautifulsoup`"
   ]
  },
  {
   "cell_type": "code",
   "execution_count": 6,
   "id": "f21cda14-523d-4280-8a42-afd2e77b2c54",
   "metadata": {},
   "outputs": [
    {
     "name": "stderr",
     "output_type": "stream",
     "text": [
      "100%|███████████████████████████████████████████████████████████████████████████████████████████████████████████████████████████████████████████████████████████████████████████████████████████████████████████████████████████████████| 1740/1740 [00:00<00:00, 4421.25it/s]\n"
     ]
    }
   ],
   "source": [
    "def remove_html_tags(text):\n",
    "    \"\"\"\n",
    "    Remove html tags from text.\n",
    "    \"\"\"\n",
    "    soup = BeautifulSoup(text, \"html.parser\")\n",
    "\n",
    "    stripped_text = soup.get_text(separator=\" \")\n",
    "\n",
    "    return stripped_text\n",
    "\n",
    "\n",
    "df_data[\"text\"] = df_data.progress_apply(lambda row : remove_html_tags(row[\"text\"]), axis = 1)"
   ]
  },
  {
   "cell_type": "markdown",
   "id": "008d1ce0-08b3-49ce-8afa-1b9f40156654",
   "metadata": {},
   "source": [
    "## 1.3 Remove EOL characters\n",
    "\n",
    "Removes characters like: `\\n`, `\\t`, `\\r`"
   ]
  },
  {
   "cell_type": "code",
   "execution_count": 7,
   "id": "c5b95c62-097f-4961-9d4b-f0b7b1366a2a",
   "metadata": {
    "tags": []
   },
   "outputs": [
    {
     "name": "stderr",
     "output_type": "stream",
     "text": [
      "100%|███████████████████████████████████████████████████████████████████████████████████████████████████████████████████████████████████████████████████████████████████████████████████████████████████████████████████████████████████| 1740/1740 [00:00<00:00, 5505.00it/s]\n"
     ]
    }
   ],
   "source": [
    "def remove_eol_characters(text):\n",
    "    \"\"\"\n",
    "    Remove EOL characters from text.\n",
    "    \"\"\"\n",
    "    return re.sub(r\"(\\n|\\t|\\r)\", \"\", text)\n",
    "\n",
    "\n",
    "df_data[\"text\"] = df_data.progress_apply(lambda row: remove_eol_characters(row[\"text\"]), axis=1)"
   ]
  },
  {
   "cell_type": "markdown",
   "id": "264bb3e0-a7ca-4db3-b2d4-3118c41fb442",
   "metadata": {},
   "source": [
    "## 1.4 Remove other characters\n",
    "\n",
    "Removes all characters except: `a-z`, `A-Z`, `À-ȕ`"
   ]
  },
  {
   "cell_type": "code",
   "execution_count": 8,
   "id": "913361e9-a214-44d1-b331-bd303652cfd4",
   "metadata": {},
   "outputs": [
    {
     "name": "stderr",
     "output_type": "stream",
     "text": [
      "100%|████████████████████████████████████████████████████████████████████████████████████████████████████████████████████████████████████████████████████████████████████████████████████████████████████████████████████████████████████| 1740/1740 [00:02<00:00, 707.61it/s]\n"
     ]
    }
   ],
   "source": [
    "def remove_other_characters(text):\n",
    "    \"\"\"\n",
    "    Remove other characters from text.\n",
    "    \"\"\"\n",
    "    return re.sub(r\"[^a-zA-ZÀ-ȕ]\", \" \", text)\n",
    "\n",
    "\n",
    "df_data[\"text\"] = df_data.progress_apply(lambda row: remove_other_characters(row[\"text\"]), axis=1)"
   ]
  },
  {
   "cell_type": "markdown",
   "id": "1a249792-b1e2-4598-beb5-7faf11a128b5",
   "metadata": {},
   "source": [
    "## 1.5 Remove excessive spaces\n",
    "\n",
    "Removes excessive spaces in some documents"
   ]
  },
  {
   "cell_type": "code",
   "execution_count": 9,
   "id": "300f0f7d-9622-4f56-b3a9-6d4f4ef72d81",
   "metadata": {},
   "outputs": [
    {
     "name": "stderr",
     "output_type": "stream",
     "text": [
      "100%|███████████████████████████████████████████████████████████████████████████████████████████████████████████████████████████████████████████████████████████████████████████████████████████████████████████████████████████████████| 1740/1740 [00:01<00:00, 1608.77it/s]\n"
     ]
    }
   ],
   "source": [
    "def remove_excessive_spaces(text):\n",
    "    \"\"\"\n",
    "    Remove excessive spaces from text.\n",
    "    \"\"\"\n",
    "    return re.sub(r\"\\s{2,}\", \" \", text)\n",
    "\n",
    "\n",
    "df_data[\"text\"] = df_data.progress_apply(lambda row: remove_excessive_spaces(row[\"text\"]), axis=1)"
   ]
  },
  {
   "cell_type": "markdown",
   "id": "ff2facfe-129f-4088-8079-c2c6c6d95203",
   "metadata": {},
   "source": [
    "## 1.6 Convert to lowercase\n",
    "\n",
    "Converts all characters to lowercase"
   ]
  },
  {
   "cell_type": "code",
   "execution_count": 10,
   "id": "09f03f2c-a82c-41d8-a04b-5c4a52d02fc3",
   "metadata": {},
   "outputs": [
    {
     "name": "stderr",
     "output_type": "stream",
     "text": [
      "100%|██████████████████████████████████████████████████████████████████████████████████████████████████████████████████████████████████████████████████████████████████████████████████████████████████████████████████████████████████| 1740/1740 [00:00<00:00, 35206.47it/s]\n"
     ]
    }
   ],
   "source": [
    "def convert_to_lowercase(text):\n",
    "    \"\"\"\n",
    "    Convert to lowercase.\n",
    "    \"\"\"\n",
    "    return text.lower()\n",
    "\n",
    "\n",
    "df_data[\"text\"] = df_data.progress_apply(lambda row: convert_to_lowercase(row[\"text\"]), axis=1)"
   ]
  },
  {
   "cell_type": "markdown",
   "id": "545d65ba-843f-4b75-8b9a-2f0853b3ab8e",
   "metadata": {},
   "source": [
    "## 1.7 Remove non-dictionary words, single-character words, stopwords and lemmatize\n",
    "\n",
    "Removes words that do not occur in the english dictionary, words that consist of one character, words that are a stopword and lemmatizes the remaining words"
   ]
  },
  {
   "cell_type": "code",
   "execution_count": 11,
   "id": "f1b0da38-35a7-45ef-8578-296c5b3df0f6",
   "metadata": {},
   "outputs": [],
   "source": [
    "dictionary = set(words.words())\n",
    "\n",
    "\n",
    "def remove_non_dictionary_single_character_stopwords_lemmatize(text):\n",
    "    \"\"\"\n",
    "    Remove non-dictionary words, single character words, stopwords and lemmatize\n",
    "    text.\n",
    "    \"\"\"\n",
    "    return \" \".join(token.lemma_ for token in nlp(text) if len(token.text) > 1 and not token.is_stop and token.text in dictionary)\n",
    "\n",
    "\n",
    "# df_data[\"text\"] = df_data.progress_apply(lambda row: remove_non_dictionary_single_character_stopwords_lemmatize(row[\"text\"]), axis=1)"
   ]
  },
  {
   "cell_type": "markdown",
   "id": "6253cd4f-34f1-4cc2-b95b-47a3e61426d2",
   "metadata": {},
   "source": [
    "## 1.8 Other\n",
    "\n",
    "Bron: https://www.kaggle.com/code/small34/nlp-final-tfidf"
   ]
  },
  {
   "cell_type": "code",
   "execution_count": 12,
   "id": "267e769b-1786-4d03-975d-b2f4976cac17",
   "metadata": {},
   "outputs": [
    {
     "name": "stderr",
     "output_type": "stream",
     "text": [
      "100%|███████████████████████████████████████████████████████████████████████████████████████████████████████████████████████████████████████████████████████████████████████████████████████████████████████████████████████████████████████████| 5/5 [00:00<00:00, 10.31it/s]\n"
     ]
    },
    {
     "data": {
      "text/plain": [
       "'wait for direction on the market this stock market have be a difficult one for trader and investor alike the directionless choppiness have combine to create a climate of maximum frustration for many professional that I have talk to unfortunately the volatility be likely to continue and I be still wait for sign of direction the bear casefor a market analyst the bear case be easy to make cyclical leadership be weaken and defensive leadership continue to be dominant consider the chart below of the relative performance of consumer discretionary xly against the market spy this sector which have be the leader for close to two year have decline through a relative performance trendline which indicate falter relative strength the relative performance of the morgan stanley cyclical index tell an ugly story cyclical stock remain in a relative downtrend against the market with no bottom in sight if there be an economic rebound then it should show up in this sector this weakness be confirm by recent downbeat comment by where he indicate that across a range of berkshire s brk a brk b business growth be decelerate the technology sector continue to look sick the chart below show the relative performance of the equal weight nasdaq index qqew which take out the strength of heavyweight like apple aapl relative to the market in the meantime defensive sector such as consumer staple continue to lead investor have also go wild for yield which have push up the relative performance of utility this sector appear to be consolidate its relative gain after a period of outperformance in addition report that insider be sell more than normal which be bearish the macro picture be full of risk china be slow and be at risk of a hard landing europe isn t resolve and the us as show by the analysis above appear to be slow in the face of the upcoming fiscal cliff don t be too eager to go short on the other hand I wouldn t be too eager to get overly bearish here long term sentiment measure be scream buy citigroup s panic euphoria indicator via be flash a panic signal indicate a chance of a rally the same go for boaml s equity strategist savita subramanian write emphasis add after trigger a buy signal in may our measure of wall street bullishness on stock decline again mark the ninth time in eleven month that the indicator have fall the ppt decline push the indicator down to the first time below in nearly year suggest that sell side strategist be now more bearish on equity than they be at any point during the collapse of the tech bubble or the recent financial crisis give the contrarian nature of this indicator we be encourage by wall street s lack of optimism and the fact that strategist be recommend that investor significantly underweight equity vs a traditional long term average benchmark weighting of in fact the safe haven trade look awfully crowded here I know there have be lot of voice call for a treasury bond bubble but consider how far the safe haven trade have go france which have not be a model of fiscal restraint but got lump in with germany by the market have its yield less than in fact in a history that stretch back to the s with long term sentiment model show this much bearishness trader who go short run the risk of get their face rip off in a market melt up on any hint of positive news as they do friday sign of stabilization I be start to see sign of stabilization despite the huge macro risk overhang the eurozone the euro stoxx have stage an upside breakout from a downtrend and appear to be try to put in a bottom which indicate that the bad may be over commodity price which be highly sensitive to china s growth outlook also appear to be bottom I have have comment from reader that the rise in commodity price may be relate to the rally in the grain which be weather relate a look at the price of dr copper which be not weather sensitive also show a similar pattern of stabilization no capitulation yetlong term investor may be tempt to get long here but I would also caution against go all in because we have not see sign of investor capitulation yet in the most recent bout of market weakness a broker contact I have tell I that client be call up to ask be it time to buy yet these be not sign of a durable intermediate term bottom my indicator of asset relative performance be not show sign of a wash out in sentiment either though they be get close this chart of the relative performance of spy against tlt which represent long treasury be get close to panic level but not yet similarly a long term chart of canada s venture exchange index of junior stock against the more senior tsx composite be tell the same story get close but we need a bit more pain moreover the upside for the bull may be limit we have be in a range bind market since the nasdaq peak in if the trading range be to continue then the upside potential for the bull may be limit at these level a market of maximum frustration in short this have be a market of maximum frustration my inner investor be accumulate position but he be afraid that we could see a downdraft on some dramatic news that could take the market down my inner trader doesn t know what to do his instinct tell he to get short but the risk of a rebound be too great he be mostly step aside and wait for market development to give he an indication of direction disclosure cam hui be a portfolio manager at qw this article be prepare by mr hui as an outside business activity as such qw do not review or approve material present herein the opinion and any recommendation express in this blog be those of the author and do not reflect the opinion or recommendation of qw none of the information or opinion express in this blog constitute a solicitation for the purchase or sale of any security or other instrument nothing in this article constitute investment advice and any recommendation that may be contain herein have not be base upon a consideration of the investment objective financial situation or particular need of any specific recipient any purchase or sale activity in any security or other instrument should be base upon your own analysis and conclusion past performance be not indicative of future result either qw or mr hui may hold or control long or short position in the security or instrument mention'"
      ]
     },
     "execution_count": 12,
     "metadata": {},
     "output_type": "execute_result"
    }
   ],
   "source": [
    "def lemmatize(text):\n",
    "    return \" \".join(token.lemma_ for token in nlp(text))\n",
    "\n",
    "\n",
    "df_data.iloc[0:5].progress_apply(lambda row: lemmatize(row[\"text\"]), axis=1).iloc[0]"
   ]
  },
  {
   "cell_type": "code",
   "execution_count": 13,
   "id": "2a29a239-7c26-4579-b635-d48e5be3bfd2",
   "metadata": {},
   "outputs": [
    {
     "name": "stderr",
     "output_type": "stream",
     "text": [
      "100%|███████████████████████████████████████████████████████████████████████████████████████████████████████████████████████████████████████████████████████████████████████████████████████████████████████████████████████████████████████████| 5/5 [00:01<00:00,  4.20it/s]\n"
     ]
    },
    {
     "data": {
      "text/plain": [
       "'wait for direction on the market this stock market have be a difficult one for trader and investor alike the directionless choppiness have combine to create a climate of maximum frustration for many professional that i have talk to unfortunately the volatility be likely to continue and i be still wait for sign of direction the bear casefor a market analyst the bear case be easy to make cyclical leadership be weaken and defensive leadership continue to be dominant consider the chart below of the relative performance of consumer discretionary xly against the market spy this sector which have be the leader for close to two year have decline through a relative performance trendline which indicate falter relative strength the relative performance of the morgan stanley cyclical index tell an ugly story cyclical stock remain in a relative downtrend against the market with no bottom in sight if there be an economic rebound then it should show up in this sector this weakness be confirm by recent downbeat comment by where he indicate that across a range of berkshire s brk a brk b business growth be decelerate the technology sector continue to look sick the chart below show the relative performance of the equal weight nasdaq index qqew which take out the strength of heavyweight like apple aapl relative to the market in the meantime defensive sector such as consumer staple continue to lead investor have also go wild for yield which have push up the relative performance of utility this sector appear to be consolidate its relative gain after a period of outperformance in addition report that insider be sell more than normal which be bearish the macro picture be full of risk china be slow and be at risk of a hard landing europe isn t resolve and the u as show by the analysis above appear to be slow in the face of the upcoming fiscal cliff don t be too eager to go short on the other hand i wouldn t be too eager to get overly bearish here long term sentiment measure be scream buy citigroup s panic euphoria indicator via be flash a panic signal indicate a chance of a rally the same go for boaml s equity strategist savita subramanian write emphasis add after trigger a buy signal in may our measure of wall street bullishness on stock decline again mark the ninth time in eleven month that the indicator have fall the ppt decline push the indicator down to the first time below in nearly year suggest that sell side strategist be now more bearish on equity than they be at any point during the collapse of the tech bubble or the recent financial crisis give the contrarian nature of this indicator we be encourage by wall street s lack of optimism and the fact that strategist be recommend that investor significantly underweight equity vs a traditional long term average benchmark weighting of in fact the safe haven trade look awfully crowded here i know there have be lot of voice call for a treasury bond bubble but consider how far the safe haven trade have go france which have not be a model of fiscal restraint but get lump in with germany by the market have its yield less than in fact in a history that stretch back to the s with long term sentiment model show this much bearishness trader who go short run the risk of get their face rip off in a market melt up on any hint of positive news as they do friday sign of stabilization i be start to see sign of stabilization despite the huge macro risk overhang the eurozone the euro stoxx have stag an upside breakout from a downtrend and appear to be try to put in a bottom which indicate that the bad may be over commodity price which be highly sensitive to china s growth outlook also appear to be bottom i have have comment from reader that the rise in commodity price may be relate to the rally in the grain which be weather relate a look at the price of dr copper which be not weather sensitive also show a similar pattern of stabilization no capitulation yetlong term investor may be tempt to get long here but i would also caution against go all in because we have not see sign of investor capitulation yet in the most recent bout of market weakness a broker contact i have tell me that client be call up to ask be it time to buy yet these be not sign of a durable intermediate term bottom my indicator of asset relative performance be not show sign of a wash out in sentiment either though they be get close this chart of the relative performance of spy against tlt which represent long treasury be get close to panic level but not yet similarly a long term chart of canada s venture exchange index of junior stock against the more senior tsx composite be tell the same story get close but we need a bit more pain moreover the upside for the bull may be limit we have be in a range bind market since the nasdaq peak in if the trading range be to continue then the upside potential for the bull may be limit at these level a market of maximum frustration in short this have be a market of maximum frustration my inner investor be accumulate position but he be afraid that we could see a downdraft on some dramatic news that could take the market down my inner trader doesn t know what to do his instinct tell him to get short but the risk of a rebound be too great he be mostly step aside and wait for market development to give him an indication of direction disclosure cam hui be a portfolio manager at qwest this article be prepare by mr hui as an outside business activity as such qwest do not review or approve material present herein the opinion and any recommendation express in this blog be those of the author and do not reflect the opinion or recommendation of qwest none of the information or opinion express in this blog constitute a solicitation for the purchase or sale of any security or other instrument nothing in this article constitute investment advice and any recommendation that may be contain herein have not be base upon a consideration of the investment objectives financial situation or particular need of any specific recipient any purchase or sale activity in any security or other instrument should be base upon your own analysis and conclusion past performance be not indicative of future result either qwest or mr hui may hold or control long or short position in the security or instrument mention'"
      ]
     },
     "execution_count": 13,
     "metadata": {},
     "output_type": "execute_result"
    }
   ],
   "source": [
    "from nltk.stem import WordNetLemmatizer\n",
    "\n",
    "\n",
    "lemma = WordNetLemmatizer()\n",
    "\n",
    "\n",
    "def lemmatize_pos(text):\n",
    "    return \" \".join([lemma.lemmatize(token.text, pos=\"n\") if token.tag_.startswith(\"N\") else\n",
    "                     lemma.lemmatize(token.text, pos=\"v\") if token.tag_.startswith(\"V\") else\n",
    "                     lemma.lemmatize(token.text, pos=\"a\") if token.tag_.startswith(\"JJ\") else\n",
    "                     lemma.lemmatize(token.text, pos=\"r\") if token.tag_.startswith(\"R\") else\n",
    "                     token.text for token in nlp(text)])\n",
    "\n",
    "\n",
    "df_data.iloc[0:5].progress_apply(lambda row: lemmatize_pos(row[\"text\"]), axis=1).iloc[0]"
   ]
  },
  {
   "cell_type": "code",
   "execution_count": 14,
   "id": "259c0928-8cff-4fba-90dd-efa42c0069f9",
   "metadata": {},
   "outputs": [
    {
     "name": "stderr",
     "output_type": "stream",
     "text": [
      "100%|███████████████████████████████████████████████████████████████████████████████████████████████████████████████████████████████████████████████████████████████████████████████████████████████████████████████████████████████████████████| 5/5 [00:00<00:00, 13.53it/s]\n"
     ]
    },
    {
     "data": {
      "text/plain": [
       "'wait for direction on the market this stock market have be a difficult one for trader and investor alike the directionless choppiness have combine to create a climate of maximum frustration for many professional that i have talk to unfortunately the volatility be likely to continue and i be still wait for sign of direction the bear casefor a market analyst the bear case be easy to make cyclical leadership be weaken and defensive leadership continue to be dominant consider the chart below of the relative performance of consumer discretionary xly against the market spy this sector which have be the leader for close to two year have decline through a relative performance trendline which indicate falter relative strength the relative performance of the morgan stanley cyclical index tell an ugly story cyclical stock remain in a relative downtrend against the market with no bottom in sight if there be an economic rebound then it should show up in this sector this weakness be confirm by recent downbeat comment by where he indicate that across a range of berkshire s brk a brk b business growth be decelerate the technology sector continue to look sick the chart below show the relative performance of the equal weight nasdaq index qqew which take out the strength of heavyweight like apple aapl relative to the market in the meantime defensive sector such as consumer staple continue to lead investor have also go wild for yield which have push up the relative performance of utility this sector appear to be consolidate its relative gain after a period of outperformance in addition report that insider be sell more than normal which be bearish the macro picture be full of risk china be slow and be at risk of a hard landing europe isn t resolve and the u as show by the analysis above appear to be slow in the face of the upcoming fiscal cliff don t be too eager to go short on the other hand i wouldn t be too eager to get overly bearish here long term sentiment measure be scream buy citigroup s panic euphoria indicator via be flash a panic signal indicate a chance of a rally the same go for boaml s equity strategist savita subramanian write emphasis add after trigger a buy signal in may our measure of wall street bullishness on stock decline again mark the ninth time in eleven month that the indicator have fall the ppt decline push the indicator down to the first time below in nearly year suggest that sell side strategist be now more bearish on equity than they be at any point during the collapse of the tech bubble or the recent financial crisis give the contrarian nature of this indicator we be encourage by wall street s lack of optimism and the fact that strategist be recommend that investor significantly underweight equity vs a traditional long term average benchmark weighting of in fact the safe haven trade look awfully crowded here i know there have be lot of voice call for a treasury bond bubble but consider how far the safe haven trade have go france which have not be a model of fiscal restraint but get lump in with germany by the market have its yield less than in fact in a history that stretch back to the s with long term sentiment model show this much bearishness trader who go short run the risk of get their face rip off in a market melt up on any hint of positive news as they do friday sign of stabilization i be start to see sign of stabilization despite the huge macro risk overhang the eurozone the euro stoxx have stag an upside breakout from a downtrend and appear to be try to put in a bottom which indicate that the bad may be over commodity price which be highly sensitive to china s growth outlook also appear to be bottom i have have comment from reader that the rise in commodity price may be relate to the rally in the grain which be weather relate a look at the price of dr copper which be not weather sensitive also show a similar pattern of stabilization no capitulation yetlong term investor may be tempt to get long here but i would also caution against go all in because we have not see sign of investor capitulation yet in the most recent bout of market weakness a broker contact i have tell me that client be call up to ask be it time to buy yet these be not sign of a durable intermediate term bottom my indicator of asset relative performance be not show sign of a wash out in sentiment either though they be get close this chart of the relative performance of spy against tlt which represent long treasury be get close to panic level but not yet similarly a long term chart of canada s venture exchange index of junior stock against the more senior tsx composite be tell the same story get close but we need a bit more pain moreover the upside for the bull may be limit we have be in a range bind market since the nasdaq peak in if the trading range be to continue then the upside potential for the bull may be limit at these level a market of maximum frustration in short this have be a market of maximum frustration my inner investor be accumulate position but he be afraid that we could see a downdraft on some dramatic news that could take the market down my inner trader doesn t know what to do his instinct tell him to get short but the risk of a rebound be too great he be mostly step aside and wait for market development to give him an indication of direction disclosure cam hui be a portfolio manager at qwest this article be prepare by mr hui as an outside business activity as such qwest do not review or approve material present herein the opinion and any recommendation express in this blog be those of the author and do not reflect the opinion or recommendation of qwest none of the information or opinion express in this blog constitute a solicitation for the purchase or sale of any security or other instrument nothing in this article constitute investment advice and any recommendation that may be contain herein have not be base upon a consideration of the investment objectives financial situation or particular need of any specific recipient any purchase or sale activity in any security or other instrument should be base upon your own analysis and conclusion past performance be not indicative of future result either qwest or mr hui may hold or control long or short position in the security or instrument mention'"
      ]
     },
     "execution_count": 14,
     "metadata": {},
     "output_type": "execute_result"
    }
   ],
   "source": [
    "from nltk.stem import WordNetLemmatizer\n",
    "from nltk.stem.snowball import PorterStemmer\n",
    "\n",
    "\n",
    "stemmer = PorterStemmer()\n",
    "lemma = WordNetLemmatizer()\n",
    "\n",
    "\n",
    "def stemming_lemmatize_pos(text):\n",
    "    return \" \".join([lemma.lemmatize(token.text, pos=\"n\") if token.tag_.startswith(\"N\") else\n",
    "                     lemma.lemmatize(token.text, pos=\"v\") if token.tag_.startswith(\"V\") else\n",
    "                     lemma.lemmatize(token.text, pos=\"a\") if token.tag_.startswith(\"JJ\") else\n",
    "                     lemma.lemmatize(token.text, pos=\"r\") if token.tag_.startswith(\"R\") else\n",
    "                     token.text for token in nlp(stemmer.stem(text))])\n",
    "\n",
    "\n",
    "df_data.iloc[0:5].progress_apply(lambda row: stemming_lemmatize_pos(row[\"text\"]), axis=1).iloc[0]"
   ]
  }
 ],
 "metadata": {
  "kernelspec": {
   "display_name": "Python 3 (ipykernel)",
   "language": "python",
   "name": "python3"
  },
  "language_info": {
   "codemirror_mode": {
    "name": "ipython",
    "version": 3
   },
   "file_extension": ".py",
   "mimetype": "text/x-python",
   "name": "python",
   "nbconvert_exporter": "python",
   "pygments_lexer": "ipython3",
   "version": "3.8.10"
  }
 },
 "nbformat": 4,
 "nbformat_minor": 5
}
