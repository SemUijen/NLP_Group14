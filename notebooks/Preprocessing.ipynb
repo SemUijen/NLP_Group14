{
 "cells": [
  {
   "cell_type": "code",
   "execution_count": 93,
   "metadata": {},
   "outputs": [],
   "source": [
    "import pandas as pd\n",
    "import re\n",
    "from nltk.tokenize import word_tokenize\n",
    "import spacy"
   ]
  },
  {
   "cell_type": "code",
   "execution_count": 94,
   "metadata": {},
   "outputs": [],
   "source": [
    "STOCK_NEWS_DATASET_FILE = \"../data/aapl_us_equities_news.csv\""
   ]
  },
  {
   "cell_type": "code",
   "execution_count": 95,
   "metadata": {},
   "outputs": [],
   "source": [
    "df_content = pd.read_csv(STOCK_NEWS_DATASET_FILE)['content']\n",
    "nlp = spacy.load('en_core_web_sm') # Load spacy model"
   ]
  },
  {
   "cell_type": "code",
   "execution_count": 96,
   "metadata": {},
   "outputs": [],
   "source": [
    "def clean_txt(txt):\n",
    "\n",
    "    \"\"\"\n",
    "    Input: Text\n",
    "\n",
    "    Remove every non-alphanumeric characters\n",
    "    Lowercase every word except 'AAPL'\n",
    "\n",
    "    Output: Text\n",
    "    \"\"\"\n",
    "\n",
    "    # Onderstaande twee regels van https://towardsdatascience.com/nlp-text-preprocessing-steps-tools-and-examples-94c91ce5d30\n",
    "    txt = re.sub(r'\\W+', ' ', txt) # Vervant alle non-alphanumeric characters 1 of meer met een spatie. \n",
    "    txt = txt.replace(\"[^a-zA-Z]\", \" \") # Vervangt alle niet letters in spaties\n",
    "    \n",
    "    words = [word.lower() if word != \"AAPL\" else word for word in txt.split(' ')] # Capslocks verwijderen voor alle woorden behalve AAPL\n",
    "    txt_temp = \" \".join(words) # Join losse woorden weer samen tot 1 text    \n",
    "\n",
    "\n",
    "    \n",
    "    return txt_temp"
   ]
  },
  {
   "cell_type": "code",
   "execution_count": 97,
   "metadata": {},
   "outputs": [],
   "source": [
    "def remove_stopwords(text):\n",
    "\n",
    "    \"\"\"\n",
    "    Input: Text\n",
    "    Remove stopwords and lemmatize text.\n",
    "    Output: Text\n",
    "    \"\"\"\n",
    "\n",
    "    return \" \".join(token.lemma_ for token in nlp(text) if not token.is_stop)"
   ]
  },
  {
   "cell_type": "code",
   "execution_count": 106,
   "metadata": {},
   "outputs": [
    {
     "name": "stdout",
     "output_type": "stream",
     "text": [
      "nan\n",
      "nan\n",
      "nan\n",
      "nan\n",
      "nan\n",
      "nan\n",
      "nan\n",
      "nan\n"
     ]
    }
   ],
   "source": [
    "# Execute functions in sequential order\n",
    "\n",
    "clean_text = []\n",
    "\n",
    "for text in df_content:\n",
    "\n",
    "    try: \n",
    "        text_temp = clean_txt(text)\n",
    "        text_temp2 = remove_stopwords(text_temp)\n",
    "\n",
    "        clean_text.append(text_temp2)\n",
    "    except:\n",
    "        print(text)\n"
   ]
  },
  {
   "cell_type": "code",
   "execution_count": 111,
   "metadata": {},
   "outputs": [],
   "source": [
    "os.chdir(r'C:\\Users\\Elske\\Documents\\NLP local')\n",
    "pd.DataFrame(clean_text).to_csv('Preprocessed_Newsarticles_1okt2022.csv')"
   ]
  },
  {
   "cell_type": "markdown",
   "metadata": {},
   "source": [
    "### NOTES ###"
   ]
  },
  {
   "cell_type": "code",
   "execution_count": 67,
   "metadata": {},
   "outputs": [
    {
     "data": {
      "text/plain": [
       "['ride']"
      ]
     },
     "execution_count": 67,
     "metadata": {},
     "output_type": "execute_result"
    }
   ],
   "source": [
    "# Lemma even testen\n",
    "token = 'riding'\n",
    "[token.lemma_ for token in nlp(token)]"
   ]
  },
  {
   "cell_type": "code",
   "execution_count": 70,
   "metadata": {},
   "outputs": [],
   "source": [
    "# New stop words list \n",
    "customize_stop_words = [\n",
    "    ':)'\n",
    "]\n",
    "\n",
    "# Mark them as stop words\n",
    "for w in customize_stop_words:\n",
    "    nlp.vocab[w].is_stop = True"
   ]
  },
  {
   "cell_type": "markdown",
   "metadata": {},
   "source": [
    "### Alert zijn op volgende punten:\n",
    "* US wordt getokenized als u en s\n"
   ]
  }
 ],
 "metadata": {
  "kernelspec": {
   "display_name": "Python 3.9.12 ('base')",
   "language": "python",
   "name": "python3"
  },
  "language_info": {
   "codemirror_mode": {
    "name": "ipython",
    "version": 3
   },
   "file_extension": ".py",
   "mimetype": "text/x-python",
   "name": "python",
   "nbconvert_exporter": "python",
   "pygments_lexer": "ipython3",
   "version": "3.9.12"
  },
  "orig_nbformat": 4,
  "vscode": {
   "interpreter": {
    "hash": "523cb6cbe16609983eb854e548129e134322e6f39961d58c210521dd31248f11"
   }
  }
 },
 "nbformat": 4,
 "nbformat_minor": 2
}
