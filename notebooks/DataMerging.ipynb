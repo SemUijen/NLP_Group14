{
 "cells": [
  {
   "cell_type": "markdown",
   "id": "f2a2d1b0-bc07-431e-afa6-24729fa326df",
   "metadata": {
    "tags": []
   },
   "source": [
    "# 1. Data Merging"
   ]
  },
  {
   "cell_type": "code",
   "execution_count": 1,
   "id": "8903d13b-ec1c-4ec2-b945-7591a0456421",
   "metadata": {},
   "outputs": [],
   "source": [
    "import pandas_market_calendars as mcal\n",
    "import pandas as pd\n",
    "import numpy as np"
   ]
  },
  {
   "cell_type": "code",
   "execution_count": 2,
   "id": "3764d550-723e-4239-a2a2-c5c9c046ca7e",
   "metadata": {},
   "outputs": [],
   "source": [
    "STOCK_DATASET_FILE = \"../data/aapl.csv\"\n",
    "NEWS_DATASET_FILE = \"../data/us_equities_news.csv\"\n",
    "STOCK_NEWS_FULL_DATASET_FILE = \"../data/aapl_us_equities_news_full.csv\"\n",
    "STOCK_NEWS_SPARSE_DATASET_FILE = \"../data/aapl_us_equities_news_sparse.csv\""
   ]
  },
  {
   "cell_type": "markdown",
   "id": "89ab47a5-b6eb-4469-bcb4-3b7a88fab656",
   "metadata": {},
   "source": [
    "## 1.1 Load data"
   ]
  },
  {
   "cell_type": "markdown",
   "id": "f30bc981-1918-4661-8fc7-a0cf90cf016b",
   "metadata": {},
   "source": [
    "### 1.1.1 Load stock data"
   ]
  },
  {
   "cell_type": "code",
   "execution_count": 3,
   "id": "d465e810-e59a-4f28-b61a-50af503d208e",
   "metadata": {},
   "outputs": [
    {
     "name": "stdout",
     "output_type": "stream",
     "text": [
      "CPU times: user 8.18 ms, sys: 24 µs, total: 8.2 ms\n",
      "Wall time: 7.65 ms\n"
     ]
    }
   ],
   "source": [
    "%%time\n",
    "df_aapl = pd.read_csv(STOCK_DATASET_FILE)"
   ]
  },
  {
   "cell_type": "markdown",
   "id": "a60d089c-8b55-469e-89a9-d71fe3871af0",
   "metadata": {},
   "source": [
    "### 1.1.2 Load news data"
   ]
  },
  {
   "cell_type": "code",
   "execution_count": 4,
   "id": "06b9df03-dd8f-445e-a1ce-69c96fee03f5",
   "metadata": {},
   "outputs": [
    {
     "name": "stdout",
     "output_type": "stream",
     "text": [
      "CPU times: user 4.74 s, sys: 309 ms, total: 5.05 s\n",
      "Wall time: 5.05 s\n"
     ]
    }
   ],
   "source": [
    "%%time\n",
    "df_us_equities_news = pd.read_csv(NEWS_DATASET_FILE)"
   ]
  },
  {
   "cell_type": "markdown",
   "id": "884ac6bf-2fe9-4d82-9997-6c6a3b74fe39",
   "metadata": {},
   "source": [
    "## 1.2 Prepare data"
   ]
  },
  {
   "cell_type": "markdown",
   "id": "5394ecd9-cda5-4b10-a4c8-fe7a01fb4a0f",
   "metadata": {},
   "source": [
    "### 1.2.1 Prepare stock data"
   ]
  },
  {
   "cell_type": "code",
   "execution_count": 5,
   "id": "b48bd8ad-46a1-477e-a071-bc1b195cf95c",
   "metadata": {},
   "outputs": [],
   "source": [
    "df_aapl = df_aapl.rename(columns={\n",
    "    \"Date\": \"date\",\n",
    "    \"Open\": \"open\",\n",
    "    \"High\": \"high\",\n",
    "    \"Low\": \"low\",\n",
    "    \"Close\": \"close\",\n",
    "    \"Adj Close\": \"adj_close\",\n",
    "    \"Volume\": \"volume\",\n",
    "})"
   ]
  },
  {
   "cell_type": "code",
   "execution_count": 6,
   "id": "f7ac6947-0a5a-45fd-8fd3-a56e24e36226",
   "metadata": {},
   "outputs": [],
   "source": [
    "df_aapl[\"date\"] = pd.to_datetime(df_aapl[\"date\"])\n",
    "df_aapl[\"open\"] = df_aapl[\"open\"].astype(\"float\")\n",
    "df_aapl[\"high\"] = df_aapl[\"high\"].astype(\"float\")\n",
    "df_aapl[\"low\"] = df_aapl[\"low\"].astype(\"float\")\n",
    "df_aapl[\"close\"] = df_aapl[\"close\"].astype(\"float\")\n",
    "df_aapl[\"adj_close\"] = df_aapl[\"adj_close\"].astype(\"float\")\n",
    "df_aapl[\"volume\"] = df_aapl[\"volume\"].astype(int)"
   ]
  },
  {
   "cell_type": "markdown",
   "id": "3d7b8664-0a0b-41eb-854c-f3d57f177275",
   "metadata": {},
   "source": [
    "### 1.2.2 Prepare news data"
   ]
  },
  {
   "cell_type": "code",
   "execution_count": 7,
   "id": "4454ced8-a0b4-403a-a9c7-f5c4698a14b2",
   "metadata": {},
   "outputs": [],
   "source": [
    "df_us_equities_news = df_us_equities_news.rename(columns={\"release_date\": \"date\"})"
   ]
  },
  {
   "cell_type": "code",
   "execution_count": 8,
   "id": "3b4eead0-9b66-42d4-b221-ffd8b78e1160",
   "metadata": {
    "tags": []
   },
   "outputs": [],
   "source": [
    "df_us_equities_news[\"id\"] = df_us_equities_news[\"id\"].astype(int)\n",
    "df_us_equities_news[\"ticker\"] = df_us_equities_news[\"ticker\"].astype(\"category\")\n",
    "df_us_equities_news[\"title\"] = df_us_equities_news[\"title\"].astype(str)\n",
    "df_us_equities_news[\"category\"] = df_us_equities_news[\"category\"].astype(\"category\")\n",
    "df_us_equities_news[\"content\"] = df_us_equities_news[\"content\"].astype(str)\n",
    "df_us_equities_news[\"date\"] = pd.to_datetime(df_us_equities_news[\"date\"])\n",
    "df_us_equities_news[\"provider\"] = df_us_equities_news[\"provider\"].astype(\"category\")\n",
    "df_us_equities_news[\"url\"] = df_us_equities_news[\"url\"].astype(str)\n",
    "df_us_equities_news[\"article_id\"] = df_us_equities_news[\"article_id\"].astype(int)"
   ]
  },
  {
   "cell_type": "markdown",
   "id": "9dbe7e47-c56c-4cac-97ee-2f11ab7a966e",
   "metadata": {
    "tags": []
   },
   "source": [
    "## 1.3 Join data"
   ]
  },
  {
   "cell_type": "code",
   "execution_count": 9,
   "id": "0b52832d-cf48-4b70-85c2-00c105a0fee9",
   "metadata": {
    "tags": []
   },
   "outputs": [],
   "source": [
    "df_aapl_us_equities_news_full = pd.merge(df_us_equities_news, df_aapl, on=\"date\", how=\"right\").sort_values(\"date\")"
   ]
  },
  {
   "cell_type": "code",
   "execution_count": 10,
   "id": "67ba2753-adcb-49fa-9166-7610c322bb7d",
   "metadata": {},
   "outputs": [],
   "source": [
    "df_aapl_us_equities_news_sparse = pd.merge(df_us_equities_news, df_aapl, on=\"date\", how=\"inner\").sort_values(\"date\")"
   ]
  },
  {
   "cell_type": "markdown",
   "id": "81aecf28-9354-47d4-85ff-12976209de26",
   "metadata": {
    "tags": []
   },
   "source": [
    "## 1.4 Inspect data"
   ]
  },
  {
   "cell_type": "code",
   "execution_count": 11,
   "id": "a256a04f-9145-4571-96ed-40eae7576be0",
   "metadata": {},
   "outputs": [
    {
     "data": {
      "text/html": [
       "<div>\n",
       "<style scoped>\n",
       "    .dataframe tbody tr th:only-of-type {\n",
       "        vertical-align: middle;\n",
       "    }\n",
       "\n",
       "    .dataframe tbody tr th {\n",
       "        vertical-align: top;\n",
       "    }\n",
       "\n",
       "    .dataframe thead th {\n",
       "        text-align: right;\n",
       "    }\n",
       "</style>\n",
       "<table border=\"1\" class=\"dataframe\">\n",
       "  <thead>\n",
       "    <tr style=\"text-align: right;\">\n",
       "      <th></th>\n",
       "      <th>id</th>\n",
       "      <th>ticker</th>\n",
       "      <th>title</th>\n",
       "      <th>category</th>\n",
       "      <th>content</th>\n",
       "      <th>date</th>\n",
       "      <th>provider</th>\n",
       "      <th>url</th>\n",
       "      <th>article_id</th>\n",
       "      <th>open</th>\n",
       "      <th>high</th>\n",
       "      <th>low</th>\n",
       "      <th>close</th>\n",
       "      <th>adj_close</th>\n",
       "      <th>volume</th>\n",
       "    </tr>\n",
       "  </thead>\n",
       "  <tbody>\n",
       "    <tr>\n",
       "      <th>0</th>\n",
       "      <td>227446.0</td>\n",
       "      <td>KNMCY</td>\n",
       "      <td>INTERVIEW UPDATE 2 Square Enix enjoys robust y...</td>\n",
       "      <td>news</td>\n",
       "      <td>Year end demand healthy despite economy\\n   ...</td>\n",
       "      <td>2009-01-15</td>\n",
       "      <td>Reuters</td>\n",
       "      <td>https://www.investing.com/news/forex-news/inte...</td>\n",
       "      <td>20706.0</td>\n",
       "      <td>2.8775</td>\n",
       "      <td>3.004286</td>\n",
       "      <td>2.858929</td>\n",
       "      <td>2.977857</td>\n",
       "      <td>2.542589</td>\n",
       "      <td>1831634000</td>\n",
       "    </tr>\n",
       "    <tr>\n",
       "      <th>19</th>\n",
       "      <td>388968.0</td>\n",
       "      <td>BBY</td>\n",
       "      <td>UPDATE 4 DSG to cut more costs as sales fall w...</td>\n",
       "      <td>news</td>\n",
       "      <td>Xmas lfl sales down 10 percent  gross margin...</td>\n",
       "      <td>2009-01-15</td>\n",
       "      <td>Reuters</td>\n",
       "      <td>https://www.investing.com/news/forex-news/upda...</td>\n",
       "      <td>20724.0</td>\n",
       "      <td>2.8775</td>\n",
       "      <td>3.004286</td>\n",
       "      <td>2.858929</td>\n",
       "      <td>2.977857</td>\n",
       "      <td>2.542589</td>\n",
       "      <td>1831634000</td>\n",
       "    </tr>\n",
       "    <tr>\n",
       "      <th>18</th>\n",
       "      <td>342945.0</td>\n",
       "      <td>NYT</td>\n",
       "      <td>Lack of fame aids Geithner over US tax mistake</td>\n",
       "      <td>news</td>\n",
       "      <td>By Matthew Bigg\\n ATLANTA  Jan 15  Reuters    ...</td>\n",
       "      <td>2009-01-15</td>\n",
       "      <td>Reuters</td>\n",
       "      <td>https://www.investing.com/news/forex-news/lack...</td>\n",
       "      <td>20995.0</td>\n",
       "      <td>2.8775</td>\n",
       "      <td>3.004286</td>\n",
       "      <td>2.858929</td>\n",
       "      <td>2.977857</td>\n",
       "      <td>2.542589</td>\n",
       "      <td>1831634000</td>\n",
       "    </tr>\n",
       "    <tr>\n",
       "      <th>17</th>\n",
       "      <td>326167.0</td>\n",
       "      <td>TGT</td>\n",
       "      <td>CORRECTED   Depression ahead  prepare for stoc...</td>\n",
       "      <td>news</td>\n",
       "      <td>Corrects figure in paragraph 3 \\n LONDON  Jan...</td>\n",
       "      <td>2009-01-15</td>\n",
       "      <td>Reuters</td>\n",
       "      <td>https://www.investing.com/news/forex-news/corr...</td>\n",
       "      <td>20779.0</td>\n",
       "      <td>2.8775</td>\n",
       "      <td>3.004286</td>\n",
       "      <td>2.858929</td>\n",
       "      <td>2.977857</td>\n",
       "      <td>2.542589</td>\n",
       "      <td>1831634000</td>\n",
       "    </tr>\n",
       "    <tr>\n",
       "      <th>16</th>\n",
       "      <td>326166.0</td>\n",
       "      <td>TGT</td>\n",
       "      <td>Euro area CPI Falls Down To 1 6  In December</td>\n",
       "      <td>news</td>\n",
       "      <td>Release Explanation  The CPI measures the aver...</td>\n",
       "      <td>2009-01-15</td>\n",
       "      <td>LFB Forex</td>\n",
       "      <td>https://www.investing.com/news/forex-news/euro...</td>\n",
       "      <td>20745.0</td>\n",
       "      <td>2.8775</td>\n",
       "      <td>3.004286</td>\n",
       "      <td>2.858929</td>\n",
       "      <td>2.977857</td>\n",
       "      <td>2.542589</td>\n",
       "      <td>1831634000</td>\n",
       "    </tr>\n",
       "    <tr>\n",
       "      <th>15</th>\n",
       "      <td>326165.0</td>\n",
       "      <td>TGT</td>\n",
       "      <td>German Final CPI Rose In December  As Expected</td>\n",
       "      <td>news</td>\n",
       "      <td>Release Explanation  The CPI measures the aver...</td>\n",
       "      <td>2009-01-15</td>\n",
       "      <td>LFB Forex</td>\n",
       "      <td>https://www.investing.com/news/forex-news/germ...</td>\n",
       "      <td>20694.0</td>\n",
       "      <td>2.8775</td>\n",
       "      <td>3.004286</td>\n",
       "      <td>2.858929</td>\n",
       "      <td>2.977857</td>\n",
       "      <td>2.542589</td>\n",
       "      <td>1831634000</td>\n",
       "    </tr>\n",
       "    <tr>\n",
       "      <th>14</th>\n",
       "      <td>326120.0</td>\n",
       "      <td>TGT</td>\n",
       "      <td>UPDATE 2 Fed s Evans   U S  in midst of seriou...</td>\n",
       "      <td>news</td>\n",
       "      <td>Updates with comments from Q A \\n By Kristina...</td>\n",
       "      <td>2009-01-15</td>\n",
       "      <td>Reuters</td>\n",
       "      <td>https://www.investing.com/news/forex-news/upda...</td>\n",
       "      <td>20979.0</td>\n",
       "      <td>2.8775</td>\n",
       "      <td>3.004286</td>\n",
       "      <td>2.858929</td>\n",
       "      <td>2.977857</td>\n",
       "      <td>2.542589</td>\n",
       "      <td>1831634000</td>\n",
       "    </tr>\n",
       "    <tr>\n",
       "      <th>13</th>\n",
       "      <td>326119.0</td>\n",
       "      <td>TGT</td>\n",
       "      <td>Fed s Yellen   US must act aggressively on eco...</td>\n",
       "      <td>news</td>\n",
       "      <td>SAN FRANCISCO  Jan 15  Reuters    The United S...</td>\n",
       "      <td>2009-01-15</td>\n",
       "      <td>Reuters</td>\n",
       "      <td>https://www.investing.com/news/forex-news/fed'...</td>\n",
       "      <td>20976.0</td>\n",
       "      <td>2.8775</td>\n",
       "      <td>3.004286</td>\n",
       "      <td>2.858929</td>\n",
       "      <td>2.977857</td>\n",
       "      <td>2.542589</td>\n",
       "      <td>1831634000</td>\n",
       "    </tr>\n",
       "    <tr>\n",
       "      <th>11</th>\n",
       "      <td>326117.0</td>\n",
       "      <td>TGT</td>\n",
       "      <td>UPDATE 2 Polish Nov C A gap narrows to 1 748 b...</td>\n",
       "      <td>news</td>\n",
       "      <td>Adds c  banker  other detail \\n By Kuba Jawor...</td>\n",
       "      <td>2009-01-15</td>\n",
       "      <td>Reuters</td>\n",
       "      <td>https://www.investing.com/news/forex-news/upda...</td>\n",
       "      <td>20832.0</td>\n",
       "      <td>2.8775</td>\n",
       "      <td>3.004286</td>\n",
       "      <td>2.858929</td>\n",
       "      <td>2.977857</td>\n",
       "      <td>2.542589</td>\n",
       "      <td>1831634000</td>\n",
       "    </tr>\n",
       "    <tr>\n",
       "      <th>10</th>\n",
       "      <td>298944.0</td>\n",
       "      <td>MSFT</td>\n",
       "      <td>COLUMN What Apple loses without Steve  Eric Au...</td>\n",
       "      <td>news</td>\n",
       "      <td>Eric Auchard is a Reuters columnist  The op...</td>\n",
       "      <td>2009-01-15</td>\n",
       "      <td>Reuters</td>\n",
       "      <td>https://www.investing.com/news/forex-news/colu...</td>\n",
       "      <td>20943.0</td>\n",
       "      <td>2.8775</td>\n",
       "      <td>3.004286</td>\n",
       "      <td>2.858929</td>\n",
       "      <td>2.977857</td>\n",
       "      <td>2.542589</td>\n",
       "      <td>1831634000</td>\n",
       "    </tr>\n",
       "  </tbody>\n",
       "</table>\n",
       "</div>"
      ],
      "text/plain": [
       "          id ticker                                              title  \\\n",
       "0   227446.0  KNMCY  INTERVIEW UPDATE 2 Square Enix enjoys robust y...   \n",
       "19  388968.0    BBY  UPDATE 4 DSG to cut more costs as sales fall w...   \n",
       "18  342945.0    NYT     Lack of fame aids Geithner over US tax mistake   \n",
       "17  326167.0    TGT  CORRECTED   Depression ahead  prepare for stoc...   \n",
       "16  326166.0    TGT       Euro area CPI Falls Down To 1 6  In December   \n",
       "15  326165.0    TGT     German Final CPI Rose In December  As Expected   \n",
       "14  326120.0    TGT  UPDATE 2 Fed s Evans   U S  in midst of seriou...   \n",
       "13  326119.0    TGT  Fed s Yellen   US must act aggressively on eco...   \n",
       "11  326117.0    TGT  UPDATE 2 Polish Nov C A gap narrows to 1 748 b...   \n",
       "10  298944.0   MSFT  COLUMN What Apple loses without Steve  Eric Au...   \n",
       "\n",
       "   category                                            content       date  \\\n",
       "0      news    Year end demand healthy despite economy\\n   ... 2009-01-15   \n",
       "19     news    Xmas lfl sales down 10 percent  gross margin... 2009-01-15   \n",
       "18     news  By Matthew Bigg\\n ATLANTA  Jan 15  Reuters    ... 2009-01-15   \n",
       "17     news   Corrects figure in paragraph 3 \\n LONDON  Jan... 2009-01-15   \n",
       "16     news  Release Explanation  The CPI measures the aver... 2009-01-15   \n",
       "15     news  Release Explanation  The CPI measures the aver... 2009-01-15   \n",
       "14     news   Updates with comments from Q A \\n By Kristina... 2009-01-15   \n",
       "13     news  SAN FRANCISCO  Jan 15  Reuters    The United S... 2009-01-15   \n",
       "11     news   Adds c  banker  other detail \\n By Kuba Jawor... 2009-01-15   \n",
       "10     news     Eric Auchard is a Reuters columnist  The op... 2009-01-15   \n",
       "\n",
       "     provider                                                url  article_id  \\\n",
       "0     Reuters  https://www.investing.com/news/forex-news/inte...     20706.0   \n",
       "19    Reuters  https://www.investing.com/news/forex-news/upda...     20724.0   \n",
       "18    Reuters  https://www.investing.com/news/forex-news/lack...     20995.0   \n",
       "17    Reuters  https://www.investing.com/news/forex-news/corr...     20779.0   \n",
       "16  LFB Forex  https://www.investing.com/news/forex-news/euro...     20745.0   \n",
       "15  LFB Forex  https://www.investing.com/news/forex-news/germ...     20694.0   \n",
       "14    Reuters  https://www.investing.com/news/forex-news/upda...     20979.0   \n",
       "13    Reuters  https://www.investing.com/news/forex-news/fed'...     20976.0   \n",
       "11    Reuters  https://www.investing.com/news/forex-news/upda...     20832.0   \n",
       "10    Reuters  https://www.investing.com/news/forex-news/colu...     20943.0   \n",
       "\n",
       "      open      high       low     close  adj_close      volume  \n",
       "0   2.8775  3.004286  2.858929  2.977857   2.542589  1831634000  \n",
       "19  2.8775  3.004286  2.858929  2.977857   2.542589  1831634000  \n",
       "18  2.8775  3.004286  2.858929  2.977857   2.542589  1831634000  \n",
       "17  2.8775  3.004286  2.858929  2.977857   2.542589  1831634000  \n",
       "16  2.8775  3.004286  2.858929  2.977857   2.542589  1831634000  \n",
       "15  2.8775  3.004286  2.858929  2.977857   2.542589  1831634000  \n",
       "14  2.8775  3.004286  2.858929  2.977857   2.542589  1831634000  \n",
       "13  2.8775  3.004286  2.858929  2.977857   2.542589  1831634000  \n",
       "11  2.8775  3.004286  2.858929  2.977857   2.542589  1831634000  \n",
       "10  2.8775  3.004286  2.858929  2.977857   2.542589  1831634000  "
      ]
     },
     "execution_count": 11,
     "metadata": {},
     "output_type": "execute_result"
    }
   ],
   "source": [
    "df_aapl_us_equities_news_full.head(10)"
   ]
  },
  {
   "cell_type": "code",
   "execution_count": 12,
   "id": "6fb310cc-978f-4e22-b1ca-9aafc4b8d25f",
   "metadata": {},
   "outputs": [
    {
     "data": {
      "text/html": [
       "<div>\n",
       "<style scoped>\n",
       "    .dataframe tbody tr th:only-of-type {\n",
       "        vertical-align: middle;\n",
       "    }\n",
       "\n",
       "    .dataframe tbody tr th {\n",
       "        vertical-align: top;\n",
       "    }\n",
       "\n",
       "    .dataframe thead th {\n",
       "        text-align: right;\n",
       "    }\n",
       "</style>\n",
       "<table border=\"1\" class=\"dataframe\">\n",
       "  <thead>\n",
       "    <tr style=\"text-align: right;\">\n",
       "      <th></th>\n",
       "      <th>id</th>\n",
       "      <th>ticker</th>\n",
       "      <th>title</th>\n",
       "      <th>category</th>\n",
       "      <th>content</th>\n",
       "      <th>date</th>\n",
       "      <th>provider</th>\n",
       "      <th>url</th>\n",
       "      <th>article_id</th>\n",
       "      <th>open</th>\n",
       "      <th>high</th>\n",
       "      <th>low</th>\n",
       "      <th>close</th>\n",
       "      <th>adj_close</th>\n",
       "      <th>volume</th>\n",
       "    </tr>\n",
       "  </thead>\n",
       "  <tbody>\n",
       "    <tr>\n",
       "      <th>163975</th>\n",
       "      <td>292541</td>\n",
       "      <td>BAC</td>\n",
       "      <td>UPDATE 4 Rouble at record low as Russia faces ...</td>\n",
       "      <td>news</td>\n",
       "      <td>Updates with day s interventions and futures ...</td>\n",
       "      <td>2009-01-15</td>\n",
       "      <td>Reuters</td>\n",
       "      <td>https://www.investing.com/news/forex-news/upda...</td>\n",
       "      <td>20872</td>\n",
       "      <td>2.8775</td>\n",
       "      <td>3.004286</td>\n",
       "      <td>2.858929</td>\n",
       "      <td>2.977857</td>\n",
       "      <td>2.542589</td>\n",
       "      <td>1831634000</td>\n",
       "    </tr>\n",
       "    <tr>\n",
       "      <th>163986</th>\n",
       "      <td>388968</td>\n",
       "      <td>BBY</td>\n",
       "      <td>UPDATE 4 DSG to cut more costs as sales fall w...</td>\n",
       "      <td>news</td>\n",
       "      <td>Xmas lfl sales down 10 percent  gross margin...</td>\n",
       "      <td>2009-01-15</td>\n",
       "      <td>Reuters</td>\n",
       "      <td>https://www.investing.com/news/forex-news/upda...</td>\n",
       "      <td>20724</td>\n",
       "      <td>2.8775</td>\n",
       "      <td>3.004286</td>\n",
       "      <td>2.858929</td>\n",
       "      <td>2.977857</td>\n",
       "      <td>2.542589</td>\n",
       "      <td>1831634000</td>\n",
       "    </tr>\n",
       "    <tr>\n",
       "      <th>163985</th>\n",
       "      <td>342945</td>\n",
       "      <td>NYT</td>\n",
       "      <td>Lack of fame aids Geithner over US tax mistake</td>\n",
       "      <td>news</td>\n",
       "      <td>By Matthew Bigg\\n ATLANTA  Jan 15  Reuters    ...</td>\n",
       "      <td>2009-01-15</td>\n",
       "      <td>Reuters</td>\n",
       "      <td>https://www.investing.com/news/forex-news/lack...</td>\n",
       "      <td>20995</td>\n",
       "      <td>2.8775</td>\n",
       "      <td>3.004286</td>\n",
       "      <td>2.858929</td>\n",
       "      <td>2.977857</td>\n",
       "      <td>2.542589</td>\n",
       "      <td>1831634000</td>\n",
       "    </tr>\n",
       "    <tr>\n",
       "      <th>163984</th>\n",
       "      <td>326167</td>\n",
       "      <td>TGT</td>\n",
       "      <td>CORRECTED   Depression ahead  prepare for stoc...</td>\n",
       "      <td>news</td>\n",
       "      <td>Corrects figure in paragraph 3 \\n LONDON  Jan...</td>\n",
       "      <td>2009-01-15</td>\n",
       "      <td>Reuters</td>\n",
       "      <td>https://www.investing.com/news/forex-news/corr...</td>\n",
       "      <td>20779</td>\n",
       "      <td>2.8775</td>\n",
       "      <td>3.004286</td>\n",
       "      <td>2.858929</td>\n",
       "      <td>2.977857</td>\n",
       "      <td>2.542589</td>\n",
       "      <td>1831634000</td>\n",
       "    </tr>\n",
       "    <tr>\n",
       "      <th>163983</th>\n",
       "      <td>326166</td>\n",
       "      <td>TGT</td>\n",
       "      <td>Euro area CPI Falls Down To 1 6  In December</td>\n",
       "      <td>news</td>\n",
       "      <td>Release Explanation  The CPI measures the aver...</td>\n",
       "      <td>2009-01-15</td>\n",
       "      <td>LFB Forex</td>\n",
       "      <td>https://www.investing.com/news/forex-news/euro...</td>\n",
       "      <td>20745</td>\n",
       "      <td>2.8775</td>\n",
       "      <td>3.004286</td>\n",
       "      <td>2.858929</td>\n",
       "      <td>2.977857</td>\n",
       "      <td>2.542589</td>\n",
       "      <td>1831634000</td>\n",
       "    </tr>\n",
       "    <tr>\n",
       "      <th>163982</th>\n",
       "      <td>326165</td>\n",
       "      <td>TGT</td>\n",
       "      <td>German Final CPI Rose In December  As Expected</td>\n",
       "      <td>news</td>\n",
       "      <td>Release Explanation  The CPI measures the aver...</td>\n",
       "      <td>2009-01-15</td>\n",
       "      <td>LFB Forex</td>\n",
       "      <td>https://www.investing.com/news/forex-news/germ...</td>\n",
       "      <td>20694</td>\n",
       "      <td>2.8775</td>\n",
       "      <td>3.004286</td>\n",
       "      <td>2.858929</td>\n",
       "      <td>2.977857</td>\n",
       "      <td>2.542589</td>\n",
       "      <td>1831634000</td>\n",
       "    </tr>\n",
       "    <tr>\n",
       "      <th>163981</th>\n",
       "      <td>326120</td>\n",
       "      <td>TGT</td>\n",
       "      <td>UPDATE 2 Fed s Evans   U S  in midst of seriou...</td>\n",
       "      <td>news</td>\n",
       "      <td>Updates with comments from Q A \\n By Kristina...</td>\n",
       "      <td>2009-01-15</td>\n",
       "      <td>Reuters</td>\n",
       "      <td>https://www.investing.com/news/forex-news/upda...</td>\n",
       "      <td>20979</td>\n",
       "      <td>2.8775</td>\n",
       "      <td>3.004286</td>\n",
       "      <td>2.858929</td>\n",
       "      <td>2.977857</td>\n",
       "      <td>2.542589</td>\n",
       "      <td>1831634000</td>\n",
       "    </tr>\n",
       "    <tr>\n",
       "      <th>163980</th>\n",
       "      <td>326119</td>\n",
       "      <td>TGT</td>\n",
       "      <td>Fed s Yellen   US must act aggressively on eco...</td>\n",
       "      <td>news</td>\n",
       "      <td>SAN FRANCISCO  Jan 15  Reuters    The United S...</td>\n",
       "      <td>2009-01-15</td>\n",
       "      <td>Reuters</td>\n",
       "      <td>https://www.investing.com/news/forex-news/fed'...</td>\n",
       "      <td>20976</td>\n",
       "      <td>2.8775</td>\n",
       "      <td>3.004286</td>\n",
       "      <td>2.858929</td>\n",
       "      <td>2.977857</td>\n",
       "      <td>2.542589</td>\n",
       "      <td>1831634000</td>\n",
       "    </tr>\n",
       "    <tr>\n",
       "      <th>163967</th>\n",
       "      <td>227446</td>\n",
       "      <td>KNMCY</td>\n",
       "      <td>INTERVIEW UPDATE 2 Square Enix enjoys robust y...</td>\n",
       "      <td>news</td>\n",
       "      <td>Year end demand healthy despite economy\\n   ...</td>\n",
       "      <td>2009-01-15</td>\n",
       "      <td>Reuters</td>\n",
       "      <td>https://www.investing.com/news/forex-news/inte...</td>\n",
       "      <td>20706</td>\n",
       "      <td>2.8775</td>\n",
       "      <td>3.004286</td>\n",
       "      <td>2.858929</td>\n",
       "      <td>2.977857</td>\n",
       "      <td>2.542589</td>\n",
       "      <td>1831634000</td>\n",
       "    </tr>\n",
       "    <tr>\n",
       "      <th>163968</th>\n",
       "      <td>254443</td>\n",
       "      <td>TM</td>\n",
       "      <td>TOPWRAP 4 Bank crisis deepens anew  ECB poised...</td>\n",
       "      <td>news</td>\n",
       "      <td>European Central Bank seen cutting interest ...</td>\n",
       "      <td>2009-01-15</td>\n",
       "      <td>Reuters</td>\n",
       "      <td>https://www.investing.com/news/forex-news/topw...</td>\n",
       "      <td>20748</td>\n",
       "      <td>2.8775</td>\n",
       "      <td>3.004286</td>\n",
       "      <td>2.858929</td>\n",
       "      <td>2.977857</td>\n",
       "      <td>2.542589</td>\n",
       "      <td>1831634000</td>\n",
       "    </tr>\n",
       "  </tbody>\n",
       "</table>\n",
       "</div>"
      ],
      "text/plain": [
       "            id ticker                                              title  \\\n",
       "163975  292541    BAC  UPDATE 4 Rouble at record low as Russia faces ...   \n",
       "163986  388968    BBY  UPDATE 4 DSG to cut more costs as sales fall w...   \n",
       "163985  342945    NYT     Lack of fame aids Geithner over US tax mistake   \n",
       "163984  326167    TGT  CORRECTED   Depression ahead  prepare for stoc...   \n",
       "163983  326166    TGT       Euro area CPI Falls Down To 1 6  In December   \n",
       "163982  326165    TGT     German Final CPI Rose In December  As Expected   \n",
       "163981  326120    TGT  UPDATE 2 Fed s Evans   U S  in midst of seriou...   \n",
       "163980  326119    TGT  Fed s Yellen   US must act aggressively on eco...   \n",
       "163967  227446  KNMCY  INTERVIEW UPDATE 2 Square Enix enjoys robust y...   \n",
       "163968  254443     TM  TOPWRAP 4 Bank crisis deepens anew  ECB poised...   \n",
       "\n",
       "       category                                            content       date  \\\n",
       "163975     news   Updates with day s interventions and futures ... 2009-01-15   \n",
       "163986     news    Xmas lfl sales down 10 percent  gross margin... 2009-01-15   \n",
       "163985     news  By Matthew Bigg\\n ATLANTA  Jan 15  Reuters    ... 2009-01-15   \n",
       "163984     news   Corrects figure in paragraph 3 \\n LONDON  Jan... 2009-01-15   \n",
       "163983     news  Release Explanation  The CPI measures the aver... 2009-01-15   \n",
       "163982     news  Release Explanation  The CPI measures the aver... 2009-01-15   \n",
       "163981     news   Updates with comments from Q A \\n By Kristina... 2009-01-15   \n",
       "163980     news  SAN FRANCISCO  Jan 15  Reuters    The United S... 2009-01-15   \n",
       "163967     news    Year end demand healthy despite economy\\n   ... 2009-01-15   \n",
       "163968     news    European Central Bank seen cutting interest ... 2009-01-15   \n",
       "\n",
       "         provider                                                url  \\\n",
       "163975    Reuters  https://www.investing.com/news/forex-news/upda...   \n",
       "163986    Reuters  https://www.investing.com/news/forex-news/upda...   \n",
       "163985    Reuters  https://www.investing.com/news/forex-news/lack...   \n",
       "163984    Reuters  https://www.investing.com/news/forex-news/corr...   \n",
       "163983  LFB Forex  https://www.investing.com/news/forex-news/euro...   \n",
       "163982  LFB Forex  https://www.investing.com/news/forex-news/germ...   \n",
       "163981    Reuters  https://www.investing.com/news/forex-news/upda...   \n",
       "163980    Reuters  https://www.investing.com/news/forex-news/fed'...   \n",
       "163967    Reuters  https://www.investing.com/news/forex-news/inte...   \n",
       "163968    Reuters  https://www.investing.com/news/forex-news/topw...   \n",
       "\n",
       "        article_id    open      high       low     close  adj_close  \\\n",
       "163975       20872  2.8775  3.004286  2.858929  2.977857   2.542589   \n",
       "163986       20724  2.8775  3.004286  2.858929  2.977857   2.542589   \n",
       "163985       20995  2.8775  3.004286  2.858929  2.977857   2.542589   \n",
       "163984       20779  2.8775  3.004286  2.858929  2.977857   2.542589   \n",
       "163983       20745  2.8775  3.004286  2.858929  2.977857   2.542589   \n",
       "163982       20694  2.8775  3.004286  2.858929  2.977857   2.542589   \n",
       "163981       20979  2.8775  3.004286  2.858929  2.977857   2.542589   \n",
       "163980       20976  2.8775  3.004286  2.858929  2.977857   2.542589   \n",
       "163967       20706  2.8775  3.004286  2.858929  2.977857   2.542589   \n",
       "163968       20748  2.8775  3.004286  2.858929  2.977857   2.542589   \n",
       "\n",
       "            volume  \n",
       "163975  1831634000  \n",
       "163986  1831634000  \n",
       "163985  1831634000  \n",
       "163984  1831634000  \n",
       "163983  1831634000  \n",
       "163982  1831634000  \n",
       "163981  1831634000  \n",
       "163980  1831634000  \n",
       "163967  1831634000  \n",
       "163968  1831634000  "
      ]
     },
     "execution_count": 12,
     "metadata": {},
     "output_type": "execute_result"
    }
   ],
   "source": [
    "df_aapl_us_equities_news_sparse.head(10)"
   ]
  },
  {
   "cell_type": "code",
   "execution_count": 13,
   "id": "184d5324-ac23-4c43-9a8f-ededc5a91903",
   "metadata": {},
   "outputs": [],
   "source": [
    "nyse = mcal.get_calendar(\"NYSE\")\n",
    "nyse_valid_dates = nyse.valid_days(\n",
    "    start_date=min(df_aapl_us_equities_news_full[\"date\"]),\n",
    "    end_date=max(df_aapl_us_equities_news_full[\"date\"]),\n",
    ").date"
   ]
  },
  {
   "cell_type": "code",
   "execution_count": 14,
   "id": "757869d8-d484-45bb-b49c-11fc74b264c0",
   "metadata": {},
   "outputs": [
    {
     "data": {
      "text/plain": [
       "Series([], dtype: object)"
      ]
     },
     "execution_count": 14,
     "metadata": {},
     "output_type": "execute_result"
    }
   ],
   "source": [
    "pd.Series(np.setdiff1d(nyse_valid_dates, df_aapl_us_equities_news_full[\"date\"].dt.date.to_numpy()))"
   ]
  },
  {
   "cell_type": "code",
   "execution_count": 15,
   "id": "b49835dd-5410-48a7-9051-04a01f62e40f",
   "metadata": {},
   "outputs": [
    {
     "data": {
      "text/plain": [
       "0      2009-02-18\n",
       "1      2009-06-10\n",
       "2      2009-07-31\n",
       "3      2009-11-02\n",
       "4      2009-11-03\n",
       "          ...    \n",
       "839    2022-09-08\n",
       "840    2022-09-09\n",
       "841    2022-09-12\n",
       "842    2022-09-13\n",
       "843    2022-09-14\n",
       "Length: 844, dtype: object"
      ]
     },
     "execution_count": 15,
     "metadata": {},
     "output_type": "execute_result"
    }
   ],
   "source": [
    "pd.Series(np.setdiff1d(nyse_valid_dates, df_aapl_us_equities_news_sparse[\"date\"].dt.date.to_numpy()))"
   ]
  },
  {
   "cell_type": "markdown",
   "id": "c0716a43-3210-487c-90fc-01fb5bcebfea",
   "metadata": {
    "tags": []
   },
   "source": [
    "## 1.6 Clean data"
   ]
  },
  {
   "cell_type": "markdown",
   "id": "4eeb5137-e377-45f6-a463-795d00ab88cf",
   "metadata": {},
   "source": [
    "**Remove duplicates**"
   ]
  },
  {
   "cell_type": "code",
   "execution_count": 16,
   "id": "a7ba60ed-bd49-4e10-a110-b7a0bf379fbc",
   "metadata": {
    "tags": []
   },
   "outputs": [
    {
     "name": "stdout",
     "output_type": "stream",
     "text": [
      "Rows (Before): 197711\n",
      "Rows (After): 197711\n"
     ]
    }
   ],
   "source": [
    "print(f\"Rows (Before): {df_aapl_us_equities_news_full.shape[0]}\")\n",
    "df_aapl_us_equities_news_full = df_aapl_us_equities_news_full.drop_duplicates()\n",
    "print(f\"Rows (After): {df_aapl_us_equities_news_full.shape[0]}\")"
   ]
  },
  {
   "cell_type": "code",
   "execution_count": 17,
   "id": "239fd19c-ded9-4450-88e1-da3a79b561ce",
   "metadata": {},
   "outputs": [
    {
     "name": "stdout",
     "output_type": "stream",
     "text": [
      "Rows (Before): 196867\n",
      "Rows (After): 196867\n"
     ]
    }
   ],
   "source": [
    "print(f\"Rows (Before): {df_aapl_us_equities_news_sparse.shape[0]}\")\n",
    "df_aapl_us_equities_news_sparse = df_aapl_us_equities_news_sparse.drop_duplicates()\n",
    "print(f\"Rows (After): {df_aapl_us_equities_news_sparse.shape[0]}\")"
   ]
  },
  {
   "cell_type": "markdown",
   "id": "74c31bad-18e1-4ad2-81cd-becccc27e1a7",
   "metadata": {},
   "source": [
    "**Remove null values**"
   ]
  },
  {
   "cell_type": "code",
   "execution_count": 18,
   "id": "29a63840-6bf0-4c80-9981-489bf29561b1",
   "metadata": {},
   "outputs": [
    {
     "name": "stdout",
     "output_type": "stream",
     "text": [
      "Rows (Before): 197711\n",
      "Rows (After): 197703\n"
     ]
    }
   ],
   "source": [
    "print(f\"Rows (Before): {df_aapl_us_equities_news_full.shape[0]}\")\n",
    "df_aapl_us_equities_news_full = df_aapl_us_equities_news_full[\n",
    "    (df_aapl_us_equities_news_full[\"title\"] != \"nan\")\n",
    "    & (df_aapl_us_equities_news_full[\"content\"] != \"nan\")\n",
    "]\n",
    "print(f\"Rows (After): {df_aapl_us_equities_news_full.shape[0]}\")"
   ]
  },
  {
   "cell_type": "code",
   "execution_count": 19,
   "id": "1ac0461c-b822-4b55-9cde-9fea464b768f",
   "metadata": {},
   "outputs": [
    {
     "name": "stdout",
     "output_type": "stream",
     "text": [
      "Rows (Before): 196867\n",
      "Rows (After): 196859\n"
     ]
    }
   ],
   "source": [
    "print(f\"Rows (Before): {df_aapl_us_equities_news_sparse.shape[0]}\")\n",
    "df_aapl_us_equities_news_sparse = df_aapl_us_equities_news_sparse[\n",
    "    (df_aapl_us_equities_news_sparse[\"title\"] != \"nan\")\n",
    "    & (df_aapl_us_equities_news_sparse[\"content\"] != \"nan\")\n",
    "]\n",
    "print(f\"Rows (After): {df_aapl_us_equities_news_sparse.shape[0]}\")"
   ]
  },
  {
   "cell_type": "markdown",
   "id": "0221f027-1e29-43d3-8c8a-851f3b8eb78a",
   "metadata": {},
   "source": [
    "**Remove unused columnes**"
   ]
  },
  {
   "cell_type": "code",
   "execution_count": 20,
   "id": "6333ae2f-0190-4174-a146-71fb23545a8d",
   "metadata": {},
   "outputs": [],
   "source": [
    "df_aapl_us_equities_news_full = df_aapl_us_equities_news_full.drop(columns=[\"article_id\"])"
   ]
  },
  {
   "cell_type": "code",
   "execution_count": 21,
   "id": "9797c94e-7026-4753-a721-5bce53306fce",
   "metadata": {},
   "outputs": [],
   "source": [
    "df_aapl_us_equities_news_sparse = df_aapl_us_equities_news_sparse.drop(columns=[\"article_id\"])"
   ]
  },
  {
   "cell_type": "markdown",
   "id": "e2cdc1a6-68d4-4f40-939e-8524d81ce842",
   "metadata": {},
   "source": [
    "**Reset index**"
   ]
  },
  {
   "cell_type": "code",
   "execution_count": 22,
   "id": "d905f0af-d785-4fdb-ab1b-e50af66792bb",
   "metadata": {},
   "outputs": [],
   "source": [
    "df_aapl_us_equities_news_full = df_aapl_us_equities_news_full.reset_index(drop=True)"
   ]
  },
  {
   "cell_type": "code",
   "execution_count": 23,
   "id": "a09e1161-7eea-4b22-9117-1ea0e8a03fa2",
   "metadata": {},
   "outputs": [],
   "source": [
    "df_aapl_us_equities_news_sparse = df_aapl_us_equities_news_sparse.reset_index(drop=True)"
   ]
  },
  {
   "cell_type": "markdown",
   "id": "f281c50b-0c03-404e-ac0f-40fd6b49ea6f",
   "metadata": {},
   "source": [
    "**Set data types**"
   ]
  },
  {
   "cell_type": "code",
   "execution_count": 24,
   "id": "02fe366a-9dc2-422c-b9bc-1be296d854d2",
   "metadata": {},
   "outputs": [],
   "source": [
    "df_aapl_us_equities_news_full[\"ticker\"] = df_aapl_us_equities_news_full[\"ticker\"].astype(\"category\")\n",
    "df_aapl_us_equities_news_full[\"title\"] = df_aapl_us_equities_news_full[\"title\"].astype(str).replace(\"nan\", np.nan)\n",
    "df_aapl_us_equities_news_full[\"category\"] = df_aapl_us_equities_news_full[\"category\"].astype(\"category\")\n",
    "df_aapl_us_equities_news_full[\"content\"] = df_aapl_us_equities_news_full[\"content\"].astype(str).replace(\"nan\", np.nan)\n",
    "df_aapl_us_equities_news_full[\"date\"] = pd.to_datetime(df_aapl_us_equities_news_full[\"date\"])\n",
    "df_aapl_us_equities_news_full[\"provider\"] = df_aapl_us_equities_news_full[\"provider\"].astype(\"category\")\n",
    "df_aapl_us_equities_news_full[\"url\"] = df_aapl_us_equities_news_full[\"url\"].astype(str).replace(\"nan\", np.nan)\n",
    "df_aapl_us_equities_news_full[\"open\"] = df_aapl_us_equities_news_full[\"open\"].astype(float)\n",
    "df_aapl_us_equities_news_full[\"high\"] = df_aapl_us_equities_news_full[\"high\"].astype(float)\n",
    "df_aapl_us_equities_news_full[\"low\"] = df_aapl_us_equities_news_full[\"low\"].astype(float)\n",
    "df_aapl_us_equities_news_full[\"close\"] = df_aapl_us_equities_news_full[\"close\"].astype(float)\n",
    "df_aapl_us_equities_news_full[\"adj_close\"] = df_aapl_us_equities_news_full[\"adj_close\"].astype(float)\n",
    "df_aapl_us_equities_news_full[\"volume\"] = df_aapl_us_equities_news_full[\"volume\"].astype(int)"
   ]
  },
  {
   "cell_type": "code",
   "execution_count": 25,
   "id": "c20d1d2e-f373-41f6-b259-da5fad759a18",
   "metadata": {},
   "outputs": [],
   "source": [
    "df_aapl_us_equities_news_sparse[\"id\"] = df_aapl_us_equities_news_sparse[\"id\"].astype(int)\n",
    "df_aapl_us_equities_news_sparse[\"ticker\"] = df_aapl_us_equities_news_sparse[\"ticker\"].astype(\"category\")\n",
    "df_aapl_us_equities_news_sparse[\"title\"] = df_aapl_us_equities_news_sparse[\"title\"].astype(str).replace(\"nan\", np.nan)\n",
    "df_aapl_us_equities_news_sparse[\"category\"] = df_aapl_us_equities_news_sparse[\"category\"].astype(\"category\")\n",
    "df_aapl_us_equities_news_sparse[\"content\"] = df_aapl_us_equities_news_sparse[\"content\"].astype(str).replace(\"nan\", np.nan)\n",
    "df_aapl_us_equities_news_sparse[\"date\"] = pd.to_datetime(df_aapl_us_equities_news_sparse[\"date\"])\n",
    "df_aapl_us_equities_news_sparse[\"provider\"] = df_aapl_us_equities_news_sparse[\"provider\"].astype(\"category\")\n",
    "df_aapl_us_equities_news_sparse[\"url\"] = df_aapl_us_equities_news_sparse[\"url\"].astype(str).replace(\"nan\", np.nan)\n",
    "df_aapl_us_equities_news_sparse[\"open\"] = df_aapl_us_equities_news_sparse[\"open\"].astype(float)\n",
    "df_aapl_us_equities_news_sparse[\"high\"] = df_aapl_us_equities_news_sparse[\"high\"].astype(float)\n",
    "df_aapl_us_equities_news_sparse[\"low\"] = df_aapl_us_equities_news_sparse[\"low\"].astype(float)\n",
    "df_aapl_us_equities_news_sparse[\"close\"] = df_aapl_us_equities_news_sparse[\"close\"].astype(float)\n",
    "df_aapl_us_equities_news_sparse[\"adj_close\"] = df_aapl_us_equities_news_sparse[\"adj_close\"].astype(float)\n",
    "df_aapl_us_equities_news_sparse[\"volume\"] = df_aapl_us_equities_news_sparse[\"volume\"].astype(int)"
   ]
  },
  {
   "cell_type": "markdown",
   "id": "9cf58e7e-5e6b-45b5-886a-b964f11e9ecc",
   "metadata": {},
   "source": [
    "## 1.7 Add data"
   ]
  },
  {
   "cell_type": "markdown",
   "id": "bf000ade-bbd5-41e3-9ac4-b35507ef6890",
   "metadata": {},
   "source": [
    "**Add target column**"
   ]
  },
  {
   "cell_type": "code",
   "execution_count": 26,
   "id": "1f0d27b5-741b-4af6-9539-f6f780a44c55",
   "metadata": {},
   "outputs": [],
   "source": [
    "df_aapl_us_equities_news_full[\"target\"] = (df_aapl_us_equities_news_full[\"close\"] > df_aapl_us_equities_news_full[\"open\"]).astype(int)"
   ]
  },
  {
   "cell_type": "code",
   "execution_count": 27,
   "id": "72a403a6-f784-4100-b094-65baa6718711",
   "metadata": {},
   "outputs": [],
   "source": [
    "df_aapl_us_equities_news_sparse[\"target\"] = (df_aapl_us_equities_news_full[\"close\"] > df_aapl_us_equities_news_full[\"open\"]).astype(int)"
   ]
  },
  {
   "cell_type": "markdown",
   "id": "0d4c0fac-fcd5-4de0-9590-5cfe838a2f51",
   "metadata": {},
   "source": [
    "## 1.8 Save data"
   ]
  },
  {
   "cell_type": "code",
   "execution_count": 28,
   "id": "50d48501-e230-4790-bbc2-b48b3d254bfe",
   "metadata": {
    "tags": []
   },
   "outputs": [],
   "source": [
    "df_aapl_us_equities_news_full.to_csv(STOCK_NEWS_FULL_DATASET_FILE, index=False)"
   ]
  },
  {
   "cell_type": "code",
   "execution_count": 29,
   "id": "15c4731e-061b-4ba4-a684-3d058146a5e7",
   "metadata": {},
   "outputs": [],
   "source": [
    "df_aapl_us_equities_news_sparse.to_csv(STOCK_NEWS_SPARSE_DATASET_FILE, index=False)"
   ]
  },
  {
   "cell_type": "markdown",
   "id": "5102921d-f4e3-42f0-bbc7-d914130d98eb",
   "metadata": {
    "tags": []
   },
   "source": [
    "# 99. Scratch"
   ]
  },
  {
   "cell_type": "code",
   "execution_count": null,
   "id": "e333d562-fd22-4051-83f9-0a2ef1475ee1",
   "metadata": {},
   "outputs": [],
   "source": []
  }
 ],
 "metadata": {
  "kernelspec": {
   "display_name": "Python 3 (ipykernel)",
   "language": "python",
   "name": "python3"
  },
  "language_info": {
   "codemirror_mode": {
    "name": "ipython",
    "version": 3
   },
   "file_extension": ".py",
   "mimetype": "text/x-python",
   "name": "python",
   "nbconvert_exporter": "python",
   "pygments_lexer": "ipython3",
   "version": "3.8.10"
  }
 },
 "nbformat": 4,
 "nbformat_minor": 5
}
