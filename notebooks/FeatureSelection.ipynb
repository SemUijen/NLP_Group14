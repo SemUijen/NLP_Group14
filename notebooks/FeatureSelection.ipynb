{
 "cells": [
  {
   "cell_type": "code",
   "execution_count": 2,
   "id": "8c35f761-6e70-40b5-9ec0-27a9ee20e2ec",
   "metadata": {},
   "outputs": [],
   "source": [
    "import wordcloud\n",
    "import pandas as pd\n"
   ]
  },
  {
   "cell_type": "code",
   "execution_count": 3,
   "id": "03488397-c66f-4d96-a11e-eb76426367af",
   "metadata": {},
   "outputs": [
    {
     "data": {
      "text/html": [
       "<div>\n",
       "<style scoped>\n",
       "    .dataframe tbody tr th:only-of-type {\n",
       "        vertical-align: middle;\n",
       "    }\n",
       "\n",
       "    .dataframe tbody tr th {\n",
       "        vertical-align: top;\n",
       "    }\n",
       "\n",
       "    .dataframe thead th {\n",
       "        text-align: right;\n",
       "    }\n",
       "</style>\n",
       "<table border=\"1\" class=\"dataframe\">\n",
       "  <thead>\n",
       "    <tr style=\"text-align: right;\">\n",
       "      <th></th>\n",
       "      <th>text</th>\n",
       "      <th>target</th>\n",
       "    </tr>\n",
       "  </thead>\n",
       "  <tbody>\n",
       "    <tr>\n",
       "      <th>0</th>\n",
       "      <td>UPDATE 4 Rouble at record low as Russia faces ...</td>\n",
       "      <td>1</td>\n",
       "    </tr>\n",
       "    <tr>\n",
       "      <th>1</th>\n",
       "      <td>UPDATE 4 DSG to cut more costs as sales fall w...</td>\n",
       "      <td>1</td>\n",
       "    </tr>\n",
       "    <tr>\n",
       "      <th>2</th>\n",
       "      <td>Lack of fame aids Geithner over US tax mistake...</td>\n",
       "      <td>1</td>\n",
       "    </tr>\n",
       "    <tr>\n",
       "      <th>3</th>\n",
       "      <td>CORRECTED   Depression ahead  prepare for stoc...</td>\n",
       "      <td>1</td>\n",
       "    </tr>\n",
       "    <tr>\n",
       "      <th>4</th>\n",
       "      <td>Euro area CPI Falls Down To 1 6  In December r...</td>\n",
       "      <td>1</td>\n",
       "    </tr>\n",
       "    <tr>\n",
       "      <th>...</th>\n",
       "      <td>...</td>\n",
       "      <td>...</td>\n",
       "    </tr>\n",
       "    <tr>\n",
       "      <th>196854</th>\n",
       "      <td>Dow Jones News  Cisco Reports Today  Disney Bo...</td>\n",
       "      <td>1</td>\n",
       "    </tr>\n",
       "    <tr>\n",
       "      <th>196855</th>\n",
       "      <td>Cisco beats on earnings  shares barely budge c...</td>\n",
       "      <td>1</td>\n",
       "    </tr>\n",
       "    <tr>\n",
       "      <th>196856</th>\n",
       "      <td>Cisco Systems  CSCO  Q2 Earnings And Revenues ...</td>\n",
       "      <td>1</td>\n",
       "    </tr>\n",
       "    <tr>\n",
       "      <th>196857</th>\n",
       "      <td>Why Teva Pharmaceutical Is Rallying 10  Today ...</td>\n",
       "      <td>1</td>\n",
       "    </tr>\n",
       "    <tr>\n",
       "      <th>196858</th>\n",
       "      <td>Wall St  hits record highs as virus fears ease...</td>\n",
       "      <td>1</td>\n",
       "    </tr>\n",
       "  </tbody>\n",
       "</table>\n",
       "<p>196859 rows × 2 columns</p>\n",
       "</div>"
      ],
      "text/plain": [
       "                                                     text  target\n",
       "0       UPDATE 4 Rouble at record low as Russia faces ...       1\n",
       "1       UPDATE 4 DSG to cut more costs as sales fall w...       1\n",
       "2       Lack of fame aids Geithner over US tax mistake...       1\n",
       "3       CORRECTED   Depression ahead  prepare for stoc...       1\n",
       "4       Euro area CPI Falls Down To 1 6  In December r...       1\n",
       "...                                                   ...     ...\n",
       "196854  Dow Jones News  Cisco Reports Today  Disney Bo...       1\n",
       "196855  Cisco beats on earnings  shares barely budge c...       1\n",
       "196856  Cisco Systems  CSCO  Q2 Earnings And Revenues ...       1\n",
       "196857  Why Teva Pharmaceutical Is Rallying 10  Today ...       1\n",
       "196858  Wall St  hits record highs as virus fears ease...       1\n",
       "\n",
       "[196859 rows x 2 columns]"
      ]
     },
     "execution_count": 3,
     "metadata": {},
     "output_type": "execute_result"
    }
   ],
   "source": [
    "df = pd.read_csv(\"../data/aapl_us_equities_news_processed.csv\")\n",
    "df"
   ]
  },
  {
   "cell_type": "code",
   "execution_count": null,
   "id": "eff248a5-771f-4496-b0f1-18e2623d8474",
   "metadata": {},
   "outputs": [],
   "source": []
  }
 ],
 "metadata": {
  "kernelspec": {
   "display_name": "Python 3 (ipykernel)",
   "language": "python",
   "name": "python3"
  },
  "language_info": {
   "codemirror_mode": {
    "name": "ipython",
    "version": 3
   },
   "file_extension": ".py",
   "mimetype": "text/x-python",
   "name": "python",
   "nbconvert_exporter": "python",
   "pygments_lexer": "ipython3",
   "version": "3.8.2"
  }
 },
 "nbformat": 4,
 "nbformat_minor": 5
}
