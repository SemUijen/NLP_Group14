{
 "cells": [
  {
   "cell_type": "code",
   "execution_count": 16,
   "metadata": {},
   "outputs": [],
   "source": [
    "import pandas as pd\n",
    "import re\n",
    "from nltk.tokenize import word_tokenize\n",
    "import spacy\n",
    "nlp = spacy.load('en_core_web_sm') # Load spacy model\n",
    "from bs4 import BeautifulSoup\n",
    "import spacy\n",
    "import unidecode\n",
    "#from word2number import w2n\n",
    "#import contractions\n",
    "import os"
   ]
  },
  {
   "cell_type": "code",
   "execution_count": 17,
   "metadata": {},
   "outputs": [],
   "source": [
    "STOCK_NEWS_DATASET_FILE = r\"C:\\Users\\Elske\\NLP local\\aapl_us_equities_news_processed.csv\""
   ]
  },
  {
   "cell_type": "code",
   "execution_count": 18,
   "metadata": {},
   "outputs": [],
   "source": [
    "df_content = pd.read_csv(STOCK_NEWS_DATASET_FILE)"
   ]
  },
  {
   "cell_type": "code",
   "execution_count": 19,
   "metadata": {},
   "outputs": [
    {
     "data": {
      "text/plain": [
       "1740"
      ]
     },
     "execution_count": 19,
     "metadata": {},
     "output_type": "execute_result"
    }
   ],
   "source": [
    "len(df_content)"
   ]
  },
  {
   "cell_type": "code",
   "execution_count": 21,
   "metadata": {},
   "outputs": [],
   "source": [
    "def strip_html_tags(text):\n",
    "    \"\"\"remove html tags from text\"\"\"\n",
    "    soup = BeautifulSoup(text, \"html.parser\")\n",
    "    stripped_text = soup.get_text(separator=\" \")\n",
    "    return stripped_text"
   ]
  },
  {
   "cell_type": "code",
   "execution_count": 22,
   "metadata": {},
   "outputs": [],
   "source": [
    "def clean_txt(txt):\n",
    "\n",
    "    \"\"\"\n",
    "    Input: Text\n",
    "\n",
    "    Remove every non-alphanumeric characters\n",
    "    Lowercase every word except 'AAPL'\n",
    "\n",
    "    Output: Text\n",
    "    \"\"\"\n",
    "\n",
    "    # Onderstaande twee regels van https://towardsdatascience.com/nlp-text-preprocessing-steps-tools-and-examples-94c91ce5d30\n",
    "    txt = re.sub(r'\\W+', ' ', txt) # matches any non-word character (equivalent to [^a-zA-Z0-9_])\n",
    "    txt = re.sub(r'[^a-zA-Z]', ' ', txt) # [^a-zA-Z] means any character that IS NOT a-z OR A-Z\n",
    "    \n",
    "    words = [word.lower() for word in txt.split(' ')] # Capslocks verwijderen voor alle woorden behalve AAPL\n",
    "    txt_temp = \" \".join(words) # Join losse woorden weer samen tot 1 text    \n",
    "\n",
    "    return txt_temp"
   ]
  },
  {
   "cell_type": "code",
   "execution_count": 23,
   "metadata": {},
   "outputs": [],
   "source": [
    "def remove_stopwords(text):\n",
    "\n",
    "    \"\"\"\n",
    "    Input: Text\n",
    "    Remove stopwords and lemmatize text.\n",
    "    Output: Text\n",
    "    \"\"\"\n",
    "\n",
    "    return \" \".join(token.lemma_ for token in nlp(text) if not token.is_stop)"
   ]
  },
  {
   "cell_type": "code",
   "execution_count": 24,
   "metadata": {},
   "outputs": [],
   "source": [
    "df_content['stripped_html'] = df_content.apply(lambda row : strip_html_tags(row['text']), axis = 1)\n",
    "df_content['lower_cased'] = df_content.apply(lambda row : clean_txt(row['stripped_html']), axis = 1)"
   ]
  },
  {
   "cell_type": "code",
   "execution_count": 26,
   "metadata": {},
   "outputs": [],
   "source": [
    "# Execution functions\n",
    "df_content['removed_stopwords'] = df_content.apply(lambda row : remove_stopwords(row['lower_cased']), axis = 1)"
   ]
  },
  {
   "cell_type": "code",
   "execution_count": 27,
   "metadata": {},
   "outputs": [
    {
     "data": {
      "text/plain": [
       "0"
      ]
     },
     "execution_count": 27,
     "metadata": {},
     "output_type": "execute_result"
    }
   ],
   "source": [
    "sum(df_content['stripped_html'] != df_content['text']) # Geen HTML text"
   ]
  },
  {
   "cell_type": "code",
   "execution_count": 28,
   "metadata": {},
   "outputs": [],
   "source": [
    "os.chdir(r'C:\\Users\\Elske\\NLP local')\n",
    "pd.DataFrame(df_content).to_csv('Preprocessed_Newsarticles_6okt2022.csv')"
   ]
  },
  {
   "cell_type": "markdown",
   "metadata": {},
   "source": [
    "### NOTES ###"
   ]
  },
  {
   "cell_type": "code",
   "execution_count": 29,
   "metadata": {},
   "outputs": [
    {
     "data": {
      "text/plain": [
       "['ride']"
      ]
     },
     "execution_count": 29,
     "metadata": {},
     "output_type": "execute_result"
    }
   ],
   "source": [
    "# Lemma even testen\n",
    "token = 'riding'\n",
    "[token.lemma_ for token in nlp(token)]"
   ]
  },
  {
   "cell_type": "code",
   "execution_count": 30,
   "metadata": {},
   "outputs": [],
   "source": [
    "# New stop words list \n",
    "customize_stop_words = [\n",
    "    ':)'\n",
    "]\n",
    "\n",
    "# Mark them as stop words\n",
    "for w in customize_stop_words:\n",
    "    nlp.vocab[w].is_stop = True"
   ]
  },
  {
   "cell_type": "markdown",
   "metadata": {},
   "source": [
    "### Alert zijn op volgende punten:\n",
    "* US wordt getokenized als u en s\n"
   ]
  },
  {
   "cell_type": "markdown",
   "metadata": {},
   "source": []
  }
 ],
 "metadata": {
  "kernelspec": {
   "display_name": "Python 3 (ipykernel)",
   "language": "python",
   "name": "python3"
  },
  "language_info": {
   "codemirror_mode": {
    "name": "ipython",
    "version": 3
   },
   "file_extension": ".py",
   "mimetype": "text/x-python",
   "name": "python",
   "nbconvert_exporter": "python",
   "pygments_lexer": "ipython3",
   "version": "3.10.6"
  },
  "vscode": {
   "interpreter": {
    "hash": "523cb6cbe16609983eb854e548129e134322e6f39961d58c210521dd31248f11"
   }
  }
 },
 "nbformat": 4,
 "nbformat_minor": 4
}
