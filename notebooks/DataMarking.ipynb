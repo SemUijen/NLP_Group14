{
 "cells": [
  {
   "cell_type": "markdown",
   "id": "2ffb97e8-41d4-4158-bd66-76a06f9e9c7f",
   "metadata": {},
   "source": [
    "# 1. Data Marking"
   ]
  },
  {
   "cell_type": "code",
   "execution_count": 1,
   "id": "cfc81fbd-f089-4140-9b7f-810d03e9dfe3",
   "metadata": {},
   "outputs": [],
   "source": [
    "import re\n",
    "\n",
    "from IPython.display import clear_output\n",
    "\n",
    "import matplotlib.pyplot as plt\n",
    "import pandas as pd\n",
    "import numpy as np"
   ]
  },
  {
   "cell_type": "code",
   "execution_count": 2,
   "id": "49b8961c-b73b-49a9-9bb7-26c066582e6d",
   "metadata": {},
   "outputs": [],
   "source": [
    "STOCK_NEWS_DATASET_FILE = \"../data/aapl_us_equities_news.csv\"\n",
    "\n",
    "TEXT_BOLD = \"\\033[1m\"\n",
    "TEXT_HIGHLIGHT = \"\\033[33m\\033[40m\"\n",
    "TEXT_END = \"\\033[0m\""
   ]
  },
  {
   "cell_type": "markdown",
   "id": "a9a624ce-f815-4b60-9de8-cb56a1b84a59",
   "metadata": {},
   "source": [
    "## 1.1 Utility functions"
   ]
  },
  {
   "cell_type": "code",
   "execution_count": 3,
   "id": "a86afbed-d7cf-4fa1-90a8-d13e3fa4132e",
   "metadata": {},
   "outputs": [],
   "source": [
    "def filter_documents(documents, expressions):\n",
    "    expression = \"|\".join(expressions)\n",
    "\n",
    "    return documents[\n",
    "        documents[\"title\"].str.contains(expression, regex=True)\n",
    "        | documents[\"content\"].str.contains(expression, regex=True)\n",
    "    ]\n",
    "\n",
    "\n",
    "def highlight_text(text, expressions):\n",
    "    highlighted_text = text\n",
    "\n",
    "    for expression in expressions:\n",
    "        highlighted_text = re.sub(expression, TEXT_HIGHLIGHT + \"\\\\1\" + TEXT_END, highlighted_text)\n",
    "\n",
    "    return highlighted_text\n",
    "\n",
    "\n",
    "def ask_question(question):\n",
    "    answer = input(question).strip()\n",
    "\n",
    "    if answer not in [\"y\", \"Y\", \"n\", \"N\"]:\n",
    "        ask_question(question)\n",
    "\n",
    "    return answer in [\"y\", \"Y\"]\n",
    "\n",
    "\n",
    "def mark_documents(documents, expressions):\n",
    "    filtered_documents = filter_documents(documents, expressions)\n",
    "    total_documents = len(filtered_documents)\n",
    "    current_document = 1\n",
    "\n",
    "    marked_indices = []\n",
    "\n",
    "    for idx, document in filtered_documents.iterrows():\n",
    "        highlighted_title = highlight_text(document.title, expressions)\n",
    "        hightighted_content = highlight_text(document.content, expressions)\n",
    "        \n",
    "        print(TEXT_BOLD + \"Progress: \" + TEXT_END + f\"{current_document}/{total_documents}\")\n",
    "        print(\"\")\n",
    "        print(TEXT_BOLD + \"Id: \" + TEXT_END + f\"{document.id}\")\n",
    "        print(TEXT_BOLD + \"Index: \" + TEXT_END + f\"{idx}\")\n",
    "        print(\"-\" * 20)\n",
    "        print(TEXT_BOLD + \"Title: \" + TEXT_END)\n",
    "        print(highlighted_title)\n",
    "        print(\"\")\n",
    "        print(TEXT_BOLD + \"Content: \" + TEXT_END)\n",
    "        print(hightighted_content)\n",
    "        print(\"-\" * 20)\n",
    "\n",
    "        answer = ask_question(\"Mark this document? [y/n]: \")\n",
    "        if answer:\n",
    "            marked_indices.append(idx)\n",
    "\n",
    "        current_document += 1\n",
    "        clear_output()\n",
    "\n",
    "    return filtered_documents.loc[marked_indices]"
   ]
  },
  {
   "cell_type": "markdown",
   "id": "b44b81a5-8607-4188-a37f-240e9abeec8f",
   "metadata": {},
   "source": [
    "## 1.2 Load data"
   ]
  },
  {
   "cell_type": "code",
   "execution_count": 4,
   "id": "9f0231ab-4fba-41ca-a062-34828076162e",
   "metadata": {},
   "outputs": [],
   "source": [
    "df_aapl_us_equities_news = pd.read_csv(STOCK_NEWS_DATASET_FILE)"
   ]
  },
  {
   "cell_type": "markdown",
   "id": "2de0a88c-ef0c-4cef-ad6b-6015dda905b1",
   "metadata": {},
   "source": [
    "## 1.3 Subset data"
   ]
  },
  {
   "cell_type": "code",
   "execution_count": 5,
   "id": "2b77701a-78f1-4ce1-8ef2-b1be518e5158",
   "metadata": {},
   "outputs": [],
   "source": [
    "df_aapl_us_equities_news = df_aapl_us_equities_news[df_aapl_us_equities_news[\"ticker\"] == \"AAPL\"]"
   ]
  },
  {
   "cell_type": "markdown",
   "id": "a3751d37-220b-4e75-ab27-0ae01146f6b5",
   "metadata": {},
   "source": [
    "## 1.4 Mark data"
   ]
  },
  {
   "cell_type": "code",
   "execution_count": 6,
   "id": "8eb919e9-ad5b-46a8-a329-6538a64727f8",
   "metadata": {},
   "outputs": [
    {
     "name": "stderr",
     "output_type": "stream",
     "text": [
      "/tmp/ipykernel_241531/3978522324.py:5: UserWarning: This pattern is interpreted as a regular expression, and has match groups. To actually get the groups, use str.extract.\n",
      "  documents[\"title\"].str.contains(expression, regex=True)\n",
      "/tmp/ipykernel_241531/3978522324.py:6: UserWarning: This pattern is interpreted as a regular expression, and has match groups. To actually get the groups, use str.extract.\n",
      "  | documents[\"content\"].str.contains(expression, regex=True)\n"
     ]
    },
    {
     "name": "stdout",
     "output_type": "stream",
     "text": [
      "\u001b[1mProgress: \u001b[0m1/258\n",
      "\n",
      "\u001b[1mId: \u001b[0m290746\n",
      "\u001b[1mIndex: \u001b[0m11248\n",
      "--------------------\n",
      "\u001b[1mTitle: \u001b[0m\n",
      "Apple  Institutions Locking Their Profit  Should You Worry \n",
      "\n",
      "\u001b[1mContent: \u001b[0m\n",
      "Tech Sector giant is facing huge pressure from bears who are selling the stock as there is no tomorrow  However according to Morgan Stanley  MS  analysts they are not buying into \u001b[33m\u001b[40mapple\u001b[0m bear trend will continue much longer because company s issues in relation to its product supplies and as well as margins will be sorted soon According to Wall Street journal s report Google s  GOOG  new mapping application will work on \u001b[33m\u001b[40mapple\u001b[0m I phones  ipads  and Google is planning to file this to iTunes store Company has paid its second dividend payment of  2 5 per share or  2 5 billion dollar for its 935 million outstanding shares However  as Apple   AAPL  is the most widely held stock by institutions and is part of over 800 hedge funds so it is believed that recent sell off is more of locking in profit by hedge funds as global turmoil putting pressure on indices  Therefore  the recent sell off can be blamed to this as fundamentals are still looking strong for the company specially with upcoming holiday season where Apple has created new market for itself by launching mini iPad and smart money is still after this stock  Institutional Holders  Apple is owned by 2 422 institutions which means 67 12  of shares are owned by institutional investors according to Reuters data   Analyst Recommendations According to Reuters there are 26 buys  23 outperform  5 hold  1 underperform and 1 sell  Technical Analysis   Comments  Apple has broken some serious support levels so far however long term trend for the stock is up  It seems like bears are finally giving up and below demand level can work as we have gap up in opposite direction of the trend which is usually sign for reverse of downward trend    52 weeks range  705 07 High  363 32 Low   Average Volume 27 003 302   Support and Resistance zones  Demand Zone 1 506 46 487 73  Aggressive Investor   Demand Zone 2 442 25 457 88  Conservative Investor   Resistance Zone 1 589 59 579 10  Aggressive investor  Resistance Zone 2 641 26 654 00  Conservative investor    DISCLOSURE AND DISCLAIMER  The Above Is For Informational Purposes Only And Not To Be Construed As Specific Trading Advice  Responsibility For Trade Decisions Is Solely With The Reader  By Naeem Aslam\n",
      "--------------------\n"
     ]
    },
    {
     "ename": "KeyboardInterrupt",
     "evalue": "Interrupted by user",
     "output_type": "error",
     "traceback": [
      "\u001b[0;31m---------------------------------------------------------------------------\u001b[0m",
      "\u001b[0;31mKeyboardInterrupt\u001b[0m                         Traceback (most recent call last)",
      "Cell \u001b[0;32mIn [6], line 28\u001b[0m\n\u001b[1;32m      1\u001b[0m \u001b[38;5;66;03m# NOTE:\u001b[39;00m\n\u001b[1;32m      2\u001b[0m \u001b[38;5;66;03m# The documents will automatically be filtered using these regular expressions,\u001b[39;00m\n\u001b[1;32m      3\u001b[0m \u001b[38;5;66;03m# checking both the title and the content for a match. Each regular expression\u001b[39;00m\n\u001b[0;32m   (...)\u001b[0m\n\u001b[1;32m     21\u001b[0m \u001b[38;5;66;03m#     \"AAPL\" behind, so \"apple       AAPL\" is not matched.\u001b[39;00m\n\u001b[1;32m     22\u001b[0m \u001b[38;5;66;03m#\u001b[39;00m\n\u001b[1;32m     23\u001b[0m expressions \u001b[38;5;241m=\u001b[39m [\n\u001b[1;32m     24\u001b[0m     \u001b[38;5;124mr\u001b[39m\u001b[38;5;124m\"\u001b[39m\u001b[38;5;124m([Ff]ruit)\u001b[39m\u001b[38;5;124m\"\u001b[39m,\n\u001b[1;32m     25\u001b[0m     \u001b[38;5;124mr\u001b[39m\u001b[38;5;124m\"\u001b[39m\u001b[38;5;124m(apple(?!\u001b[39m\u001b[38;5;124m\\\u001b[39m\u001b[38;5;124mW+AAPL))\u001b[39m\u001b[38;5;124m\"\u001b[39m,\n\u001b[1;32m     26\u001b[0m ]\n\u001b[0;32m---> 28\u001b[0m marked_documents \u001b[38;5;241m=\u001b[39m mark_documents(df_aapl_us_equities_news, expressions)\n",
      "Cell \u001b[0;32mIn [3], line 51\u001b[0m, in \u001b[0;36mmark_documents\u001b[0;34m(documents, expressions)\u001b[0m\n\u001b[1;32m     48\u001b[0m \u001b[38;5;28mprint\u001b[39m(hightighted_content)\n\u001b[1;32m     49\u001b[0m \u001b[38;5;28mprint\u001b[39m(\u001b[38;5;124m\"\u001b[39m\u001b[38;5;124m-\u001b[39m\u001b[38;5;124m\"\u001b[39m \u001b[38;5;241m*\u001b[39m \u001b[38;5;241m20\u001b[39m)\n\u001b[0;32m---> 51\u001b[0m answer \u001b[38;5;241m=\u001b[39m \u001b[43mask_question\u001b[49m\u001b[43m(\u001b[49m\u001b[38;5;124;43m\"\u001b[39;49m\u001b[38;5;124;43mMark this document? [y/n]: \u001b[39;49m\u001b[38;5;124;43m\"\u001b[39;49m\u001b[43m)\u001b[49m\n\u001b[1;32m     52\u001b[0m \u001b[38;5;28;01mif\u001b[39;00m answer:\n\u001b[1;32m     53\u001b[0m     marked_indices\u001b[38;5;241m.\u001b[39mappend(idx)\n",
      "Cell \u001b[0;32mIn [3], line 20\u001b[0m, in \u001b[0;36mask_question\u001b[0;34m(question)\u001b[0m\n\u001b[1;32m     19\u001b[0m \u001b[38;5;28;01mdef\u001b[39;00m \u001b[38;5;21mask_question\u001b[39m(question):\n\u001b[0;32m---> 20\u001b[0m     answer \u001b[38;5;241m=\u001b[39m \u001b[38;5;28;43minput\u001b[39;49m\u001b[43m(\u001b[49m\u001b[43mquestion\u001b[49m\u001b[43m)\u001b[49m\u001b[38;5;241m.\u001b[39mstrip()\n\u001b[1;32m     22\u001b[0m     \u001b[38;5;28;01mif\u001b[39;00m answer \u001b[38;5;129;01mnot\u001b[39;00m \u001b[38;5;129;01min\u001b[39;00m [\u001b[38;5;124m\"\u001b[39m\u001b[38;5;124my\u001b[39m\u001b[38;5;124m\"\u001b[39m, \u001b[38;5;124m\"\u001b[39m\u001b[38;5;124mY\u001b[39m\u001b[38;5;124m\"\u001b[39m, \u001b[38;5;124m\"\u001b[39m\u001b[38;5;124mn\u001b[39m\u001b[38;5;124m\"\u001b[39m, \u001b[38;5;124m\"\u001b[39m\u001b[38;5;124mN\u001b[39m\u001b[38;5;124m\"\u001b[39m]:\n\u001b[1;32m     23\u001b[0m         ask_question(question)\n",
      "File \u001b[0;32m~/Projects/nlp/venv/lib/python3.8/site-packages/ipykernel/kernelbase.py:1177\u001b[0m, in \u001b[0;36mKernel.raw_input\u001b[0;34m(self, prompt)\u001b[0m\n\u001b[1;32m   1173\u001b[0m \u001b[38;5;28;01mif\u001b[39;00m \u001b[38;5;129;01mnot\u001b[39;00m \u001b[38;5;28mself\u001b[39m\u001b[38;5;241m.\u001b[39m_allow_stdin:\n\u001b[1;32m   1174\u001b[0m     \u001b[38;5;28;01mraise\u001b[39;00m StdinNotImplementedError(\n\u001b[1;32m   1175\u001b[0m         \u001b[38;5;124m\"\u001b[39m\u001b[38;5;124mraw_input was called, but this frontend does not support input requests.\u001b[39m\u001b[38;5;124m\"\u001b[39m\n\u001b[1;32m   1176\u001b[0m     )\n\u001b[0;32m-> 1177\u001b[0m \u001b[38;5;28;01mreturn\u001b[39;00m \u001b[38;5;28;43mself\u001b[39;49m\u001b[38;5;241;43m.\u001b[39;49m\u001b[43m_input_request\u001b[49m\u001b[43m(\u001b[49m\n\u001b[1;32m   1178\u001b[0m \u001b[43m    \u001b[49m\u001b[38;5;28;43mstr\u001b[39;49m\u001b[43m(\u001b[49m\u001b[43mprompt\u001b[49m\u001b[43m)\u001b[49m\u001b[43m,\u001b[49m\n\u001b[1;32m   1179\u001b[0m \u001b[43m    \u001b[49m\u001b[38;5;28;43mself\u001b[39;49m\u001b[38;5;241;43m.\u001b[39;49m\u001b[43m_parent_ident\u001b[49m\u001b[43m[\u001b[49m\u001b[38;5;124;43m\"\u001b[39;49m\u001b[38;5;124;43mshell\u001b[39;49m\u001b[38;5;124;43m\"\u001b[39;49m\u001b[43m]\u001b[49m\u001b[43m,\u001b[49m\n\u001b[1;32m   1180\u001b[0m \u001b[43m    \u001b[49m\u001b[38;5;28;43mself\u001b[39;49m\u001b[38;5;241;43m.\u001b[39;49m\u001b[43mget_parent\u001b[49m\u001b[43m(\u001b[49m\u001b[38;5;124;43m\"\u001b[39;49m\u001b[38;5;124;43mshell\u001b[39;49m\u001b[38;5;124;43m\"\u001b[39;49m\u001b[43m)\u001b[49m\u001b[43m,\u001b[49m\n\u001b[1;32m   1181\u001b[0m \u001b[43m    \u001b[49m\u001b[43mpassword\u001b[49m\u001b[38;5;241;43m=\u001b[39;49m\u001b[38;5;28;43;01mFalse\u001b[39;49;00m\u001b[43m,\u001b[49m\n\u001b[1;32m   1182\u001b[0m \u001b[43m\u001b[49m\u001b[43m)\u001b[49m\n",
      "File \u001b[0;32m~/Projects/nlp/venv/lib/python3.8/site-packages/ipykernel/kernelbase.py:1219\u001b[0m, in \u001b[0;36mKernel._input_request\u001b[0;34m(self, prompt, ident, parent, password)\u001b[0m\n\u001b[1;32m   1216\u001b[0m             \u001b[38;5;28;01mbreak\u001b[39;00m\n\u001b[1;32m   1217\u001b[0m \u001b[38;5;28;01mexcept\u001b[39;00m \u001b[38;5;167;01mKeyboardInterrupt\u001b[39;00m:\n\u001b[1;32m   1218\u001b[0m     \u001b[38;5;66;03m# re-raise KeyboardInterrupt, to truncate traceback\u001b[39;00m\n\u001b[0;32m-> 1219\u001b[0m     \u001b[38;5;28;01mraise\u001b[39;00m \u001b[38;5;167;01mKeyboardInterrupt\u001b[39;00m(\u001b[38;5;124m\"\u001b[39m\u001b[38;5;124mInterrupted by user\u001b[39m\u001b[38;5;124m\"\u001b[39m) \u001b[38;5;28;01mfrom\u001b[39;00m \u001b[38;5;28mNone\u001b[39m\n\u001b[1;32m   1220\u001b[0m \u001b[38;5;28;01mexcept\u001b[39;00m \u001b[38;5;167;01mException\u001b[39;00m:\n\u001b[1;32m   1221\u001b[0m     \u001b[38;5;28mself\u001b[39m\u001b[38;5;241m.\u001b[39mlog\u001b[38;5;241m.\u001b[39mwarning(\u001b[38;5;124m\"\u001b[39m\u001b[38;5;124mInvalid Message:\u001b[39m\u001b[38;5;124m\"\u001b[39m, exc_info\u001b[38;5;241m=\u001b[39m\u001b[38;5;28;01mTrue\u001b[39;00m)\n",
      "\u001b[0;31mKeyboardInterrupt\u001b[0m: Interrupted by user"
     ]
    }
   ],
   "source": [
    "# NOTE:\n",
    "# The documents will automatically be filtered using these regular expressions,\n",
    "# checking both the title and the content for a match. Each regular expression\n",
    "# must be wrapped in a capture group to allow the mark function to highlight\n",
    "# the relevant words. Documents are matched using contains this means that as\n",
    "# long as one of the expressions matches on at least one word, the document is\n",
    "# included in the \"to review\" selection.\n",
    "#\n",
    "# The mark function will prompt you to include a document in the \"marked\"\n",
    "# selection [y] or continue with the next one [n]. After going through all the\n",
    "# documents in the through review selection a dataframe with the \"marked\"\n",
    "# selection is returned.\n",
    "#\n",
    "# Capture group: (...)\n",
    "#\n",
    "# Expressions:\n",
    "#\n",
    "#   * ([Ff]ruit): matches all documents that contain \"fruit\" or \"Fruit\".\n",
    "#\n",
    "#   * (apple(?!\\W+AAPL)): matches all documents that contain \"apple\" without\n",
    "#     \"AAPL\" behind, so \"apple       AAPL\" is not matched.\n",
    "#\n",
    "expressions = [\n",
    "    r\"([Ff]ruit)\",\n",
    "    r\"(apple(?!\\W+AAPL))\",\n",
    "]\n",
    "\n",
    "marked_documents = mark_documents(df_aapl_us_equities_news, expressions)"
   ]
  },
  {
   "cell_type": "markdown",
   "id": "8c32a6bb-172a-42f6-ba4c-8011cbac2243",
   "metadata": {},
   "source": [
    "## 1.5 Show data"
   ]
  },
  {
   "cell_type": "code",
   "execution_count": null,
   "id": "2093a3f3-afb0-4712-a916-7d3dc88b4cfe",
   "metadata": {},
   "outputs": [],
   "source": [
    "marked_documents"
   ]
  }
 ],
 "metadata": {
  "kernelspec": {
   "display_name": "Python 3 (ipykernel)",
   "language": "python",
   "name": "python3"
  },
  "language_info": {
   "codemirror_mode": {
    "name": "ipython",
    "version": 3
   },
   "file_extension": ".py",
   "mimetype": "text/x-python",
   "name": "python",
   "nbconvert_exporter": "python",
   "pygments_lexer": "ipython3",
   "version": "3.8.10"
  }
 },
 "nbformat": 4,
 "nbformat_minor": 5
}
