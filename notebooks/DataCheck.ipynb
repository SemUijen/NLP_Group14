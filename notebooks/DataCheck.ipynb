{
 "cells": [
  {
   "cell_type": "code",
   "execution_count": 14,
   "id": "88786e56-c290-4988-904f-48d35e62753c",
   "metadata": {},
   "outputs": [],
   "source": [
    "import pandas as pd\n",
    "import os"
   ]
  },
  {
   "cell_type": "code",
   "execution_count": 21,
   "id": "af9bee61-1513-478d-831f-64cb3d876223",
   "metadata": {},
   "outputs": [
    {
     "name": "stdout",
     "output_type": "stream",
     "text": [
      "C:\\NLTK\\NLP_Group14\\notebooks\n"
     ]
    }
   ],
   "source": [
    "print(os.getcwd())\n",
    "df =  pd.read_csv(r'..\\data\\us_equities_news_dataset.csv')"
   ]
  },
  {
   "cell_type": "code",
   "execution_count": 25,
   "id": "82693166-6d76-4d8f-a99b-3dd2f8fabea8",
   "metadata": {},
   "outputs": [
    {
     "name": "stdout",
     "output_type": "stream",
     "text": [
      "{'CHN', 'AXP', 'PEAK', 'MSFT', 'BYFC', 'STZ', 'TSN', 'CMCSA', 'SRL', 'CRUS', 'VRSN', 'FITB', 'ARTNA', 'AEP', 'CPIX', 'AMSF', 'CCNE', 'CATY', 'CRM', 'FSLR', 'AMED', 'TCOM', 'TAOP', 'ASFI', 'PM', 'ROK', 'FDX', 'CACC', 'ALXN', 'DENN', 'BEAT', 'AFL', 'VMC', 'LNN', 'CCOI', 'SPAR', 'WY', 'AVY', 'UPS', 'AIRT', 'AMOT', 'ALBO', 'CALI', 'NOV', 'HBAN', 'TTWO', 'CALM', 'GT', 'AROW', 'DVN', 'LEG', 'HST', 'BKR', 'HAS', 'FAST', 'MRK', 'JNJ', 'CVGW', 'HOLX', 'DCTHD', 'GHC', 'PFE', 'DXCM', 'EL', 'ARGO', 'ADSK', 'COST', 'CPL', 'CEF', 'CLX', 'ASML', 'AVGO', 'AIZ', 'WU', 'PRDO', 'CEVA', 'LNC', 'CPSS', 'BHLB', 'CNTFY', 'BXP', 'CYTR', 'ENGIE', 'CIM', 'MGM', 'DSPG', 'AA', 'KR', 'LHX', 'NBL', 'CHTR', 'STX', 'HMC', 'ABCB', 'IX', 'TAP', 'ALV', 'AMNB', 'COKE', 'CAG', 'AGNC', 'RYAAY', 'MMC', 'GM', 'AMRB', 'AES', 'DE', 'EMR', 'DXLG', 'D', 'PSA', 'CDXS', 'ACIW', 'DCOM', 'CWBC', 'CDNS', 'PTVCB', 'MMM', 'CARV', 'NTAP', 'PCG', 'ORLY', 'AMX', 'CLAR', 'CRAY', 'BBBY', 'SINA', 'ANF', 'UIS', 'DGII', 'CROX', 'NWSA', 'ECL', 'TM', 'SITC', 'ENTG', 'BIIB', 'CHRS', 'CCMP', 'PKI', 'HPQ', 'LH', 'AAXN', 'RDWR', 'OKE', 'CHCO', 'EDMCQ', 'PG', 'JCI', 'BLL', 'AMGN', 'EXC', 'RHI', 'FMC', 'SSRM', 'MCK', 'CHRW', 'NVDA', 'ADUS', 'KLAC', 'LAZ', 'COHR', 'DGX', 'CVCO', 'PME', 'CAH', 'HD', 'LOW', 'SO', 'CRMT', 'PEP', 'GE', 'CTL', 'CSX', 'SJM', 'SLM', 'BMTC', 'CWST', 'HDB', 'HAL', 'APLO', 'DRI', 'BUSE', 'CYTK', 'WELL', 'BX', 'FISV', 'IBN', 'CBRE', 'BCPC', 'ILMN', 'INTC', 'R', 'EBAY', 'WFTLF', 'JEF', 'CLSN', 'IRM', 'DISH', 'CBAN', 'CENTA', 'BSTC', 'VMW', 'ADP', 'ALL', 'PAAS', 'CSIQ', 'WYNN', 'MRVL', 'BPFH', 'AAWW', 'AMP', 'TER', 'RDY', 'ACAD', 'JBLU', 'ED', 'ECHO', 'OXY', 'XLNX', 'MKTAY', 'NUAN', 'GPS', 'HON', 'CTRN', 'CSWC', 'MTW', 'KIM', 'MXIM', 'CBSH', 'AVNW', 'MSI', 'DIOD', 'STC', 'ANDE', 'COP', 'CYAN', 'ASR', 'K', 'MTB', 'DNKN', 'NTRS', 'AEM', 'KOF', 'CECE', 'AZO', 'ICE', 'HES', 'AN', 'DJCO', 'CRMBQ', 'BA', 'BCOM', 'MCD', 'DWSN', 'ARCH', 'KNMCY', 'BANC', 'SEE', 'SNE', 'ARTX', 'CSPI', 'HSY', 'MAT', 'DDS', 'GPC', 'UNM', 'BIDU', 'HIG', 'MU', 'CMA', 'ARNA', 'BFb', 'ABT', 'IIJIY', 'FCX', 'DISCB', 'USB', 'T', 'BAC', 'KYOCY', 'EIX', 'SRE', 'KEY', 'FLIR', 'ANIK', 'CZFC', 'CENT', 'ARWR', 'AEE', 'QCOM', 'GOOGL', 'CATM', 'EA', 'CBAT', 'LAMR', 'CVTI', 'RF', 'DCIX', 'NS', 'BRKb', 'AIG', 'DVA', 'CTWS', 'ITRI', 'CTHR', 'FLEX', 'BC', 'CMTL', 'CLMT', 'OMC', 'AIV', 'PNW', 'MDT', 'TRCB', 'GWW', 'ARKR', 'WM', 'CPSI', 'YUM', 'CART', 'DRAD', 'CBPO', 'DNBF', 'SGEN', 'ITW', 'BDX', 'CF', 'AUBN', 'DISCK', 'AON', 'CNAF', 'CNBKA', 'ABMD', 'IVZ', 'TJX', 'CTXS', 'EP_pc', 'CMG', 'TEX', 'CPHC', 'APOG', 'EXPE', 'CMI', 'UNP', 'BSX', 'ITT', 'CVV', 'ZBH', 'TMO', 'IPG', 'TGT', 'EQT', 'PEG', 'BEN', 'CPLP', 'FE', 'CVLY', 'VZ', 'ATI', 'URBN', 'MA', 'MAR', 'WMT', 'CSFL', 'CASS', 'DXYN', 'AX', 'UTX', 'EPAC', 'UBER', 'ATLC', 'CASY', 'CHDN', 'ATRC', 'AVB', 'SCCO', 'PUMG', 'THRM', 'NDAQ', 'FTI', 'BLDR', 'IGT', 'STLD', 'MDP', 'CORT', 'FFIV', 'VCEL', 'CORE', 'APH', 'DMRC', 'BBQ', 'BRKL', 'EQIX', 'HOPE', 'BLK', 'EW', 'ADM', 'DD', 'TXN', 'NWL', 'PXD', 'DLTR', 'C', 'DGICB', 'AKAM', 'DHI', 'GS', 'APEI', 'CHCI', 'DYNT', 'CTBI', 'PH', 'CMS', 'AMWD', 'WFC', 'AXTI', 'FHN', 'BELFA', 'FIS', 'CCBG', 'LEN', 'BVSN', 'CRWS', 'ARQL', 'PPL', 'CLRO', 'BOKF', 'CBBI', 'CTAS', 'CSII', 'OSK', 'CHEF', 'GOLD', 'BJRI', 'AMT', 'NUE', 'DDD', 'SCHW', 'CACH', 'DIS', 'TRV', 'ACN', 'BELFB', 'AFSIM', 'DMLP', 'BIG', 'TIF', 'ANSS', 'CRI', 'DFS', 'POLYP', 'ECPG', 'NTTYY', 'CIEN', 'BLDP', 'MPAA', 'ADBE', 'MHO', 'RSG', 'NSC', 'PRU', 'CRAI', 'CNMD', 'WPM', 'PNC', 'NKE', 'PDCO', 'RMBS', 'ANTM', 'CNS', 'NTUS', 'NFLX', 'ATGE', 'HOV', 'MET', 'CNP', 'CAC', 'CL', 'GIS', 'GLW', 'CGEN', 'ADTN', 'XEL', 'BMRC', 'CYOU', 'SRPT', 'KMB', 'KSS', 'ARCB', 'CBRL', 'XRX', 'CHOPF', 'TECK', 'BCBP', 'CY', 'IRCP', 'ADES', 'MGA', 'RTN', 'COLB', 'RS', 'DOV', 'MCO', 'VIEWF', 'CIZN', 'XRAY', 'CTSH', 'AAPL', 'ETR', 'NCR', 'GRMN', 'ATLO', 'DAL', 'BANF', 'TTM', 'UBSG', 'JBL', 'BHC', 'FANH', 'CFFN', 'PFG', 'BBY', 'NLOK', 'NIO', 'CETV', 'DORM', 'CUTR', 'VIAV', 'KHC', 'JPM', 'CMCO', 'DOW', 'APA', 'ABC', 'NWS', 'AOSL', 'MIDD', 'HRL', 'AIMC', 'DHR', 'EBMT', 'EBIX', 'ASTE', 'TXT', 'TPR', 'BMRN', 'NI', 'ADI', 'CAKE', 'VTR', 'BERK', 'M', 'ALGN', 'GRBK', 'HOG', 'EXPD', 'JWN', 'AAON', 'CWCO', 'ANAT', 'RGLD', 'YNDX', 'GL', 'LB', 'PCAR', 'ALLT', 'KO', 'ISRG', 'DUSA', 'VALE', 'IR', 'CAJ', 'DXC', 'PLD', 'PBR', 'COF', 'DUK', 'CRZO', 'CCUR', 'WHR', 'BOOM', 'ALKS', 'WTRG', 'WEC', 'PPG', 'SWK', 'HUM', 'COLM', 'J', 'BRKS', 'DSG', 'MYL', 'CFBK', 'INFY', 'CYBE', 'GILD', 'MNST', 'MTG', 'BSRR', 'CCEP', 'SHW', 'ANGO', 'CAT', 'AMD', 'IONS', 'CVS', 'MUR', 'KDP', 'IPGP', 'VAR', 'VIAC', 'CERN', 'SYK', 'V', 'CSGS', 'UAA', 'ES', 'AMAT', 'ACLS', 'DTE', 'PIPR', 'NRG', 'NYT', 'A', 'BAX', 'CNET', 'BKNG', 'BKSC', 'SBUX', 'THC', 'CLFD', 'CAAS', 'BECN', 'BDGE', 'IFF', 'CFFI', 'ETFC', 'EFX', 'DYSL', 'DAIO', 'LMT', 'HRB', 'DISCA', 'ECOL', 'ATRI', 'AEGN', 'ASGN', 'IBA', 'LUV', 'DGICA', 'CASH', 'AGN', 'XOM', 'AEIS', 'OPCH', 'CPB', 'MAS', 'BBSI', 'PGR', 'RAMP', 'ATRO', 'SSP', 'KMX', 'WMB', 'SYY', 'EQR', 'CHKP', 'EBTC', 'AUDC', 'CVBF', 'IBM', 'ATVI', 'VNO', 'FII', 'RCI', 'DCMYY', 'BFIN', 'L', 'UAL', 'ACHC', 'COWN', 'JNPR', 'CSGP', 'CFNB', 'ALCO', 'SOHU', 'HAIN', 'WAT', 'NEM', 'ARRY', 'DSWL', 'AVAV', 'CGA', 'LVS', 'CARB', 'CI', 'CME', 'AMSWA', 'KBH', 'MCHP', 'CINF', 'WDC', 'CB', 'ALOT', 'APD', 'IP', 'STT', 'SLB', 'SNV', 'RL', 'BMY', 'TV', 'VFC', 'MS', 'AGYS', 'BOSC', 'TFC', 'ASH', 'OI', 'BWEN', 'LLY', 'MPC', 'WBA', 'ROP', 'TSLA', 'CREE', 'BOCH', 'DELL', 'NEE', 'NOC', 'ROST', 'FHI', 'BMS', 'GD', 'CVCY', 'BNSO', 'HP', 'MRO', 'CSOD', 'INTU', 'ARLP', 'FLR', 'JBHT', 'ATNI', 'TROW', 'BSQR', 'ASB', 'WYND', 'SNA', 'BLKB', 'BRID', 'CLCT', 'CVX', 'UNH', 'TDC', 'IAC', 'NXPI', 'BK', 'MITSY', 'COG', 'ZION', 'MOS', 'CAMT', 'FLS', 'MANT', 'NTES', 'VRTX', 'CCRN', 'EMN', 'CGNX', 'BANR', 'VLO', 'PHM', 'BSET', 'ALGT', 'ETN', 'HKTVY', 'BSPM', 'HSIC', 'SPGI', 'EOG', 'ALNY', 'MKC', 'LBTYA', 'TEVA', 'LRCX', 'GPAGF', 'PAYX', 'CSCO', 'SPG', 'AMZN', 'COHU', 'AMTD', 'MO', 'DXPE', 'EBSB', 'CZNC', 'AMKR', 'ORCL', 'SRCL', 'CIDM'}\n"
     ]
    }
   ],
   "source": [
    "print(set(df[\"ticker\"].to_list()))"
   ]
  },
  {
   "cell_type": "code",
   "execution_count": null,
   "id": "193adf58-a717-4c24-ad82-5758af507d24",
   "metadata": {},
   "outputs": [],
   "source": []
  }
 ],
 "metadata": {
  "kernelspec": {
   "display_name": "Python 3 (ipykernel)",
   "language": "python",
   "name": "python3"
  },
  "language_info": {
   "codemirror_mode": {
    "name": "ipython",
    "version": 3
   },
   "file_extension": ".py",
   "mimetype": "text/x-python",
   "name": "python",
   "nbconvert_exporter": "python",
   "pygments_lexer": "ipython3",
   "version": "3.8.2"
  }
 },
 "nbformat": 4,
 "nbformat_minor": 5
}
