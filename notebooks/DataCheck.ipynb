{
 "cells": [
  {
   "cell_type": "code",
   "execution_count": 14,
   "id": "88786e56-c290-4988-904f-48d35e62753c",
   "metadata": {},
   "outputs": [],
   "source": [
    "import pandas as pd\n",
    "import os"
   ]
  },
  {
   "cell_type": "code",
   "execution_count": 28,
   "id": "af9bee61-1513-478d-831f-64cb3d876223",
   "metadata": {},
   "outputs": [
    {
     "data": {
      "text/html": [
       "<div>\n",
       "<style scoped>\n",
       "    .dataframe tbody tr th:only-of-type {\n",
       "        vertical-align: middle;\n",
       "    }\n",
       "\n",
       "    .dataframe tbody tr th {\n",
       "        vertical-align: top;\n",
       "    }\n",
       "\n",
       "    .dataframe thead th {\n",
       "        text-align: right;\n",
       "    }\n",
       "</style>\n",
       "<table border=\"1\" class=\"dataframe\">\n",
       "  <thead>\n",
       "    <tr style=\"text-align: right;\">\n",
       "      <th></th>\n",
       "      <th>id</th>\n",
       "      <th>ticker</th>\n",
       "      <th>title</th>\n",
       "      <th>category</th>\n",
       "      <th>content</th>\n",
       "      <th>release_date</th>\n",
       "      <th>provider</th>\n",
       "      <th>url</th>\n",
       "      <th>article_id</th>\n",
       "    </tr>\n",
       "  </thead>\n",
       "  <tbody>\n",
       "    <tr>\n",
       "      <th>0</th>\n",
       "      <td>221515</td>\n",
       "      <td>NIO</td>\n",
       "      <td>Why Shares of Chinese Electric Car Maker NIO A...</td>\n",
       "      <td>news</td>\n",
       "      <td>What s happening\\nShares of Chinese electric c...</td>\n",
       "      <td>2020-01-15</td>\n",
       "      <td>The Motley Fool</td>\n",
       "      <td>https://invst.ly/pigqi</td>\n",
       "      <td>2060327</td>\n",
       "    </tr>\n",
       "    <tr>\n",
       "      <th>1</th>\n",
       "      <td>221516</td>\n",
       "      <td>NIO</td>\n",
       "      <td>NIO only consumer gainer  Workhorse Group amon...</td>\n",
       "      <td>news</td>\n",
       "      <td>Gainers  NIO  NYSE NIO   7  \\nLosers  MGP Ingr...</td>\n",
       "      <td>2020-01-18</td>\n",
       "      <td>Seeking Alpha</td>\n",
       "      <td>https://invst.ly/pje9c</td>\n",
       "      <td>2062196</td>\n",
       "    </tr>\n",
       "    <tr>\n",
       "      <th>2</th>\n",
       "      <td>221517</td>\n",
       "      <td>NIO</td>\n",
       "      <td>NIO leads consumer gainers  Beyond Meat and Ma...</td>\n",
       "      <td>news</td>\n",
       "      <td>Gainers  NIO  NYSE NIO   14   Village Farms In...</td>\n",
       "      <td>2020-01-15</td>\n",
       "      <td>Seeking Alpha</td>\n",
       "      <td>https://invst.ly/pifmv</td>\n",
       "      <td>2060249</td>\n",
       "    </tr>\n",
       "    <tr>\n",
       "      <th>3</th>\n",
       "      <td>221518</td>\n",
       "      <td>NIO</td>\n",
       "      <td>NIO  NVAX among premarket gainers</td>\n",
       "      <td>news</td>\n",
       "      <td>Cemtrex  NASDAQ CETX   85  after FY results \\n...</td>\n",
       "      <td>2020-01-15</td>\n",
       "      <td>Seeking Alpha</td>\n",
       "      <td>https://invst.ly/picu8</td>\n",
       "      <td>2060039</td>\n",
       "    </tr>\n",
       "    <tr>\n",
       "      <th>4</th>\n",
       "      <td>221519</td>\n",
       "      <td>NIO</td>\n",
       "      <td>PLUG  NIO among premarket gainers</td>\n",
       "      <td>news</td>\n",
       "      <td>aTyr Pharma  NASDAQ LIFE   63  on Kyorin Pharm...</td>\n",
       "      <td>2020-01-06</td>\n",
       "      <td>Seeking Alpha</td>\n",
       "      <td>https://seekingalpha.com/news/3529772-plug-nio...</td>\n",
       "      <td>2053096</td>\n",
       "    </tr>\n",
       "  </tbody>\n",
       "</table>\n",
       "</div>"
      ],
      "text/plain": [
       "       id ticker                                              title category  \\\n",
       "0  221515    NIO  Why Shares of Chinese Electric Car Maker NIO A...     news   \n",
       "1  221516    NIO  NIO only consumer gainer  Workhorse Group amon...     news   \n",
       "2  221517    NIO  NIO leads consumer gainers  Beyond Meat and Ma...     news   \n",
       "3  221518    NIO                  NIO  NVAX among premarket gainers     news   \n",
       "4  221519    NIO                  PLUG  NIO among premarket gainers     news   \n",
       "\n",
       "                                             content release_date  \\\n",
       "0  What s happening\\nShares of Chinese electric c...   2020-01-15   \n",
       "1  Gainers  NIO  NYSE NIO   7  \\nLosers  MGP Ingr...   2020-01-18   \n",
       "2  Gainers  NIO  NYSE NIO   14   Village Farms In...   2020-01-15   \n",
       "3  Cemtrex  NASDAQ CETX   85  after FY results \\n...   2020-01-15   \n",
       "4  aTyr Pharma  NASDAQ LIFE   63  on Kyorin Pharm...   2020-01-06   \n",
       "\n",
       "          provider                                                url  \\\n",
       "0  The Motley Fool                             https://invst.ly/pigqi   \n",
       "1    Seeking Alpha                             https://invst.ly/pje9c   \n",
       "2    Seeking Alpha                             https://invst.ly/pifmv   \n",
       "3    Seeking Alpha                             https://invst.ly/picu8   \n",
       "4    Seeking Alpha  https://seekingalpha.com/news/3529772-plug-nio...   \n",
       "\n",
       "   article_id  \n",
       "0     2060327  \n",
       "1     2062196  \n",
       "2     2060249  \n",
       "3     2060039  \n",
       "4     2053096  "
      ]
     },
     "execution_count": 28,
     "metadata": {},
     "output_type": "execute_result"
    }
   ],
   "source": [
    "df_articles =  pd.read_csv(r'..\\data\\us_equities_news_dataset.csv')\n",
    "df.head()"
   ]
  },
  {
   "cell_type": "code",
   "execution_count": 25,
   "id": "82693166-6d76-4d8f-a99b-3dd2f8fabea8",
   "metadata": {},
   "outputs": [
    {
     "name": "stdout",
     "output_type": "stream",
     "text": [
      "{'CHN', 'AXP', 'PEAK', 'MSFT', 'BYFC', 'STZ', 'TSN', 'CMCSA', 'SRL', 'CRUS', 'VRSN', 'FITB', 'ARTNA', 'AEP', 'CPIX', 'AMSF', 'CCNE', 'CATY', 'CRM', 'FSLR', 'AMED', 'TCOM', 'TAOP', 'ASFI', 'PM', 'ROK', 'FDX', 'CACC', 'ALXN', 'DENN', 'BEAT', 'AFL', 'VMC', 'LNN', 'CCOI', 'SPAR', 'WY', 'AVY', 'UPS', 'AIRT', 'AMOT', 'ALBO', 'CALI', 'NOV', 'HBAN', 'TTWO', 'CALM', 'GT', 'AROW', 'DVN', 'LEG', 'HST', 'BKR', 'HAS', 'FAST', 'MRK', 'JNJ', 'CVGW', 'HOLX', 'DCTHD', 'GHC', 'PFE', 'DXCM', 'EL', 'ARGO', 'ADSK', 'COST', 'CPL', 'CEF', 'CLX', 'ASML', 'AVGO', 'AIZ', 'WU', 'PRDO', 'CEVA', 'LNC', 'CPSS', 'BHLB', 'CNTFY', 'BXP', 'CYTR', 'ENGIE', 'CIM', 'MGM', 'DSPG', 'AA', 'KR', 'LHX', 'NBL', 'CHTR', 'STX', 'HMC', 'ABCB', 'IX', 'TAP', 'ALV', 'AMNB', 'COKE', 'CAG', 'AGNC', 'RYAAY', 'MMC', 'GM', 'AMRB', 'AES', 'DE', 'EMR', 'DXLG', 'D', 'PSA', 'CDXS', 'ACIW', 'DCOM', 'CWBC', 'CDNS', 'PTVCB', 'MMM', 'CARV', 'NTAP', 'PCG', 'ORLY', 'AMX', 'CLAR', 'CRAY', 'BBBY', 'SINA', 'ANF', 'UIS', 'DGII', 'CROX', 'NWSA', 'ECL', 'TM', 'SITC', 'ENTG', 'BIIB', 'CHRS', 'CCMP', 'PKI', 'HPQ', 'LH', 'AAXN', 'RDWR', 'OKE', 'CHCO', 'EDMCQ', 'PG', 'JCI', 'BLL', 'AMGN', 'EXC', 'RHI', 'FMC', 'SSRM', 'MCK', 'CHRW', 'NVDA', 'ADUS', 'KLAC', 'LAZ', 'COHR', 'DGX', 'CVCO', 'PME', 'CAH', 'HD', 'LOW', 'SO', 'CRMT', 'PEP', 'GE', 'CTL', 'CSX', 'SJM', 'SLM', 'BMTC', 'CWST', 'HDB', 'HAL', 'APLO', 'DRI', 'BUSE', 'CYTK', 'WELL', 'BX', 'FISV', 'IBN', 'CBRE', 'BCPC', 'ILMN', 'INTC', 'R', 'EBAY', 'WFTLF', 'JEF', 'CLSN', 'IRM', 'DISH', 'CBAN', 'CENTA', 'BSTC', 'VMW', 'ADP', 'ALL', 'PAAS', 'CSIQ', 'WYNN', 'MRVL', 'BPFH', 'AAWW', 'AMP', 'TER', 'RDY', 'ACAD', 'JBLU', 'ED', 'ECHO', 'OXY', 'XLNX', 'MKTAY', 'NUAN', 'GPS', 'HON', 'CTRN', 'CSWC', 'MTW', 'KIM', 'MXIM', 'CBSH', 'AVNW', 'MSI', 'DIOD', 'STC', 'ANDE', 'COP', 'CYAN', 'ASR', 'K', 'MTB', 'DNKN', 'NTRS', 'AEM', 'KOF', 'CECE', 'AZO', 'ICE', 'HES', 'AN', 'DJCO', 'CRMBQ', 'BA', 'BCOM', 'MCD', 'DWSN', 'ARCH', 'KNMCY', 'BANC', 'SEE', 'SNE', 'ARTX', 'CSPI', 'HSY', 'MAT', 'DDS', 'GPC', 'UNM', 'BIDU', 'HIG', 'MU', 'CMA', 'ARNA', 'BFb', 'ABT', 'IIJIY', 'FCX', 'DISCB', 'USB', 'T', 'BAC', 'KYOCY', 'EIX', 'SRE', 'KEY', 'FLIR', 'ANIK', 'CZFC', 'CENT', 'ARWR', 'AEE', 'QCOM', 'GOOGL', 'CATM', 'EA', 'CBAT', 'LAMR', 'CVTI', 'RF', 'DCIX', 'NS', 'BRKb', 'AIG', 'DVA', 'CTWS', 'ITRI', 'CTHR', 'FLEX', 'BC', 'CMTL', 'CLMT', 'OMC', 'AIV', 'PNW', 'MDT', 'TRCB', 'GWW', 'ARKR', 'WM', 'CPSI', 'YUM', 'CART', 'DRAD', 'CBPO', 'DNBF', 'SGEN', 'ITW', 'BDX', 'CF', 'AUBN', 'DISCK', 'AON', 'CNAF', 'CNBKA', 'ABMD', 'IVZ', 'TJX', 'CTXS', 'EP_pc', 'CMG', 'TEX', 'CPHC', 'APOG', 'EXPE', 'CMI', 'UNP', 'BSX', 'ITT', 'CVV', 'ZBH', 'TMO', 'IPG', 'TGT', 'EQT', 'PEG', 'BEN', 'CPLP', 'FE', 'CVLY', 'VZ', 'ATI', 'URBN', 'MA', 'MAR', 'WMT', 'CSFL', 'CASS', 'DXYN', 'AX', 'UTX', 'EPAC', 'UBER', 'ATLC', 'CASY', 'CHDN', 'ATRC', 'AVB', 'SCCO', 'PUMG', 'THRM', 'NDAQ', 'FTI', 'BLDR', 'IGT', 'STLD', 'MDP', 'CORT', 'FFIV', 'VCEL', 'CORE', 'APH', 'DMRC', 'BBQ', 'BRKL', 'EQIX', 'HOPE', 'BLK', 'EW', 'ADM', 'DD', 'TXN', 'NWL', 'PXD', 'DLTR', 'C', 'DGICB', 'AKAM', 'DHI', 'GS', 'APEI', 'CHCI', 'DYNT', 'CTBI', 'PH', 'CMS', 'AMWD', 'WFC', 'AXTI', 'FHN', 'BELFA', 'FIS', 'CCBG', 'LEN', 'BVSN', 'CRWS', 'ARQL', 'PPL', 'CLRO', 'BOKF', 'CBBI', 'CTAS', 'CSII', 'OSK', 'CHEF', 'GOLD', 'BJRI', 'AMT', 'NUE', 'DDD', 'SCHW', 'CACH', 'DIS', 'TRV', 'ACN', 'BELFB', 'AFSIM', 'DMLP', 'BIG', 'TIF', 'ANSS', 'CRI', 'DFS', 'POLYP', 'ECPG', 'NTTYY', 'CIEN', 'BLDP', 'MPAA', 'ADBE', 'MHO', 'RSG', 'NSC', 'PRU', 'CRAI', 'CNMD', 'WPM', 'PNC', 'NKE', 'PDCO', 'RMBS', 'ANTM', 'CNS', 'NTUS', 'NFLX', 'ATGE', 'HOV', 'MET', 'CNP', 'CAC', 'CL', 'GIS', 'GLW', 'CGEN', 'ADTN', 'XEL', 'BMRC', 'CYOU', 'SRPT', 'KMB', 'KSS', 'ARCB', 'CBRL', 'XRX', 'CHOPF', 'TECK', 'BCBP', 'CY', 'IRCP', 'ADES', 'MGA', 'RTN', 'COLB', 'RS', 'DOV', 'MCO', 'VIEWF', 'CIZN', 'XRAY', 'CTSH', 'AAPL', 'ETR', 'NCR', 'GRMN', 'ATLO', 'DAL', 'BANF', 'TTM', 'UBSG', 'JBL', 'BHC', 'FANH', 'CFFN', 'PFG', 'BBY', 'NLOK', 'NIO', 'CETV', 'DORM', 'CUTR', 'VIAV', 'KHC', 'JPM', 'CMCO', 'DOW', 'APA', 'ABC', 'NWS', 'AOSL', 'MIDD', 'HRL', 'AIMC', 'DHR', 'EBMT', 'EBIX', 'ASTE', 'TXT', 'TPR', 'BMRN', 'NI', 'ADI', 'CAKE', 'VTR', 'BERK', 'M', 'ALGN', 'GRBK', 'HOG', 'EXPD', 'JWN', 'AAON', 'CWCO', 'ANAT', 'RGLD', 'YNDX', 'GL', 'LB', 'PCAR', 'ALLT', 'KO', 'ISRG', 'DUSA', 'VALE', 'IR', 'CAJ', 'DXC', 'PLD', 'PBR', 'COF', 'DUK', 'CRZO', 'CCUR', 'WHR', 'BOOM', 'ALKS', 'WTRG', 'WEC', 'PPG', 'SWK', 'HUM', 'COLM', 'J', 'BRKS', 'DSG', 'MYL', 'CFBK', 'INFY', 'CYBE', 'GILD', 'MNST', 'MTG', 'BSRR', 'CCEP', 'SHW', 'ANGO', 'CAT', 'AMD', 'IONS', 'CVS', 'MUR', 'KDP', 'IPGP', 'VAR', 'VIAC', 'CERN', 'SYK', 'V', 'CSGS', 'UAA', 'ES', 'AMAT', 'ACLS', 'DTE', 'PIPR', 'NRG', 'NYT', 'A', 'BAX', 'CNET', 'BKNG', 'BKSC', 'SBUX', 'THC', 'CLFD', 'CAAS', 'BECN', 'BDGE', 'IFF', 'CFFI', 'ETFC', 'EFX', 'DYSL', 'DAIO', 'LMT', 'HRB', 'DISCA', 'ECOL', 'ATRI', 'AEGN', 'ASGN', 'IBA', 'LUV', 'DGICA', 'CASH', 'AGN', 'XOM', 'AEIS', 'OPCH', 'CPB', 'MAS', 'BBSI', 'PGR', 'RAMP', 'ATRO', 'SSP', 'KMX', 'WMB', 'SYY', 'EQR', 'CHKP', 'EBTC', 'AUDC', 'CVBF', 'IBM', 'ATVI', 'VNO', 'FII', 'RCI', 'DCMYY', 'BFIN', 'L', 'UAL', 'ACHC', 'COWN', 'JNPR', 'CSGP', 'CFNB', 'ALCO', 'SOHU', 'HAIN', 'WAT', 'NEM', 'ARRY', 'DSWL', 'AVAV', 'CGA', 'LVS', 'CARB', 'CI', 'CME', 'AMSWA', 'KBH', 'MCHP', 'CINF', 'WDC', 'CB', 'ALOT', 'APD', 'IP', 'STT', 'SLB', 'SNV', 'RL', 'BMY', 'TV', 'VFC', 'MS', 'AGYS', 'BOSC', 'TFC', 'ASH', 'OI', 'BWEN', 'LLY', 'MPC', 'WBA', 'ROP', 'TSLA', 'CREE', 'BOCH', 'DELL', 'NEE', 'NOC', 'ROST', 'FHI', 'BMS', 'GD', 'CVCY', 'BNSO', 'HP', 'MRO', 'CSOD', 'INTU', 'ARLP', 'FLR', 'JBHT', 'ATNI', 'TROW', 'BSQR', 'ASB', 'WYND', 'SNA', 'BLKB', 'BRID', 'CLCT', 'CVX', 'UNH', 'TDC', 'IAC', 'NXPI', 'BK', 'MITSY', 'COG', 'ZION', 'MOS', 'CAMT', 'FLS', 'MANT', 'NTES', 'VRTX', 'CCRN', 'EMN', 'CGNX', 'BANR', 'VLO', 'PHM', 'BSET', 'ALGT', 'ETN', 'HKTVY', 'BSPM', 'HSIC', 'SPGI', 'EOG', 'ALNY', 'MKC', 'LBTYA', 'TEVA', 'LRCX', 'GPAGF', 'PAYX', 'CSCO', 'SPG', 'AMZN', 'COHU', 'AMTD', 'MO', 'DXPE', 'EBSB', 'CZNC', 'AMKR', 'ORCL', 'SRCL', 'CIDM'}\n"
     ]
    }
   ],
   "source": [
    "df_stockprices = pd.read.csv(r'..\\data\\.csv')"
   ]
  },
  {
   "cell_type": "code",
   "execution_count": 30,
   "id": "193adf58-a717-4c24-ad82-5758af507d24",
   "metadata": {},
   "outputs": [
    {
     "name": "stdout",
     "output_type": "stream",
     "text": [
      "What s happening\n",
      "Shares of Chinese electric car maker NIO  NYSE NIO  were sharply higher on Wednesday morning after a Chinese business news outlet reported that the cash strapped company had secured new financing from a major automaker  As of 12 p m  EST  NIO s American depositary shares  ADS  were up about 16  from Tuesday s closing price \n",
      "So what\n",
      "According to a report from Chinese business news site Sina Finance that cites a person familiar with the matter  NIO will soon receive a cash infusion of about  1 billion from Guangzhou based GAC Group  OTC GNZUF    At press time  neither NIO nor GAC had confirmed    or denied    the report  \n",
      "\n",
      "GAC is one of China s big domestic automakers  It has significant joint ventures with Honda Motor and Fiat Chrysler Automobiles  among others  If GAC has in fact decided to make a major investment in NIO    and as of now  neither company has confirmed the report    then NIO s future is bright  \n",
      "That s an important development  In its 15 months as a public company  NIO has seen rising sales and strong customer loyalty  but its rapidly declining cash has called its future into question  As of Sept  30  the company had just  274 3 million remaining  down from  1 123 billion on March 31 \n",
      "Now what\n",
      "If this report is accurate and if the deal closes  then it s extremely bullish for NIO    but I think that auto investors should tread a bit carefully here  Note that an earlier bailout deal fell through at the last minute because of concerns about the company s viability  Use caution with this one \n"
     ]
    }
   ],
   "source": []
  },
  {
   "cell_type": "code",
   "execution_count": null,
   "id": "c4aaa27e-b9c0-4980-a419-c57d95936806",
   "metadata": {},
   "outputs": [],
   "source": []
  }
 ],
 "metadata": {
  "kernelspec": {
   "display_name": "Python 3 (ipykernel)",
   "language": "python",
   "name": "python3"
  },
  "language_info": {
   "codemirror_mode": {
    "name": "ipython",
    "version": 3
   },
   "file_extension": ".py",
   "mimetype": "text/x-python",
   "name": "python",
   "nbconvert_exporter": "python",
   "pygments_lexer": "ipython3",
   "version": "3.8.2"
  }
 },
 "nbformat": 4,
 "nbformat_minor": 5
}
