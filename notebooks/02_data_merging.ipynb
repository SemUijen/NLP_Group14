{
 "cells": [
  {
   "cell_type": "markdown",
   "id": "f2a2d1b0-bc07-431e-afa6-24729fa326df",
   "metadata": {},
   "source": [
    "# 2. Data Merging"
   ]
  },
  {
   "cell_type": "code",
   "execution_count": 1,
   "id": "8903d13b-ec1c-4ec2-b945-7591a0456421",
   "metadata": {},
   "outputs": [],
   "source": [
    "import pandas as pd"
   ]
  },
  {
   "cell_type": "code",
   "execution_count": 34,
   "id": "3764d550-723e-4239-a2a2-c5c9c046ca7e",
   "metadata": {},
   "outputs": [],
   "source": [
    "STOCK_DATASET_FILE = \"../data/aapl.csv\"\n",
    "NEWS_DATASET_FILE = \"../data/us_equities_news.csv\"\n",
    "STOCK_NEWS_DATASET_FILE = \"../data/aapl_us_equities_news.csv\""
   ]
  },
  {
   "cell_type": "markdown",
   "id": "89ab47a5-b6eb-4469-bcb4-3b7a88fab656",
   "metadata": {},
   "source": [
    "## 2.1 Load data"
   ]
  },
  {
   "cell_type": "markdown",
   "id": "f30bc981-1918-4661-8fc7-a0cf90cf016b",
   "metadata": {},
   "source": [
    "### 2.1.1 Load stock data"
   ]
  },
  {
   "cell_type": "code",
   "execution_count": 3,
   "id": "d465e810-e59a-4f28-b61a-50af503d208e",
   "metadata": {},
   "outputs": [
    {
     "name": "stdout",
     "output_type": "stream",
     "text": [
      "CPU times: user 4.43 ms, sys: 765 µs, total: 5.2 ms\n",
      "Wall time: 4.51 ms\n"
     ]
    }
   ],
   "source": [
    "%%time\n",
    "df_aapl = pd.read_csv(STOCK_DATASET_FILE)"
   ]
  },
  {
   "cell_type": "markdown",
   "id": "a60d089c-8b55-469e-89a9-d71fe3871af0",
   "metadata": {},
   "source": [
    "### 2.1.2 Load news data"
   ]
  },
  {
   "cell_type": "code",
   "execution_count": 4,
   "id": "06b9df03-dd8f-445e-a1ce-69c96fee03f5",
   "metadata": {},
   "outputs": [
    {
     "name": "stdout",
     "output_type": "stream",
     "text": [
      "CPU times: user 4.57 s, sys: 314 ms, total: 4.89 s\n",
      "Wall time: 4.89 s\n"
     ]
    }
   ],
   "source": [
    "%%time\n",
    "df_us_equities_news = pd.read_csv(NEWS_DATASET_FILE)"
   ]
  },
  {
   "cell_type": "markdown",
   "id": "884ac6bf-2fe9-4d82-9997-6c6a3b74fe39",
   "metadata": {},
   "source": [
    "## 2.2 Prepare data"
   ]
  },
  {
   "cell_type": "markdown",
   "id": "5394ecd9-cda5-4b10-a4c8-fe7a01fb4a0f",
   "metadata": {},
   "source": [
    "### 2.2.1 Prepare stock data"
   ]
  },
  {
   "cell_type": "code",
   "execution_count": 5,
   "id": "b48bd8ad-46a1-477e-a071-bc1b195cf95c",
   "metadata": {},
   "outputs": [],
   "source": [
    "df_aapl = df_aapl.rename(columns={\n",
    "    \"Date\": \"date\",\n",
    "    \"Open\": \"open\",\n",
    "    \"High\": \"high\",\n",
    "    \"Low\": \"low\",\n",
    "    \"Close\": \"close\",\n",
    "    \"Adj Close\": \"adj_close\",\n",
    "    \"Volume\": \"volume\",\n",
    "})"
   ]
  },
  {
   "cell_type": "code",
   "execution_count": 6,
   "id": "f7ac6947-0a5a-45fd-8fd3-a56e24e36226",
   "metadata": {},
   "outputs": [],
   "source": [
    "df_aapl[\"date\"] = pd.to_datetime(df_aapl[\"date\"])\n",
    "df_aapl[\"open\"] = df_aapl[\"open\"].astype(\"float\")\n",
    "df_aapl[\"high\"] = df_aapl[\"high\"].astype(\"float\")\n",
    "df_aapl[\"low\"] = df_aapl[\"low\"].astype(\"float\")\n",
    "df_aapl[\"close\"] = df_aapl[\"close\"].astype(\"float\")\n",
    "df_aapl[\"adj_close\"] = df_aapl[\"adj_close\"].astype(\"float\")\n",
    "df_aapl[\"volume\"] = df_aapl[\"volume\"].astype(int)"
   ]
  },
  {
   "cell_type": "markdown",
   "id": "3d7b8664-0a0b-41eb-854c-f3d57f177275",
   "metadata": {},
   "source": [
    "### 2.2.2 Prepare news data"
   ]
  },
  {
   "cell_type": "code",
   "execution_count": 7,
   "id": "4454ced8-a0b4-403a-a9c7-f5c4698a14b2",
   "metadata": {},
   "outputs": [],
   "source": [
    "df_us_equities_news = df_us_equities_news.rename(columns={\"release_date\": \"date\"})"
   ]
  },
  {
   "cell_type": "code",
   "execution_count": 8,
   "id": "3b4eead0-9b66-42d4-b221-ffd8b78e1160",
   "metadata": {},
   "outputs": [],
   "source": [
    "df_us_equities_news[\"id\"] = df_us_equities_news[\"id\"].astype(int)\n",
    "df_us_equities_news[\"ticker\"] = df_us_equities_news[\"ticker\"].astype(\"category\")\n",
    "df_us_equities_news[\"title\"] = df_us_equities_news[\"title\"].astype(str)\n",
    "df_us_equities_news[\"category\"] = df_us_equities_news[\"category\"].astype(\"category\")\n",
    "df_us_equities_news[\"content\"] = df_us_equities_news[\"content\"].astype(str)\n",
    "df_us_equities_news[\"date\"] = pd.to_datetime(df_us_equities_news[\"date\"])\n",
    "df_us_equities_news[\"provider\"] = df_us_equities_news[\"provider\"].astype(\"category\")\n",
    "df_us_equities_news[\"url\"] = df_us_equities_news[\"url\"].astype(str)\n",
    "df_us_equities_news[\"article_id\"] = df_us_equities_news[\"article_id\"].astype(int)"
   ]
  },
  {
   "cell_type": "markdown",
   "id": "9dbe7e47-c56c-4cac-97ee-2f11ab7a966e",
   "metadata": {},
   "source": [
    "## 2.3 Join data"
   ]
  },
  {
   "cell_type": "code",
   "execution_count": 30,
   "id": "67ba2753-adcb-49fa-9166-7610c322bb7d",
   "metadata": {},
   "outputs": [],
   "source": [
    "df_appl_us_equities_news = pd.merge(df_us_equities_news, df_aapl, on=\"date\", how=\"inner\").sort_values(\"date\")"
   ]
  },
  {
   "cell_type": "markdown",
   "id": "81aecf28-9354-47d4-85ff-12976209de26",
   "metadata": {},
   "source": [
    "## 2.4 Inspect data"
   ]
  },
  {
   "cell_type": "code",
   "execution_count": 33,
   "id": "6fb310cc-978f-4e22-b1ca-9aafc4b8d25f",
   "metadata": {},
   "outputs": [
    {
     "data": {
      "text/html": [
       "<div>\n",
       "<style scoped>\n",
       "    .dataframe tbody tr th:only-of-type {\n",
       "        vertical-align: middle;\n",
       "    }\n",
       "\n",
       "    .dataframe tbody tr th {\n",
       "        vertical-align: top;\n",
       "    }\n",
       "\n",
       "    .dataframe thead th {\n",
       "        text-align: right;\n",
       "    }\n",
       "</style>\n",
       "<table border=\"1\" class=\"dataframe\">\n",
       "  <thead>\n",
       "    <tr style=\"text-align: right;\">\n",
       "      <th></th>\n",
       "      <th>id</th>\n",
       "      <th>ticker</th>\n",
       "      <th>title</th>\n",
       "      <th>category</th>\n",
       "      <th>content</th>\n",
       "      <th>date</th>\n",
       "      <th>provider</th>\n",
       "      <th>url</th>\n",
       "      <th>article_id</th>\n",
       "      <th>open</th>\n",
       "      <th>high</th>\n",
       "      <th>low</th>\n",
       "      <th>close</th>\n",
       "      <th>adj_close</th>\n",
       "      <th>volume</th>\n",
       "    </tr>\n",
       "  </thead>\n",
       "  <tbody>\n",
       "    <tr>\n",
       "      <th>163975</th>\n",
       "      <td>292541</td>\n",
       "      <td>BAC</td>\n",
       "      <td>UPDATE 4 Rouble at record low as Russia faces ...</td>\n",
       "      <td>news</td>\n",
       "      <td>Updates with day s interventions and futures ...</td>\n",
       "      <td>2009-01-15</td>\n",
       "      <td>Reuters</td>\n",
       "      <td>https://www.investing.com/news/forex-news/upda...</td>\n",
       "      <td>20872</td>\n",
       "      <td>2.8775</td>\n",
       "      <td>3.004286</td>\n",
       "      <td>2.858929</td>\n",
       "      <td>2.977857</td>\n",
       "      <td>2.542589</td>\n",
       "      <td>1831634000</td>\n",
       "    </tr>\n",
       "    <tr>\n",
       "      <th>163986</th>\n",
       "      <td>388968</td>\n",
       "      <td>BBY</td>\n",
       "      <td>UPDATE 4 DSG to cut more costs as sales fall w...</td>\n",
       "      <td>news</td>\n",
       "      <td>Xmas lfl sales down 10 percent  gross margin...</td>\n",
       "      <td>2009-01-15</td>\n",
       "      <td>Reuters</td>\n",
       "      <td>https://www.investing.com/news/forex-news/upda...</td>\n",
       "      <td>20724</td>\n",
       "      <td>2.8775</td>\n",
       "      <td>3.004286</td>\n",
       "      <td>2.858929</td>\n",
       "      <td>2.977857</td>\n",
       "      <td>2.542589</td>\n",
       "      <td>1831634000</td>\n",
       "    </tr>\n",
       "    <tr>\n",
       "      <th>163985</th>\n",
       "      <td>342945</td>\n",
       "      <td>NYT</td>\n",
       "      <td>Lack of fame aids Geithner over US tax mistake</td>\n",
       "      <td>news</td>\n",
       "      <td>By Matthew Bigg\\n ATLANTA  Jan 15  Reuters    ...</td>\n",
       "      <td>2009-01-15</td>\n",
       "      <td>Reuters</td>\n",
       "      <td>https://www.investing.com/news/forex-news/lack...</td>\n",
       "      <td>20995</td>\n",
       "      <td>2.8775</td>\n",
       "      <td>3.004286</td>\n",
       "      <td>2.858929</td>\n",
       "      <td>2.977857</td>\n",
       "      <td>2.542589</td>\n",
       "      <td>1831634000</td>\n",
       "    </tr>\n",
       "    <tr>\n",
       "      <th>163984</th>\n",
       "      <td>326167</td>\n",
       "      <td>TGT</td>\n",
       "      <td>CORRECTED   Depression ahead  prepare for stoc...</td>\n",
       "      <td>news</td>\n",
       "      <td>Corrects figure in paragraph 3 \\n LONDON  Jan...</td>\n",
       "      <td>2009-01-15</td>\n",
       "      <td>Reuters</td>\n",
       "      <td>https://www.investing.com/news/forex-news/corr...</td>\n",
       "      <td>20779</td>\n",
       "      <td>2.8775</td>\n",
       "      <td>3.004286</td>\n",
       "      <td>2.858929</td>\n",
       "      <td>2.977857</td>\n",
       "      <td>2.542589</td>\n",
       "      <td>1831634000</td>\n",
       "    </tr>\n",
       "    <tr>\n",
       "      <th>163983</th>\n",
       "      <td>326166</td>\n",
       "      <td>TGT</td>\n",
       "      <td>Euro area CPI Falls Down To 1 6  In December</td>\n",
       "      <td>news</td>\n",
       "      <td>Release Explanation  The CPI measures the aver...</td>\n",
       "      <td>2009-01-15</td>\n",
       "      <td>LFB Forex</td>\n",
       "      <td>https://www.investing.com/news/forex-news/euro...</td>\n",
       "      <td>20745</td>\n",
       "      <td>2.8775</td>\n",
       "      <td>3.004286</td>\n",
       "      <td>2.858929</td>\n",
       "      <td>2.977857</td>\n",
       "      <td>2.542589</td>\n",
       "      <td>1831634000</td>\n",
       "    </tr>\n",
       "    <tr>\n",
       "      <th>163982</th>\n",
       "      <td>326165</td>\n",
       "      <td>TGT</td>\n",
       "      <td>German Final CPI Rose In December  As Expected</td>\n",
       "      <td>news</td>\n",
       "      <td>Release Explanation  The CPI measures the aver...</td>\n",
       "      <td>2009-01-15</td>\n",
       "      <td>LFB Forex</td>\n",
       "      <td>https://www.investing.com/news/forex-news/germ...</td>\n",
       "      <td>20694</td>\n",
       "      <td>2.8775</td>\n",
       "      <td>3.004286</td>\n",
       "      <td>2.858929</td>\n",
       "      <td>2.977857</td>\n",
       "      <td>2.542589</td>\n",
       "      <td>1831634000</td>\n",
       "    </tr>\n",
       "    <tr>\n",
       "      <th>163981</th>\n",
       "      <td>326120</td>\n",
       "      <td>TGT</td>\n",
       "      <td>UPDATE 2 Fed s Evans   U S  in midst of seriou...</td>\n",
       "      <td>news</td>\n",
       "      <td>Updates with comments from Q A \\n By Kristina...</td>\n",
       "      <td>2009-01-15</td>\n",
       "      <td>Reuters</td>\n",
       "      <td>https://www.investing.com/news/forex-news/upda...</td>\n",
       "      <td>20979</td>\n",
       "      <td>2.8775</td>\n",
       "      <td>3.004286</td>\n",
       "      <td>2.858929</td>\n",
       "      <td>2.977857</td>\n",
       "      <td>2.542589</td>\n",
       "      <td>1831634000</td>\n",
       "    </tr>\n",
       "    <tr>\n",
       "      <th>163980</th>\n",
       "      <td>326119</td>\n",
       "      <td>TGT</td>\n",
       "      <td>Fed s Yellen   US must act aggressively on eco...</td>\n",
       "      <td>news</td>\n",
       "      <td>SAN FRANCISCO  Jan 15  Reuters    The United S...</td>\n",
       "      <td>2009-01-15</td>\n",
       "      <td>Reuters</td>\n",
       "      <td>https://www.investing.com/news/forex-news/fed'...</td>\n",
       "      <td>20976</td>\n",
       "      <td>2.8775</td>\n",
       "      <td>3.004286</td>\n",
       "      <td>2.858929</td>\n",
       "      <td>2.977857</td>\n",
       "      <td>2.542589</td>\n",
       "      <td>1831634000</td>\n",
       "    </tr>\n",
       "    <tr>\n",
       "      <th>163967</th>\n",
       "      <td>227446</td>\n",
       "      <td>KNMCY</td>\n",
       "      <td>INTERVIEW UPDATE 2 Square Enix enjoys robust y...</td>\n",
       "      <td>news</td>\n",
       "      <td>Year end demand healthy despite economy\\n   ...</td>\n",
       "      <td>2009-01-15</td>\n",
       "      <td>Reuters</td>\n",
       "      <td>https://www.investing.com/news/forex-news/inte...</td>\n",
       "      <td>20706</td>\n",
       "      <td>2.8775</td>\n",
       "      <td>3.004286</td>\n",
       "      <td>2.858929</td>\n",
       "      <td>2.977857</td>\n",
       "      <td>2.542589</td>\n",
       "      <td>1831634000</td>\n",
       "    </tr>\n",
       "    <tr>\n",
       "      <th>163968</th>\n",
       "      <td>254443</td>\n",
       "      <td>TM</td>\n",
       "      <td>TOPWRAP 4 Bank crisis deepens anew  ECB poised...</td>\n",
       "      <td>news</td>\n",
       "      <td>European Central Bank seen cutting interest ...</td>\n",
       "      <td>2009-01-15</td>\n",
       "      <td>Reuters</td>\n",
       "      <td>https://www.investing.com/news/forex-news/topw...</td>\n",
       "      <td>20748</td>\n",
       "      <td>2.8775</td>\n",
       "      <td>3.004286</td>\n",
       "      <td>2.858929</td>\n",
       "      <td>2.977857</td>\n",
       "      <td>2.542589</td>\n",
       "      <td>1831634000</td>\n",
       "    </tr>\n",
       "  </tbody>\n",
       "</table>\n",
       "</div>"
      ],
      "text/plain": [
       "            id ticker                                              title  \\\n",
       "163975  292541    BAC  UPDATE 4 Rouble at record low as Russia faces ...   \n",
       "163986  388968    BBY  UPDATE 4 DSG to cut more costs as sales fall w...   \n",
       "163985  342945    NYT     Lack of fame aids Geithner over US tax mistake   \n",
       "163984  326167    TGT  CORRECTED   Depression ahead  prepare for stoc...   \n",
       "163983  326166    TGT       Euro area CPI Falls Down To 1 6  In December   \n",
       "163982  326165    TGT     German Final CPI Rose In December  As Expected   \n",
       "163981  326120    TGT  UPDATE 2 Fed s Evans   U S  in midst of seriou...   \n",
       "163980  326119    TGT  Fed s Yellen   US must act aggressively on eco...   \n",
       "163967  227446  KNMCY  INTERVIEW UPDATE 2 Square Enix enjoys robust y...   \n",
       "163968  254443     TM  TOPWRAP 4 Bank crisis deepens anew  ECB poised...   \n",
       "\n",
       "       category                                            content       date  \\\n",
       "163975     news   Updates with day s interventions and futures ... 2009-01-15   \n",
       "163986     news    Xmas lfl sales down 10 percent  gross margin... 2009-01-15   \n",
       "163985     news  By Matthew Bigg\\n ATLANTA  Jan 15  Reuters    ... 2009-01-15   \n",
       "163984     news   Corrects figure in paragraph 3 \\n LONDON  Jan... 2009-01-15   \n",
       "163983     news  Release Explanation  The CPI measures the aver... 2009-01-15   \n",
       "163982     news  Release Explanation  The CPI measures the aver... 2009-01-15   \n",
       "163981     news   Updates with comments from Q A \\n By Kristina... 2009-01-15   \n",
       "163980     news  SAN FRANCISCO  Jan 15  Reuters    The United S... 2009-01-15   \n",
       "163967     news    Year end demand healthy despite economy\\n   ... 2009-01-15   \n",
       "163968     news    European Central Bank seen cutting interest ... 2009-01-15   \n",
       "\n",
       "         provider                                                url  \\\n",
       "163975    Reuters  https://www.investing.com/news/forex-news/upda...   \n",
       "163986    Reuters  https://www.investing.com/news/forex-news/upda...   \n",
       "163985    Reuters  https://www.investing.com/news/forex-news/lack...   \n",
       "163984    Reuters  https://www.investing.com/news/forex-news/corr...   \n",
       "163983  LFB Forex  https://www.investing.com/news/forex-news/euro...   \n",
       "163982  LFB Forex  https://www.investing.com/news/forex-news/germ...   \n",
       "163981    Reuters  https://www.investing.com/news/forex-news/upda...   \n",
       "163980    Reuters  https://www.investing.com/news/forex-news/fed'...   \n",
       "163967    Reuters  https://www.investing.com/news/forex-news/inte...   \n",
       "163968    Reuters  https://www.investing.com/news/forex-news/topw...   \n",
       "\n",
       "        article_id    open      high       low     close  adj_close  \\\n",
       "163975       20872  2.8775  3.004286  2.858929  2.977857   2.542589   \n",
       "163986       20724  2.8775  3.004286  2.858929  2.977857   2.542589   \n",
       "163985       20995  2.8775  3.004286  2.858929  2.977857   2.542589   \n",
       "163984       20779  2.8775  3.004286  2.858929  2.977857   2.542589   \n",
       "163983       20745  2.8775  3.004286  2.858929  2.977857   2.542589   \n",
       "163982       20694  2.8775  3.004286  2.858929  2.977857   2.542589   \n",
       "163981       20979  2.8775  3.004286  2.858929  2.977857   2.542589   \n",
       "163980       20976  2.8775  3.004286  2.858929  2.977857   2.542589   \n",
       "163967       20706  2.8775  3.004286  2.858929  2.977857   2.542589   \n",
       "163968       20748  2.8775  3.004286  2.858929  2.977857   2.542589   \n",
       "\n",
       "            volume  \n",
       "163975  1831634000  \n",
       "163986  1831634000  \n",
       "163985  1831634000  \n",
       "163984  1831634000  \n",
       "163983  1831634000  \n",
       "163982  1831634000  \n",
       "163981  1831634000  \n",
       "163980  1831634000  \n",
       "163967  1831634000  \n",
       "163968  1831634000  "
      ]
     },
     "execution_count": 33,
     "metadata": {},
     "output_type": "execute_result"
    }
   ],
   "source": [
    "df_appl_us_equities_news.head(10)"
   ]
  },
  {
   "cell_type": "markdown",
   "id": "0d4c0fac-fcd5-4de0-9590-5cfe838a2f51",
   "metadata": {},
   "source": [
    "## 2.5 Save data"
   ]
  },
  {
   "cell_type": "code",
   "execution_count": 37,
   "id": "50d48501-e230-4790-bbc2-b48b3d254bfe",
   "metadata": {},
   "outputs": [],
   "source": [
    "df_appl_us_equities_news.to_csv(STOCK_NEWS_DATASET_FILE, index=False)"
   ]
  },
  {
   "cell_type": "markdown",
   "id": "5102921d-f4e3-42f0-bbc7-d914130d98eb",
   "metadata": {},
   "source": [
    "# 99. Scratch"
   ]
  },
  {
   "cell_type": "code",
   "execution_count": null,
   "id": "0920d4df-64b0-41fa-8e03-40424f45ea8d",
   "metadata": {},
   "outputs": [],
   "source": []
  }
 ],
 "metadata": {
  "kernelspec": {
   "display_name": "Python 3 (ipykernel)",
   "language": "python",
   "name": "python3"
  },
  "language_info": {
   "codemirror_mode": {
    "name": "ipython",
    "version": 3
   },
   "file_extension": ".py",
   "mimetype": "text/x-python",
   "name": "python",
   "nbconvert_exporter": "python",
   "pygments_lexer": "ipython3",
   "version": "3.8.10"
  }
 },
 "nbformat": 4,
 "nbformat_minor": 5
}
