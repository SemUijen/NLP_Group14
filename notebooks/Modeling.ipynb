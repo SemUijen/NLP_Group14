{
 "cells": [
  {
   "cell_type": "markdown",
   "id": "6ef3d281-c272-452d-8b56-053dfa1e738d",
   "metadata": {},
   "source": [
    "# 1. Modeling\n",
    "\n",
    "Bron: https://iq.opengenus.org/naive-bayes-on-tf-idf-vectorized-matrix/"
   ]
  },
  {
   "cell_type": "code",
   "execution_count": 1,
   "id": "f72c64a8-41c4-49a5-8f0b-ab9bf1b31647",
   "metadata": {},
   "outputs": [],
   "source": [
    "from sklearn.feature_extraction.text import CountVectorizer, TfidfVectorizer\n",
    "from sklearn.model_selection import train_test_split\n",
    "from sklearn.naive_bayes import MultinomialNB\n",
    "from sklearn import metrics\n",
    "\n",
    "import matplotlib.pyplot as plt\n",
    "import pandas as pd\n",
    "import numpy as np"
   ]
  },
  {
   "cell_type": "code",
   "execution_count": 2,
   "id": "446f5fea-06a9-4a48-94e0-a8adaecbb628",
   "metadata": {},
   "outputs": [],
   "source": [
    "df_text = pd.read_csv(\"../data/aapl_us_equities_news_proc_text.csv\")"
   ]
  },
  {
   "cell_type": "markdown",
   "id": "a36b5829-6331-42d9-a99d-c665b781b538",
   "metadata": {},
   "source": [
    "## 1.1 Split data"
   ]
  },
  {
   "cell_type": "code",
   "execution_count": 3,
   "id": "478fdea2-5235-4cd9-8c11-1f33ff9a138f",
   "metadata": {},
   "outputs": [],
   "source": [
    "X_train, X_test, y_train, y_test = train_test_split(df_text[\"text\"], df_text[\"target\"], random_state=42)"
   ]
  },
  {
   "cell_type": "markdown",
   "id": "dc1f4b39-0a25-47ff-b87a-0929ea9a4939",
   "metadata": {},
   "source": [
    "## 1.2 Count Vectorizer"
   ]
  },
  {
   "cell_type": "code",
   "execution_count": 4,
   "id": "1f6fb885-117e-4574-bc9e-d69c05aecff6",
   "metadata": {},
   "outputs": [],
   "source": [
    "ct_vectorizer = CountVectorizer() # Mooiere verdeling, slechtere accuracy"
   ]
  },
  {
   "cell_type": "markdown",
   "id": "0b0a0591-55df-47c9-9464-5377fb413e00",
   "metadata": {},
   "source": [
    "### 1.2.1 Transform data"
   ]
  },
  {
   "cell_type": "code",
   "execution_count": 5,
   "id": "a94f1549-6880-42a0-8dea-1cf0667e2124",
   "metadata": {},
   "outputs": [],
   "source": [
    "X_train_ct = ct_vectorizer.fit_transform(X_train)\n",
    "X_test_ct = ct_vectorizer.transform(X_test)"
   ]
  },
  {
   "cell_type": "markdown",
   "id": "92046589-2fb4-498a-803d-c33f8605dea5",
   "metadata": {},
   "source": [
    "### 1.2.2 Train classifier"
   ]
  },
  {
   "cell_type": "code",
   "execution_count": 6,
   "id": "4dceb25b-a99f-4e16-b572-3dfd194e6001",
   "metadata": {},
   "outputs": [
    {
     "data": {
      "text/html": [
       "<style>#sk-container-id-1 {color: black;background-color: white;}#sk-container-id-1 pre{padding: 0;}#sk-container-id-1 div.sk-toggleable {background-color: white;}#sk-container-id-1 label.sk-toggleable__label {cursor: pointer;display: block;width: 100%;margin-bottom: 0;padding: 0.3em;box-sizing: border-box;text-align: center;}#sk-container-id-1 label.sk-toggleable__label-arrow:before {content: \"▸\";float: left;margin-right: 0.25em;color: #696969;}#sk-container-id-1 label.sk-toggleable__label-arrow:hover:before {color: black;}#sk-container-id-1 div.sk-estimator:hover label.sk-toggleable__label-arrow:before {color: black;}#sk-container-id-1 div.sk-toggleable__content {max-height: 0;max-width: 0;overflow: hidden;text-align: left;background-color: #f0f8ff;}#sk-container-id-1 div.sk-toggleable__content pre {margin: 0.2em;color: black;border-radius: 0.25em;background-color: #f0f8ff;}#sk-container-id-1 input.sk-toggleable__control:checked~div.sk-toggleable__content {max-height: 200px;max-width: 100%;overflow: auto;}#sk-container-id-1 input.sk-toggleable__control:checked~label.sk-toggleable__label-arrow:before {content: \"▾\";}#sk-container-id-1 div.sk-estimator input.sk-toggleable__control:checked~label.sk-toggleable__label {background-color: #d4ebff;}#sk-container-id-1 div.sk-label input.sk-toggleable__control:checked~label.sk-toggleable__label {background-color: #d4ebff;}#sk-container-id-1 input.sk-hidden--visually {border: 0;clip: rect(1px 1px 1px 1px);clip: rect(1px, 1px, 1px, 1px);height: 1px;margin: -1px;overflow: hidden;padding: 0;position: absolute;width: 1px;}#sk-container-id-1 div.sk-estimator {font-family: monospace;background-color: #f0f8ff;border: 1px dotted black;border-radius: 0.25em;box-sizing: border-box;margin-bottom: 0.5em;}#sk-container-id-1 div.sk-estimator:hover {background-color: #d4ebff;}#sk-container-id-1 div.sk-parallel-item::after {content: \"\";width: 100%;border-bottom: 1px solid gray;flex-grow: 1;}#sk-container-id-1 div.sk-label:hover label.sk-toggleable__label {background-color: #d4ebff;}#sk-container-id-1 div.sk-serial::before {content: \"\";position: absolute;border-left: 1px solid gray;box-sizing: border-box;top: 0;bottom: 0;left: 50%;z-index: 0;}#sk-container-id-1 div.sk-serial {display: flex;flex-direction: column;align-items: center;background-color: white;padding-right: 0.2em;padding-left: 0.2em;position: relative;}#sk-container-id-1 div.sk-item {position: relative;z-index: 1;}#sk-container-id-1 div.sk-parallel {display: flex;align-items: stretch;justify-content: center;background-color: white;position: relative;}#sk-container-id-1 div.sk-item::before, #sk-container-id-1 div.sk-parallel-item::before {content: \"\";position: absolute;border-left: 1px solid gray;box-sizing: border-box;top: 0;bottom: 0;left: 50%;z-index: -1;}#sk-container-id-1 div.sk-parallel-item {display: flex;flex-direction: column;z-index: 1;position: relative;background-color: white;}#sk-container-id-1 div.sk-parallel-item:first-child::after {align-self: flex-end;width: 50%;}#sk-container-id-1 div.sk-parallel-item:last-child::after {align-self: flex-start;width: 50%;}#sk-container-id-1 div.sk-parallel-item:only-child::after {width: 0;}#sk-container-id-1 div.sk-dashed-wrapped {border: 1px dashed gray;margin: 0 0.4em 0.5em 0.4em;box-sizing: border-box;padding-bottom: 0.4em;background-color: white;}#sk-container-id-1 div.sk-label label {font-family: monospace;font-weight: bold;display: inline-block;line-height: 1.2em;}#sk-container-id-1 div.sk-label-container {text-align: center;}#sk-container-id-1 div.sk-container {/* jupyter's `normalize.less` sets `[hidden] { display: none; }` but bootstrap.min.css set `[hidden] { display: none !important; }` so we also need the `!important` here to be able to override the default hidden behavior on the sphinx rendered scikit-learn.org. See: https://github.com/scikit-learn/scikit-learn/issues/21755 */display: inline-block !important;position: relative;}#sk-container-id-1 div.sk-text-repr-fallback {display: none;}</style><div id=\"sk-container-id-1\" class=\"sk-top-container\"><div class=\"sk-text-repr-fallback\"><pre>MultinomialNB()</pre><b>In a Jupyter environment, please rerun this cell to show the HTML representation or trust the notebook. <br />On GitHub, the HTML representation is unable to render, please try loading this page with nbviewer.org.</b></div><div class=\"sk-container\" hidden><div class=\"sk-item\"><div class=\"sk-estimator sk-toggleable\"><input class=\"sk-toggleable__control sk-hidden--visually\" id=\"sk-estimator-id-1\" type=\"checkbox\" checked><label for=\"sk-estimator-id-1\" class=\"sk-toggleable__label sk-toggleable__label-arrow\">MultinomialNB</label><div class=\"sk-toggleable__content\"><pre>MultinomialNB()</pre></div></div></div></div></div>"
      ],
      "text/plain": [
       "MultinomialNB()"
      ]
     },
     "execution_count": 6,
     "metadata": {},
     "output_type": "execute_result"
    }
   ],
   "source": [
    "naive_bayes_classifier = MultinomialNB()\n",
    "naive_bayes_classifier.fit(X_train_ct, y_train)"
   ]
  },
  {
   "cell_type": "markdown",
   "id": "b2f03c18-a289-40c7-aa6c-78045bb9f4b3",
   "metadata": {},
   "source": [
    "### 1.2.3 Evaluate classifier"
   ]
  },
  {
   "cell_type": "code",
   "execution_count": 7,
   "id": "c789e1c8-9c4b-4039-8ee8-e47162b3cdd4",
   "metadata": {},
   "outputs": [],
   "source": [
    "y_test_pred = naive_bayes_classifier.predict(X_test_ct)"
   ]
  },
  {
   "cell_type": "code",
   "execution_count": 8,
   "id": "83a07a63-9d18-48ee-90f5-d6920ea695bf",
   "metadata": {},
   "outputs": [
    {
     "name": "stdout",
     "output_type": "stream",
     "text": [
      "Accuracy: 0.446\n"
     ]
    }
   ],
   "source": [
    "print(\"Accuracy: %0.3f\" % metrics.accuracy_score(y_test, y_test_pred))"
   ]
  },
  {
   "cell_type": "code",
   "execution_count": 9,
   "id": "9edf16f5-034f-4854-895f-71f4b1aded11",
   "metadata": {},
   "outputs": [
    {
     "name": "stdout",
     "output_type": "stream",
     "text": [
      "Report:\n",
      "              precision    recall  f1-score   support\n",
      "\n",
      "    Positive       0.44      0.83      0.57       196\n",
      "    Negative       0.48      0.13      0.20       239\n",
      "\n",
      "    accuracy                           0.45       435\n",
      "   macro avg       0.46      0.48      0.39       435\n",
      "weighted avg       0.46      0.45      0.37       435\n",
      "\n"
     ]
    }
   ],
   "source": [
    "print(\"Report:\")\n",
    "print(metrics.classification_report(y_test, y_test_pred, target_names = [\"Positive\", \"Negative\"]))"
   ]
  },
  {
   "cell_type": "code",
   "execution_count": 10,
   "id": "50a9e5b6-dbee-4a66-9cae-8e5f0086c073",
   "metadata": {},
   "outputs": [
    {
     "name": "stdout",
     "output_type": "stream",
     "text": [
      "Confusion Matrix:\n",
      "[[163  33]\n",
      " [208  31]]\n"
     ]
    }
   ],
   "source": [
    "print(\"Confusion Matrix:\")\n",
    "print(metrics.confusion_matrix(y_test, y_test_pred))"
   ]
  },
  {
   "cell_type": "markdown",
   "id": "0723f898-9bc6-400e-863d-ab5675f9790a",
   "metadata": {},
   "source": [
    "## 1.3 TF-IDF Vectorizer"
   ]
  },
  {
   "cell_type": "code",
   "execution_count": 11,
   "id": "318f5995-4cef-42c8-abbe-9de5ce42b9bb",
   "metadata": {},
   "outputs": [],
   "source": [
    "tf_vectorizer = TfidfVectorizer() # Alles wordt negatief predict"
   ]
  },
  {
   "cell_type": "markdown",
   "id": "01ad2544-e170-4231-9b6f-8746e6bb2358",
   "metadata": {},
   "source": [
    "### 1.3.1 Transform data"
   ]
  },
  {
   "cell_type": "code",
   "execution_count": 12,
   "id": "484ab1dd-1247-4373-af51-2b741d6b747d",
   "metadata": {},
   "outputs": [],
   "source": [
    "X_train_tf = tf_vectorizer.fit_transform(X_train)\n",
    "X_test_tf = tf_vectorizer.transform(X_test)"
   ]
  },
  {
   "cell_type": "markdown",
   "id": "115b15c0-cba6-46c1-b697-98d3a6c4fd85",
   "metadata": {},
   "source": [
    "### 1.3.2 Train classifier"
   ]
  },
  {
   "cell_type": "code",
   "execution_count": 13,
   "id": "9abe70d4-b41e-4135-b64c-5260a4a3e2b6",
   "metadata": {},
   "outputs": [
    {
     "data": {
      "text/html": [
       "<style>#sk-container-id-2 {color: black;background-color: white;}#sk-container-id-2 pre{padding: 0;}#sk-container-id-2 div.sk-toggleable {background-color: white;}#sk-container-id-2 label.sk-toggleable__label {cursor: pointer;display: block;width: 100%;margin-bottom: 0;padding: 0.3em;box-sizing: border-box;text-align: center;}#sk-container-id-2 label.sk-toggleable__label-arrow:before {content: \"▸\";float: left;margin-right: 0.25em;color: #696969;}#sk-container-id-2 label.sk-toggleable__label-arrow:hover:before {color: black;}#sk-container-id-2 div.sk-estimator:hover label.sk-toggleable__label-arrow:before {color: black;}#sk-container-id-2 div.sk-toggleable__content {max-height: 0;max-width: 0;overflow: hidden;text-align: left;background-color: #f0f8ff;}#sk-container-id-2 div.sk-toggleable__content pre {margin: 0.2em;color: black;border-radius: 0.25em;background-color: #f0f8ff;}#sk-container-id-2 input.sk-toggleable__control:checked~div.sk-toggleable__content {max-height: 200px;max-width: 100%;overflow: auto;}#sk-container-id-2 input.sk-toggleable__control:checked~label.sk-toggleable__label-arrow:before {content: \"▾\";}#sk-container-id-2 div.sk-estimator input.sk-toggleable__control:checked~label.sk-toggleable__label {background-color: #d4ebff;}#sk-container-id-2 div.sk-label input.sk-toggleable__control:checked~label.sk-toggleable__label {background-color: #d4ebff;}#sk-container-id-2 input.sk-hidden--visually {border: 0;clip: rect(1px 1px 1px 1px);clip: rect(1px, 1px, 1px, 1px);height: 1px;margin: -1px;overflow: hidden;padding: 0;position: absolute;width: 1px;}#sk-container-id-2 div.sk-estimator {font-family: monospace;background-color: #f0f8ff;border: 1px dotted black;border-radius: 0.25em;box-sizing: border-box;margin-bottom: 0.5em;}#sk-container-id-2 div.sk-estimator:hover {background-color: #d4ebff;}#sk-container-id-2 div.sk-parallel-item::after {content: \"\";width: 100%;border-bottom: 1px solid gray;flex-grow: 1;}#sk-container-id-2 div.sk-label:hover label.sk-toggleable__label {background-color: #d4ebff;}#sk-container-id-2 div.sk-serial::before {content: \"\";position: absolute;border-left: 1px solid gray;box-sizing: border-box;top: 0;bottom: 0;left: 50%;z-index: 0;}#sk-container-id-2 div.sk-serial {display: flex;flex-direction: column;align-items: center;background-color: white;padding-right: 0.2em;padding-left: 0.2em;position: relative;}#sk-container-id-2 div.sk-item {position: relative;z-index: 1;}#sk-container-id-2 div.sk-parallel {display: flex;align-items: stretch;justify-content: center;background-color: white;position: relative;}#sk-container-id-2 div.sk-item::before, #sk-container-id-2 div.sk-parallel-item::before {content: \"\";position: absolute;border-left: 1px solid gray;box-sizing: border-box;top: 0;bottom: 0;left: 50%;z-index: -1;}#sk-container-id-2 div.sk-parallel-item {display: flex;flex-direction: column;z-index: 1;position: relative;background-color: white;}#sk-container-id-2 div.sk-parallel-item:first-child::after {align-self: flex-end;width: 50%;}#sk-container-id-2 div.sk-parallel-item:last-child::after {align-self: flex-start;width: 50%;}#sk-container-id-2 div.sk-parallel-item:only-child::after {width: 0;}#sk-container-id-2 div.sk-dashed-wrapped {border: 1px dashed gray;margin: 0 0.4em 0.5em 0.4em;box-sizing: border-box;padding-bottom: 0.4em;background-color: white;}#sk-container-id-2 div.sk-label label {font-family: monospace;font-weight: bold;display: inline-block;line-height: 1.2em;}#sk-container-id-2 div.sk-label-container {text-align: center;}#sk-container-id-2 div.sk-container {/* jupyter's `normalize.less` sets `[hidden] { display: none; }` but bootstrap.min.css set `[hidden] { display: none !important; }` so we also need the `!important` here to be able to override the default hidden behavior on the sphinx rendered scikit-learn.org. See: https://github.com/scikit-learn/scikit-learn/issues/21755 */display: inline-block !important;position: relative;}#sk-container-id-2 div.sk-text-repr-fallback {display: none;}</style><div id=\"sk-container-id-2\" class=\"sk-top-container\"><div class=\"sk-text-repr-fallback\"><pre>MultinomialNB()</pre><b>In a Jupyter environment, please rerun this cell to show the HTML representation or trust the notebook. <br />On GitHub, the HTML representation is unable to render, please try loading this page with nbviewer.org.</b></div><div class=\"sk-container\" hidden><div class=\"sk-item\"><div class=\"sk-estimator sk-toggleable\"><input class=\"sk-toggleable__control sk-hidden--visually\" id=\"sk-estimator-id-2\" type=\"checkbox\" checked><label for=\"sk-estimator-id-2\" class=\"sk-toggleable__label sk-toggleable__label-arrow\">MultinomialNB</label><div class=\"sk-toggleable__content\"><pre>MultinomialNB()</pre></div></div></div></div></div>"
      ],
      "text/plain": [
       "MultinomialNB()"
      ]
     },
     "execution_count": 13,
     "metadata": {},
     "output_type": "execute_result"
    }
   ],
   "source": [
    "naive_bayes_classifier = MultinomialNB()\n",
    "naive_bayes_classifier.fit(X_train_tf, y_train)"
   ]
  },
  {
   "cell_type": "markdown",
   "id": "c13ca183-ff7b-4e0c-8792-3eee5b48c4fc",
   "metadata": {},
   "source": [
    "### 1.3.3 Evaluate classifier"
   ]
  },
  {
   "cell_type": "code",
   "execution_count": 14,
   "id": "63301310-5863-4f42-a816-1b298c58650a",
   "metadata": {},
   "outputs": [],
   "source": [
    "y_test_pred = naive_bayes_classifier.predict(X_test_tf)"
   ]
  },
  {
   "cell_type": "code",
   "execution_count": 15,
   "id": "01258d5f-61a4-446b-8d17-3c9772c4055f",
   "metadata": {},
   "outputs": [
    {
     "name": "stdout",
     "output_type": "stream",
     "text": [
      "Accuracy: 0.547\n"
     ]
    }
   ],
   "source": [
    "print(\"Accuracy: %0.3f\" % metrics.accuracy_score(y_test, y_test_pred))"
   ]
  },
  {
   "cell_type": "code",
   "execution_count": 16,
   "id": "ebcfb3dc-6425-436e-8353-2bff7d0092bb",
   "metadata": {},
   "outputs": [
    {
     "name": "stdout",
     "output_type": "stream",
     "text": [
      "Report:\n",
      "              precision    recall  f1-score   support\n",
      "\n",
      "    Positive       0.48      0.06      0.10       196\n",
      "    Negative       0.55      0.95      0.70       239\n",
      "\n",
      "    accuracy                           0.55       435\n",
      "   macro avg       0.51      0.50      0.40       435\n",
      "weighted avg       0.52      0.55      0.43       435\n",
      "\n"
     ]
    }
   ],
   "source": [
    "print(\"Report:\")\n",
    "print(metrics.classification_report(y_test, y_test_pred, target_names = [\"Positive\", \"Negative\"]))"
   ]
  },
  {
   "cell_type": "code",
   "execution_count": 17,
   "id": "157d1514-7e12-45ef-b9c5-061913dda2b3",
   "metadata": {},
   "outputs": [
    {
     "name": "stdout",
     "output_type": "stream",
     "text": [
      "Confusion Matrix:\n",
      "[[ 11 185]\n",
      " [ 12 227]]\n"
     ]
    }
   ],
   "source": [
    "print(\"Confusion Matrix:\")\n",
    "print(metrics.confusion_matrix(y_test, y_test_pred))"
   ]
  },
  {
   "cell_type": "markdown",
   "id": "d8195350-f4c6-4946-aab6-59ef70885c62",
   "metadata": {},
   "source": [
    "### 1.3.4 Important words"
   ]
  },
  {
   "cell_type": "code",
   "execution_count": 18,
   "id": "c6646580-e5f0-414e-8768-f2852e5ea471",
   "metadata": {},
   "outputs": [
    {
     "name": "stdout",
     "output_type": "stream",
     "text": [
      "Important Words:  ['apple' 'charge' 'say' 'electric' 'chip' 'new' 'hike' 'generation' 'high'\n",
      " 'eu' 'tensor' 'company' 'fund' 'home' 'saft' 'wave' 'advanced'\n",
      " 'intangible' 'datum' 'rate']\n"
     ]
    }
   ],
   "source": [
    "# print(\"Woorden\", tf_vectorizer.get_feature_names_out())\n",
    "\n",
    "feature_array = np.array(tf_vectorizer.get_feature_names_out())\n",
    "tf_sorting = np.argsort(X_test_tf.toarray()).flatten()[::-1]\n",
    "\n",
    "n = 20\n",
    "top_n = feature_array[tf_sorting][:n]\n",
    "\n",
    "print(\"Important Words: \", top_n)"
   ]
  }
 ],
 "metadata": {
  "kernelspec": {
   "display_name": "Python 3 (ipykernel)",
   "language": "python",
   "name": "python3"
  },
  "language_info": {
   "codemirror_mode": {
    "name": "ipython",
    "version": 3
   },
   "file_extension": ".py",
   "mimetype": "text/x-python",
   "name": "python",
   "nbconvert_exporter": "python",
   "pygments_lexer": "ipython3",
   "version": "3.8.10"
  }
 },
 "nbformat": 4,
 "nbformat_minor": 5
}
