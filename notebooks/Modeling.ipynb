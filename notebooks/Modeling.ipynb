{
 "cells": [
  {
   "cell_type": "markdown",
   "id": "6ef3d281-c272-452d-8b56-053dfa1e738d",
   "metadata": {},
   "source": [
    "# 1. Modeling\n",
    "\n",
    "Bron: https://iq.opengenus.org/naive-bayes-on-tf-idf-vectorized-matrix/"
   ]
  },
  {
   "cell_type": "code",
   "execution_count": 11,
   "id": "f72c64a8-41c4-49a5-8f0b-ab9bf1b31647",
   "metadata": {},
   "outputs": [],
   "source": [
    "from pprint import pprint\n",
    "\n",
    "# Vectorizers\n",
    "from sklearn.feature_extraction.text import CountVectorizer, HashingVectorizer, TfidfVectorizer\n",
    "\n",
    "# Classifiers\n",
    "from sklearn.ensemble import AdaBoostClassifier, RandomForestClassifier\n",
    "from sklearn.linear_model import LogisticRegression, SGDClassifier\n",
    "from sklearn.neighbors import KNeighborsClassifier\n",
    "from sklearn.neural_network import MLPClassifier\n",
    "from sklearn.naive_bayes import MultinomialNB\n",
    "from sklearn.svm import SVC\n",
    "\n",
    "from sklearn.model_selection import GridSearchCV, train_test_split\n",
    "from sklearn.pipeline import Pipeline\n",
    "from sklearn import metrics\n",
    "\n",
    "from tqdm import tqdm\n",
    "\n",
    "import matplotlib.pyplot as plt\n",
    "import pandas as pd\n",
    "import numpy as np"
   ]
  },
  {
   "cell_type": "code",
   "execution_count": 2,
   "id": "276b5210-6fd5-4b60-8d25-4d5b192e2fa9",
   "metadata": {},
   "outputs": [],
   "source": [
    "RANDOM_SEED = 42"
   ]
  },
  {
   "cell_type": "code",
   "execution_count": 3,
   "id": "5630270c-09da-45e9-9989-221b92207ce8",
   "metadata": {},
   "outputs": [],
   "source": [
    "np.random.seed(RANDOM_SEED)"
   ]
  },
  {
   "cell_type": "markdown",
   "id": "e80dc452-5897-4339-bd04-c8292d0dcee2",
   "metadata": {},
   "source": [
    "## 1.1 Load data"
   ]
  },
  {
   "cell_type": "code",
   "execution_count": 4,
   "id": "446f5fea-06a9-4a48-94e0-a8adaecbb628",
   "metadata": {},
   "outputs": [],
   "source": [
    "df_text = pd.read_csv(\"../data/aapl_us_equities_news_proc_text.csv\")"
   ]
  },
  {
   "cell_type": "markdown",
   "id": "a36b5829-6331-42d9-a99d-c665b781b538",
   "metadata": {},
   "source": [
    "## 1.2 Split data"
   ]
  },
  {
   "cell_type": "code",
   "execution_count": 5,
   "id": "478fdea2-5235-4cd9-8c11-1f33ff9a138f",
   "metadata": {},
   "outputs": [],
   "source": [
    "X_train, X_test, y_train, y_test = train_test_split(df_text[\"text\"], df_text[\"target\"], stratify=df_text[\"target\"], random_state=RANDOM_SEED)"
   ]
  },
  {
   "cell_type": "markdown",
   "id": "1115e194-9b39-4e68-90c2-50dce43847e7",
   "metadata": {
    "tags": []
   },
   "source": [
    "## 1.3 Build pipeline\n",
    "\n",
    "Bron: https://scikit-learn.org/stable/tutorial/statistical_inference/putting_together.html\n",
    "\n",
    "Bron: https://scikit-learn.org/stable/modules/generated/sklearn.model_selection.GridSearchCV.html\n",
    "\n",
    "Bron: https://scikit-learn.org/stable/modules/generated/sklearn.feature_extraction.text.CountVectorizer.html\n",
    "\n",
    "Bron: https://scikit-learn.org/stable/modules/generated/sklearn.feature_extraction.text.TfidfVectorizer.html\n",
    "\n",
    "Bron: https://scikit-learn.org/stable/tutorial/text_analytics/working_with_text_data.html"
   ]
  },
  {
   "cell_type": "code",
   "execution_count": 6,
   "id": "30e91073-fdd6-44b7-8280-99751fe1d0d7",
   "metadata": {},
   "outputs": [],
   "source": [
    "VECTORIZERS = [\n",
    "    (\"count\", CountVectorizer()),\n",
    "    (\"tfidf\", TfidfVectorizer()),\n",
    "]\n",
    "\n",
    "CLASSIFIERS = [\n",
    "    (\"ada\", AdaBoostClassifier(random_state=RANDOM_SEEDOM_SEED)),\n",
    "    (\"knn\", KNeighborsClassifier()),\n",
    "    (\"lr\", LogisticRegression(random_state=RANDOM_SEED)),\n",
    "    (\"mlp\", MLPClassifier(random_state=RANDOM_SEED)),\n",
    "    (\"nb\", MultinomialNB()),\n",
    "    (\"rf\", RandomForestClassifier(random_state=RANDOM_SEED)),\n",
    "    (\"sgd\", SGDClassifier(random_state=RANDOM_SEED)),\n",
    "    (\"svc\", SVC(random_state=RANDOM_SEED)),\n",
    "]\n",
    "\n",
    "PARAMETERS = {\n",
    "    # Count\n",
    "    \"count_vec__ngram_range\": [(1, 1)], # Default: (1, 1)\n",
    "    \"count_vec__min_df\": [1],           # Default: 1\n",
    "    \"count_vec__max_df\": [1.0],         # Default: 1.0\n",
    "    \"count_vec__max_features\": [None],  # Default: None\n",
    "\n",
    "    # TFIDF\n",
    "    \"tfidf_vec__ngram_range\": [(1, 1)], # Default: (1, 1)\n",
    "    \"tfidf_vec__min_df\": [1],           # Default: 1\n",
    "    \"tfidf_vec__max_df\": [1.0],         # Default: 1.0\n",
    "    \"tfidf_vec__max_features\": [None],  # Default: None\n",
    "    \"tfidf_vec__norm\": [\"l2\"],          # Default: l2\n",
    "    \"tfidf_vec__use_idf\": [True],       # Default: True\n",
    "    \"tfidf_vec__smooth_idf\": [True],    # Default: True\n",
    "    \"tfidf_vec__sublinear_tf\": [False], # Default: False\n",
    "}"
   ]
  },
  {
   "cell_type": "code",
   "execution_count": 7,
   "id": "4465baf7-fa61-4270-9a05-d4396fcb31c6",
   "metadata": {
    "tags": []
   },
   "outputs": [
    {
     "name": "stderr",
     "output_type": "stream",
     "text": [
      " 25%|████████████████████████████████████▎                                                                                                            | 2/8 [00:13<00:37,  6.24s/it]/home/tomdewildt/Projects/nlp/venv/lib/python3.8/site-packages/sklearn/linear_model/_logistic.py:444: ConvergenceWarning: lbfgs failed to converge (status=1):\n",
      "STOP: TOTAL NO. of ITERATIONS REACHED LIMIT.\n",
      "\n",
      "Increase the number of iterations (max_iter) or scale the data as shown in:\n",
      "    https://scikit-learn.org/stable/modules/preprocessing.html\n",
      "Please also refer to the documentation for alternative solver options:\n",
      "    https://scikit-learn.org/stable/modules/linear_model.html#logistic-regression\n",
      "  n_iter_i = _check_optimize_result(\n",
      "100%|█████████████████████████████████████████████████████████████████████████████████████████████████████████████████████████████████████████████████| 8/8 [02:19<00:00, 17.44s/it]\n",
      "100%|█████████████████████████████████████████████████████████████████████████████████████████████████████████████████████████████████████████████████| 8/8 [03:20<00:00, 25.06s/it]"
     ]
    },
    {
     "name": "stdout",
     "output_type": "stream",
     "text": [
      "CPU times: user 5min, sys: 14min 21s, total: 19min 22s\n",
      "Wall time: 5min 39s\n"
     ]
    },
    {
     "name": "stderr",
     "output_type": "stream",
     "text": [
      "\n"
     ]
    }
   ],
   "source": [
    "%%time\n",
    "results = {}\n",
    "\n",
    "for vec_id, vec in VECTORIZERS:\n",
    "    for clf_id, clf in tqdm(CLASSIFIERS):\n",
    "        # Create pipeline\n",
    "        pipeline = Pipeline([\n",
    "            (f\"{vec_id}_vec\", vec),\n",
    "            (f\"{clf_id}_clf\", clf),\n",
    "        ])\n",
    "\n",
    "        # Setup search\n",
    "        grid_parameters = {key: value for key, value in PARAMETERS.items() if vec_id in key or clf_id in key}\n",
    "        grid_search = GridSearchCV(\n",
    "            pipeline,\n",
    "            grid_parameters,\n",
    "            scoring=\"f1\",\n",
    "            return_train_score=True,\n",
    "            cv=5,\n",
    "            n_jobs=-1,\n",
    "        )\n",
    "\n",
    "        # Train model\n",
    "        grid_search.fit(X_train, y_train)\n",
    "\n",
    "        # Evaluate model\n",
    "        test_score = grid_search.score(X_test, y_test)\n",
    "        \n",
    "        # Store results\n",
    "        idx = np.argmax(grid_search.cv_results_[\"mean_test_score\"])\n",
    "        \n",
    "        mean_train_score = grid_search.cv_results_[\"mean_train_score\"][idx]\n",
    "        std_train_score = grid_search.cv_results_[\"std_train_score\"][idx]\n",
    "        mean_val_score = grid_search.cv_results_[\"mean_test_score\"][idx]\n",
    "        std_val_score = grid_search.cv_results_[\"std_test_score\"][idx]\n",
    "        \n",
    "        results[f\"{vec_id}_vec\", f\"{clf_id}_clf\"] = {\n",
    "            \"mean_train_score\": mean_train_score,\n",
    "            \"std_train_score\": std_train_score,\n",
    "            \"mean_val_score\": mean_val_score,\n",
    "            \"std_val_score\": std_val_score,\n",
    "            \"test_score\": test_score,\n",
    "            \"params\": grid_search.best_params_,\n",
    "        }"
   ]
  },
  {
   "cell_type": "code",
   "execution_count": 16,
   "id": "735fcc6a-3caa-4cbf-9bac-5df6b4c3c149",
   "metadata": {},
   "outputs": [
    {
     "name": "stdout",
     "output_type": "stream",
     "text": [
      "--------------------------------------------------------------------------------------------------------------\n",
      "\n",
      "Best Vectorizer: tfidf_vec\n",
      "Best Classifier: nb_clf\n",
      "\n",
      "Best Params:\n",
      "{'tfidf_vec__max_df': 1.0,\n",
      " 'tfidf_vec__max_features': None,\n",
      " 'tfidf_vec__min_df': 1,\n",
      " 'tfidf_vec__ngram_range': (1, 1),\n",
      " 'tfidf_vec__norm': 'l2',\n",
      " 'tfidf_vec__smooth_idf': True,\n",
      " 'tfidf_vec__sublinear_tf': False,\n",
      " 'tfidf_vec__use_idf': True}\n",
      "\n",
      "Mean Train Score: 0.7159525841102482\n",
      "Std Train Score: 0.0036810131457144166\n",
      "Mean Validation Score: 0.6861708884303349\n",
      "Std Validation Score: 0.002898597522594159\n",
      "\n",
      "Test Score: 0.6869300911854103\n",
      "\n",
      "--------------------------------------------------------------------------------------------------------------\n"
     ]
    }
   ],
   "source": [
    "best_score = -1.00\n",
    "best_vec_id = None\n",
    "best_clf_id = None\n",
    "best_values = None\n",
    "\n",
    "for (vec_id, clf_id), values in results.items():\n",
    "    score = values[\"test_score\"]\n",
    "    if score > best_score:\n",
    "        best_score = score\n",
    "        best_vec_id = vec_id\n",
    "        best_clf_id = clf_id\n",
    "        best_values = values\n",
    "\n",
    "print(\"-\" * 110 + \"\\n\")\n",
    "print(f\"Best Vectorizer: {best_vec_id}\")\n",
    "print(f\"Best Classifier: {best_clf_id}\" + \"\\n\")\n",
    "print(f\"Best Params:\")\n",
    "pprint(best_values[\"params\"])\n",
    "print(\"\")\n",
    "print(f\"Mean Train Score: {best_values['mean_train_score']}\")\n",
    "print(f\"Std Train Score: {best_values['std_train_score']}\")\n",
    "print(f\"Mean Validation Score: {best_values['mean_val_score']}\")\n",
    "print(f\"Std Validation Score: {best_values['std_val_score']}\" + \"\\n\")\n",
    "print(f\"Test Score: {best_values['test_score']}\")\n",
    "print(\"\\n\" + \"-\" * 110)"
   ]
  }
 ],
 "metadata": {
  "kernelspec": {
   "display_name": "Python 3 (ipykernel)",
   "language": "python",
   "name": "python3"
  },
  "language_info": {
   "codemirror_mode": {
    "name": "ipython",
    "version": 3
   },
   "file_extension": ".py",
   "mimetype": "text/x-python",
   "name": "python",
   "nbconvert_exporter": "python",
   "pygments_lexer": "ipython3",
   "version": "3.8.10"
  }
 },
 "nbformat": 4,
 "nbformat_minor": 5
}
